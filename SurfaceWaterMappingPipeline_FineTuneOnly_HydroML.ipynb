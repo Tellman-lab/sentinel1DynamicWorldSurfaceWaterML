{
  "nbformat": 4,
  "nbformat_minor": 0,
  "metadata": {
    "colab": {
      "provenance": [],
      "gpuType": "T4",
      "machine_shape": "hm"
    },
    "kernelspec": {
      "name": "python3",
      "display_name": "Python 3"
    },
    "language_info": {
      "name": "python"
    },
    "accelerator": "GPU"
  },
  "cells": [
    {
      "cell_type": "markdown",
      "source": [
        "##Prepare Notebook"
      ],
      "metadata": {
        "id": "zaDQI1EX53It"
      }
    },
    {
      "cell_type": "code",
      "execution_count": null,
      "metadata": {
        "id": "Taf0xf_b65YE"
      },
      "outputs": [],
      "source": [
        "import ee\n",
        "import geemap\n",
        "from osgeo import gdal, ogr"
      ]
    },
    {
      "cell_type": "code",
      "source": [
        "!pip install geedim --quiet"
      ],
      "metadata": {
        "colab": {
          "base_uri": "https://localhost:8080/",
          "height": 52
        },
        "id": "OzdfYvT5-F3m",
        "outputId": "e33497e1-c497-43c2-a7ec-eaef3fd01a52"
      },
      "execution_count": null,
      "outputs": [
        {
          "output_type": "display_data",
          "data": {
            "text/plain": [
              "<IPython.core.display.HTML object>"
            ],
            "text/html": [
              "\n",
              "            <style>\n",
              "                .geemap-dark {\n",
              "                    --jp-widgets-color: white;\n",
              "                    --jp-widgets-label-color: white;\n",
              "                    --jp-ui-font-color1: white;\n",
              "                    --jp-layout-color2: #454545;\n",
              "                    background-color: #383838;\n",
              "                }\n",
              "\n",
              "                .geemap-dark .jupyter-button {\n",
              "                    --jp-layout-color3: #383838;\n",
              "                }\n",
              "\n",
              "                .geemap-colab {\n",
              "                    background-color: var(--colab-primary-surface-color, white);\n",
              "                }\n",
              "\n",
              "                .geemap-colab .jupyter-button {\n",
              "                    --jp-layout-color3: var(--colab-primary-surface-color, white);\n",
              "                }\n",
              "            </style>\n",
              "            "
            ]
          },
          "metadata": {}
        },
        {
          "output_type": "stream",
          "name": "stdout",
          "text": [
            "\u001b[2K     \u001b[90m━━━━━━━━━━━━━━━━━━━━━━━━━━━━━━━━━━━━━━━━\u001b[0m \u001b[32m73.5/73.5 kB\u001b[0m \u001b[31m2.6 MB/s\u001b[0m eta \u001b[36m0:00:00\u001b[0m\n",
            "\u001b[2K     \u001b[90m━━━━━━━━━━━━━━━━━━━━━━━━━━━━━━━━━━━━━━━━\u001b[0m \u001b[32m21.5/21.5 MB\u001b[0m \u001b[31m69.4 MB/s\u001b[0m eta \u001b[36m0:00:00\u001b[0m\n",
            "\u001b[?25h"
          ]
        }
      ]
    },
    {
      "cell_type": "code",
      "source": [
        "!pip install rasterio --quiet"
      ],
      "metadata": {
        "colab": {
          "base_uri": "https://localhost:8080/",
          "height": 17
        },
        "id": "a9XI2Kb2tGNE",
        "outputId": "7150cd0e-b921-4921-b914-f102393d4b22"
      },
      "execution_count": null,
      "outputs": [
        {
          "output_type": "display_data",
          "data": {
            "text/plain": [
              "<IPython.core.display.HTML object>"
            ],
            "text/html": [
              "\n",
              "            <style>\n",
              "                .geemap-dark {\n",
              "                    --jp-widgets-color: white;\n",
              "                    --jp-widgets-label-color: white;\n",
              "                    --jp-ui-font-color1: white;\n",
              "                    --jp-layout-color2: #454545;\n",
              "                    background-color: #383838;\n",
              "                }\n",
              "\n",
              "                .geemap-dark .jupyter-button {\n",
              "                    --jp-layout-color3: #383838;\n",
              "                }\n",
              "\n",
              "                .geemap-colab {\n",
              "                    background-color: var(--colab-primary-surface-color, white);\n",
              "                }\n",
              "\n",
              "                .geemap-colab .jupyter-button {\n",
              "                    --jp-layout-color3: var(--colab-primary-surface-color, white);\n",
              "                }\n",
              "            </style>\n",
              "            "
            ]
          },
          "metadata": {}
        }
      ]
    },
    {
      "cell_type": "code",
      "source": [
        "from google.colab import drive\n",
        "drive.mount('/content/drive')"
      ],
      "metadata": {
        "colab": {
          "base_uri": "https://localhost:8080/",
          "height": 34
        },
        "id": "TvszU1H50Azk",
        "outputId": "9008c89d-5892-4946-f054-8b3d0511a494"
      },
      "execution_count": null,
      "outputs": [
        {
          "output_type": "display_data",
          "data": {
            "text/plain": [
              "<IPython.core.display.HTML object>"
            ],
            "text/html": [
              "\n",
              "            <style>\n",
              "                .geemap-dark {\n",
              "                    --jp-widgets-color: white;\n",
              "                    --jp-widgets-label-color: white;\n",
              "                    --jp-ui-font-color1: white;\n",
              "                    --jp-layout-color2: #454545;\n",
              "                    background-color: #383838;\n",
              "                }\n",
              "\n",
              "                .geemap-dark .jupyter-button {\n",
              "                    --jp-layout-color3: #383838;\n",
              "                }\n",
              "\n",
              "                .geemap-colab {\n",
              "                    background-color: var(--colab-primary-surface-color, white);\n",
              "                }\n",
              "\n",
              "                .geemap-colab .jupyter-button {\n",
              "                    --jp-layout-color3: var(--colab-primary-surface-color, white);\n",
              "                }\n",
              "            </style>\n",
              "            "
            ]
          },
          "metadata": {}
        },
        {
          "output_type": "stream",
          "name": "stdout",
          "text": [
            "Mounted at /content/drive\n"
          ]
        }
      ]
    },
    {
      "cell_type": "code",
      "source": [],
      "metadata": {
        "id": "HbnnsD6eWlD_"
      },
      "execution_count": null,
      "outputs": []
    },
    {
      "cell_type": "markdown",
      "source": [
        "##Setup the Deep Learning Model"
      ],
      "metadata": {
        "id": "cfPjobNcAtmC"
      }
    },
    {
      "cell_type": "markdown",
      "source": [
        "###Loading Libraries"
      ],
      "metadata": {
        "id": "6cfNClV2lKPd"
      }
    },
    {
      "cell_type": "code",
      "execution_count": null,
      "metadata": {
        "id": "mGscg4cY1jTt",
        "colab": {
          "base_uri": "https://localhost:8080/",
          "height": 17
        },
        "outputId": "1940d414-a841-4831-e46d-4defc91a0545"
      },
      "outputs": [
        {
          "output_type": "display_data",
          "data": {
            "text/plain": [
              "<IPython.core.display.HTML object>"
            ],
            "text/html": [
              "\n",
              "            <style>\n",
              "                .geemap-dark {\n",
              "                    --jp-widgets-color: white;\n",
              "                    --jp-widgets-label-color: white;\n",
              "                    --jp-ui-font-color1: white;\n",
              "                    --jp-layout-color2: #454545;\n",
              "                    background-color: #383838;\n",
              "                }\n",
              "\n",
              "                .geemap-dark .jupyter-button {\n",
              "                    --jp-layout-color3: #383838;\n",
              "                }\n",
              "\n",
              "                .geemap-colab {\n",
              "                    background-color: var(--colab-primary-surface-color, white);\n",
              "                }\n",
              "\n",
              "                .geemap-colab .jupyter-button {\n",
              "                    --jp-layout-color3: var(--colab-primary-surface-color, white);\n",
              "                }\n",
              "            </style>\n",
              "            "
            ]
          },
          "metadata": {}
        }
      ],
      "source": [
        "#Need to install fastai, PIL, typing, and rasterio\n",
        "\n",
        "from fastai.imports import *\n",
        "from fastai.torch_imports import *\n",
        "from packaging.version import parse\n",
        "from fastai.vision.all import *\n",
        "from fastcore.transform import Pipeline\n",
        "\n",
        "from fastai.data.block import CategoryBlock, DataBlock\n",
        "from fastai.data.core import Datasets\n",
        "from fastai.data.external import untar_data, URLs\n",
        "from fastai.data.transforms import Categorize, GrandparentSplitter, IntToFloatTensor, Normalize, RandomSplitter, ToTensor, parent_label\n",
        "\n",
        "from fastai.torch_core import to_device\n",
        "\n",
        "from fastai.vision.augment import aug_transforms, Resize, RandomResizedCrop, FlipItem\n",
        "from fastai.vision.data import ImageBlock, PILImage, get_image_files, imagenet_stats\n",
        "\n",
        "from PIL import Image\n",
        "from typing import Tuple\n",
        "\n",
        "import rasterio as rio\n",
        "from rasterio.warp import calculate_default_transform, reproject, Resampling\n",
        "from rasterio.merge import merge\n",
        "from collections import defaultdict\n",
        "import numpy as np\n",
        "import subprocess"
      ]
    },
    {
      "cell_type": "markdown",
      "source": [
        "###Load Training Dataset\n"
      ],
      "metadata": {
        "id": "MPotObfXlQgu"
      }
    },
    {
      "cell_type": "code",
      "execution_count": null,
      "metadata": {
        "id": "DDkI-zmK2ie5",
        "colab": {
          "base_uri": "https://localhost:8080/",
          "height": 17
        },
        "outputId": "5d28c260-8fb2-412d-baf3-b66b5b4d7e8c"
      },
      "outputs": [
        {
          "output_type": "display_data",
          "data": {
            "text/plain": [
              "<IPython.core.display.HTML object>"
            ],
            "text/html": [
              "\n",
              "            <style>\n",
              "                .geemap-dark {\n",
              "                    --jp-widgets-color: white;\n",
              "                    --jp-widgets-label-color: white;\n",
              "                    --jp-ui-font-color1: white;\n",
              "                    --jp-layout-color2: #454545;\n",
              "                    background-color: #383838;\n",
              "                }\n",
              "\n",
              "                .geemap-dark .jupyter-button {\n",
              "                    --jp-layout-color3: #383838;\n",
              "                }\n",
              "\n",
              "                .geemap-colab {\n",
              "                    background-color: var(--colab-primary-surface-color, white);\n",
              "                }\n",
              "\n",
              "                .geemap-colab .jupyter-button {\n",
              "                    --jp-layout-color3: var(--colab-primary-surface-color, white);\n",
              "                }\n",
              "            </style>\n",
              "            "
            ]
          },
          "metadata": {}
        }
      ],
      "source": [
        "#This is the subset of the main training dataset (provided)\n",
        "# urlTD = 'https://drive.google.com/uc?id=1GvcP1fr0ZNiPOqgL8aNm7xfXmCu0eTJK'\n",
        "# !gdown {urlTD}\n",
        "\n",
        "!unzip -q /content/drive/MyDrive/Workspace/FZ/S1DWdatasetTiny.zip"
      ]
    },
    {
      "cell_type": "code",
      "source": [
        "input_folder = '/content/S1DWdatasetTiny/images'\n",
        "output_folder = '/content/S1DWdatasetTiny/images'"
      ],
      "metadata": {
        "id": "EKEOCAQzUOu3",
        "colab": {
          "base_uri": "https://localhost:8080/",
          "height": 17
        },
        "outputId": "2492d9c9-e6ee-4053-bd05-01e4930a2a6b"
      },
      "execution_count": null,
      "outputs": [
        {
          "output_type": "display_data",
          "data": {
            "text/plain": [
              "<IPython.core.display.HTML object>"
            ],
            "text/html": [
              "\n",
              "            <style>\n",
              "                .geemap-dark {\n",
              "                    --jp-widgets-color: white;\n",
              "                    --jp-widgets-label-color: white;\n",
              "                    --jp-ui-font-color1: white;\n",
              "                    --jp-layout-color2: #454545;\n",
              "                    background-color: #383838;\n",
              "                }\n",
              "\n",
              "                .geemap-dark .jupyter-button {\n",
              "                    --jp-layout-color3: #383838;\n",
              "                }\n",
              "\n",
              "                .geemap-colab {\n",
              "                    background-color: var(--colab-primary-surface-color, white);\n",
              "                }\n",
              "\n",
              "                .geemap-colab .jupyter-button {\n",
              "                    --jp-layout-color3: var(--colab-primary-surface-color, white);\n",
              "                }\n",
              "            </style>\n",
              "            "
            ]
          },
          "metadata": {}
        }
      ]
    },
    {
      "cell_type": "code",
      "source": [
        "import os\n",
        "\n",
        "# Specify the directory\n",
        "input_folder = output_folder\n",
        "\n",
        "# Iterate over the files\n",
        "for filename in os.listdir(input_folder):\n",
        "    # If the filename contains 'S1'\n",
        "    if 'S1' in filename:\n",
        "        # Replace 'S1' with 'DW' in the filename\n",
        "        new_filename = filename.replace('S1', 'DW')\n",
        "        # Get full paths\n",
        "        old_file_path = os.path.join(input_folder, filename)\n",
        "        new_file_path = os.path.join(input_folder, new_filename)\n",
        "        # Rename the file\n",
        "        os.rename(old_file_path, new_file_path)\n"
      ],
      "metadata": {
        "id": "-n30KMtNUL0j",
        "colab": {
          "base_uri": "https://localhost:8080/",
          "height": 17
        },
        "outputId": "76bf0090-b1fb-4f26-fe5b-1dacaeb5c21b"
      },
      "execution_count": null,
      "outputs": [
        {
          "output_type": "display_data",
          "data": {
            "text/plain": [
              "<IPython.core.display.HTML object>"
            ],
            "text/html": [
              "\n",
              "            <style>\n",
              "                .geemap-dark {\n",
              "                    --jp-widgets-color: white;\n",
              "                    --jp-widgets-label-color: white;\n",
              "                    --jp-ui-font-color1: white;\n",
              "                    --jp-layout-color2: #454545;\n",
              "                    background-color: #383838;\n",
              "                }\n",
              "\n",
              "                .geemap-dark .jupyter-button {\n",
              "                    --jp-layout-color3: #383838;\n",
              "                }\n",
              "\n",
              "                .geemap-colab {\n",
              "                    background-color: var(--colab-primary-surface-color, white);\n",
              "                }\n",
              "\n",
              "                .geemap-colab .jupyter-button {\n",
              "                    --jp-layout-color3: var(--colab-primary-surface-color, white);\n",
              "                }\n",
              "            </style>\n",
              "            "
            ]
          },
          "metadata": {}
        }
      ]
    },
    {
      "cell_type": "code",
      "source": [
        "import os\n",
        "import numpy as np\n",
        "import rasterio\n",
        "\n",
        "# Iterate over the files\n",
        "for filename in os.listdir(input_folder):\n",
        "    # Check the file extension\n",
        "    _, extension = os.path.splitext(filename)\n",
        "    if extension.lower() == '.tif':\n",
        "        file_path = os.path.join(input_folder, filename)\n",
        "        with rasterio.open(file_path, 'r+') as src:\n",
        "            # Read each band\n",
        "            for i in range(1, src.count + 1):\n",
        "                band = src.read(i)\n",
        "                # Replace NaNs with 0s\n",
        "                band[np.isnan(band)] = 0\n",
        "                # Write the modified band back to the file\n",
        "                src.write(band, i)"
      ],
      "metadata": {
        "id": "WCQax264URC_",
        "colab": {
          "base_uri": "https://localhost:8080/",
          "height": 17
        },
        "outputId": "65a71dd6-8c2f-4348-a9b3-a9f85deac300"
      },
      "execution_count": null,
      "outputs": [
        {
          "output_type": "display_data",
          "data": {
            "text/plain": [
              "<IPython.core.display.HTML object>"
            ],
            "text/html": [
              "\n",
              "            <style>\n",
              "                .geemap-dark {\n",
              "                    --jp-widgets-color: white;\n",
              "                    --jp-widgets-label-color: white;\n",
              "                    --jp-ui-font-color1: white;\n",
              "                    --jp-layout-color2: #454545;\n",
              "                    background-color: #383838;\n",
              "                }\n",
              "\n",
              "                .geemap-dark .jupyter-button {\n",
              "                    --jp-layout-color3: #383838;\n",
              "                }\n",
              "\n",
              "                .geemap-colab {\n",
              "                    background-color: var(--colab-primary-surface-color, white);\n",
              "                }\n",
              "\n",
              "                .geemap-colab .jupyter-button {\n",
              "                    --jp-layout-color3: var(--colab-primary-surface-color, white);\n",
              "                }\n",
              "            </style>\n",
              "            "
            ]
          },
          "metadata": {}
        }
      ]
    },
    {
      "cell_type": "markdown",
      "source": [
        "###Preparing Deep Learning Model\n"
      ],
      "metadata": {
        "id": "DOjP5JRnlmXU"
      }
    },
    {
      "cell_type": "code",
      "execution_count": null,
      "metadata": {
        "id": "8AahYqJZ2jIb",
        "colab": {
          "base_uri": "https://localhost:8080/",
          "height": 17
        },
        "outputId": "40a5ff40-4321-4ec4-845b-ee1957a2972c"
      },
      "outputs": [
        {
          "output_type": "display_data",
          "data": {
            "text/plain": [
              "<IPython.core.display.HTML object>"
            ],
            "text/html": [
              "\n",
              "            <style>\n",
              "                .geemap-dark {\n",
              "                    --jp-widgets-color: white;\n",
              "                    --jp-widgets-label-color: white;\n",
              "                    --jp-ui-font-color1: white;\n",
              "                    --jp-layout-color2: #454545;\n",
              "                    background-color: #383838;\n",
              "                }\n",
              "\n",
              "                .geemap-dark .jupyter-button {\n",
              "                    --jp-layout-color3: #383838;\n",
              "                }\n",
              "\n",
              "                .geemap-colab {\n",
              "                    background-color: var(--colab-primary-surface-color, white);\n",
              "                }\n",
              "\n",
              "                .geemap-colab .jupyter-button {\n",
              "                    --jp-layout-color3: var(--colab-primary-surface-color, white);\n",
              "                }\n",
              "            </style>\n",
              "            "
            ]
          },
          "metadata": {}
        }
      ],
      "source": [
        "#Classes for loading multi-channel bands\n",
        "\n",
        "def open_npy(fn, chans=None):\n",
        "    im = torch.from_numpy(np.load(str(fn)))\n",
        "    if chans is not None: im = im[chans]\n",
        "    return im\n",
        "\n",
        "def open_geotiff(fn, chans=None):\n",
        "    with rio.open(str(fn)) as f:\n",
        "        data = f.read()\n",
        "        data = data.astype(np.float32)\n",
        "    im = torch.from_numpy(data)\n",
        "    if chans is not None: im = im[chans]\n",
        "    return im\n",
        "\n",
        "class MultiChannelTensorImage(TensorImage):\n",
        "    _show_args = ArrayImageBase._show_args\n",
        "    def show(self, channels=[1], ctx=None, vmin=None, vmax=None, **kwargs):\n",
        "        \"These need refactoring\"\n",
        "        if len(channels) == 3:\n",
        "            return show_composite(self, channels=channels, ctx=ctx, vmin=vmin, vmax=vmax,\n",
        "                                  **{**self._show_args, **kwargs})\n",
        "        if len(channels) == 2:\n",
        "            return show_normalized_spectral_index(self, channels=channels, ctx=ctx,\n",
        "                                                  **{**self._show_args, **kwargs})\n",
        "        elif len(channels) == 1:\n",
        "            return show_single_channel(self, channel=channels[0], ctx=ctx,\n",
        "                                       **{**self._show_args, **kwargs})\n",
        "\n",
        "    @classmethod\n",
        "    def create(cls, fn, chans=None,  **kwargs) ->None:\n",
        "        if str(fn).endswith('npy'): return cls(open_npy(fn=fn, chans=chans))\n",
        "        elif str(fn).endswith('.tif'): return cls(open_geotiff(fn=fn, chans=chans))\n",
        "\n",
        "    def __repr__(self): return f'{self.__class__.__name__} size={\"x\".join([str(d) for d in self.shape])}'\n",
        "\n",
        "MultiChannelTensorImage.create = Transform(MultiChannelTensorImage.create)\n",
        "\n",
        "def show_composite(img, channels, ax=None, figsize=(3,3), title=None, scale=True,\n",
        "                   ctx=None, vmin=None, vmax=None, **kwargs)->plt.Axes:\n",
        "    \"Show three channel composite so that channels correspond to R, G and B\"\n",
        "    ax = ifnone(ax, ctx)\n",
        "    if ax is None: _, ax = plt.subplots(figsize=figsize)\n",
        "    r, g, b = channels\n",
        "    tempim = img.data.cpu().numpy()\n",
        "    im = np.zeros((tempim.shape[1], tempim.shape[2], 3))\n",
        "    im[...,0] = tempim[r]\n",
        "    im[...,1] = tempim[g]\n",
        "    im[...,2] = tempim[b]\n",
        "    if scale: im = norm(im, vmin, vmax)\n",
        "    ax.imshow(im, **kwargs)\n",
        "    ax.axis('off')\n",
        "    if title is not None: ax.set_title(title)\n",
        "    return ax\n",
        "\n",
        "def show_single_channel(img, channel, ax=None, figsize=(3,3), ctx=None,\n",
        "                        title=None, **kwargs) -> plt.Axes:\n",
        "    ax = ifnone(ax, ctx)\n",
        "    if ax is None: _, ax = plt.subplots(figsize=figsize)\n",
        "    tempim = img.data.cpu().numpy()\n",
        "    ax.imshow(norm(tempim[channel], vmin=tempim[channel].min(), vmax=tempim[channel].max()), **kwargs)\n",
        "    ax.axis('off')\n",
        "    if title is not None: ax.set_title(title)\n",
        "    return ax\n",
        "\n",
        "def show_normalized_spectral_index(img, channels, ax=None, figsize=(3,3), ctx=None,\n",
        "                                   title=None, **kwargs) -> plt.Axes:\n",
        "    \"Show normalized spectral index such as NDVI\"\n",
        "    ax = ifnone(ax, ctx)\n",
        "    if ax is None: _, ax = plt.subplots(figsize=figsize)\n",
        "    b_0, b_1 = channels\n",
        "    tempim = img.data.cpu().numpy()\n",
        "    im = (tempim[b_0] - tempim[b_1])/(tempim[b_0] + tempim[b_1])\n",
        "    ax.imshow(im, vmin=-1, vmax=1, **kwargs)\n",
        "    ax.axis('off')\n",
        "    if title is not None: ax.set_title(title)\n",
        "    return ax\n",
        "\n",
        "\n",
        "def norm(vals, vmin=None, vmax=None):\n",
        "    \"\"\"\n",
        "    For visualization purposes normalize image with `(vals-vmin)/(vmax-vmin),\n",
        "    with vals either specified or within 0.01 and 0.99 quantiles of all values\n",
        "    \"\"\"\n",
        "    vmin = ifnone(vmin, np.quantile(vals, 0.01))\n",
        "    vmax = ifnone(vmax, np.quantile(vals, 0.99))\n",
        "    return (vals - vmin)/(vmax-vmin)"
      ]
    },
    {
      "cell_type": "code",
      "execution_count": null,
      "metadata": {
        "id": "FDhmDHws3Fq1",
        "colab": {
          "base_uri": "https://localhost:8080/",
          "height": 17
        },
        "outputId": "80ade80c-0896-4a83-c2f0-26e6abacb04e"
      },
      "outputs": [
        {
          "output_type": "display_data",
          "data": {
            "text/plain": [
              "<IPython.core.display.HTML object>"
            ],
            "text/html": [
              "\n",
              "            <style>\n",
              "                .geemap-dark {\n",
              "                    --jp-widgets-color: white;\n",
              "                    --jp-widgets-label-color: white;\n",
              "                    --jp-ui-font-color1: white;\n",
              "                    --jp-layout-color2: #454545;\n",
              "                    background-color: #383838;\n",
              "                }\n",
              "\n",
              "                .geemap-dark .jupyter-button {\n",
              "                    --jp-layout-color3: #383838;\n",
              "                }\n",
              "\n",
              "                .geemap-colab {\n",
              "                    background-color: var(--colab-primary-surface-color, white);\n",
              "                }\n",
              "\n",
              "                .geemap-colab .jupyter-button {\n",
              "                    --jp-layout-color3: var(--colab-primary-surface-color, white);\n",
              "                }\n",
              "            </style>\n",
              "            "
            ]
          },
          "metadata": {}
        }
      ],
      "source": [
        "#define all band datablock\n",
        "def MultiChannelImageBlock(cls=MultiChannelTensorImage, chans=None):\n",
        "    \"Default behaviour: use all channels\"\n",
        "    return TransformBlock(partial(cls.create, chans=chans))\n",
        "\n",
        "def _using_attr(f, attr, x):\n",
        "    return f(getattr(x,attr))\n",
        "\n",
        "def using_attr(f, attr):\n",
        "    \"Change function `f` to operate on `attr`\"\n",
        "    return partial(_using_attr, f, attr)"
      ]
    },
    {
      "cell_type": "code",
      "execution_count": null,
      "metadata": {
        "id": "UcvTkCe53jly",
        "colab": {
          "base_uri": "https://localhost:8080/",
          "height": 17
        },
        "outputId": "a3b967ff-af2f-45dc-f6d7-ed0def1a2bb2"
      },
      "outputs": [
        {
          "output_type": "display_data",
          "data": {
            "text/plain": [
              "<IPython.core.display.HTML object>"
            ],
            "text/html": [
              "\n",
              "            <style>\n",
              "                .geemap-dark {\n",
              "                    --jp-widgets-color: white;\n",
              "                    --jp-widgets-label-color: white;\n",
              "                    --jp-ui-font-color1: white;\n",
              "                    --jp-layout-color2: #454545;\n",
              "                    background-color: #383838;\n",
              "                }\n",
              "\n",
              "                .geemap-dark .jupyter-button {\n",
              "                    --jp-layout-color3: #383838;\n",
              "                }\n",
              "\n",
              "                .geemap-colab {\n",
              "                    background-color: var(--colab-primary-surface-color, white);\n",
              "                }\n",
              "\n",
              "                .geemap-colab .jupyter-button {\n",
              "                    --jp-layout-color3: var(--colab-primary-surface-color, white);\n",
              "                }\n",
              "            </style>\n",
              "            "
            ]
          },
          "metadata": {}
        }
      ],
      "source": [
        "#define multichannel data loader\n",
        "\n",
        "class MultiChannelImageDataLoaders(DataLoaders):\n",
        "    @classmethod\n",
        "    @delegates(DataLoaders.from_dblock)\n",
        "    def from_folder(cls, path, chans=None, extensions=['.tif'],\n",
        "                    train='train', valid='valid', valid_pct=None, seed=None,\n",
        "                    vocab=None, item_tfms=None, batch_tfms=None, **kwargs):\n",
        "        \"\"\"Create from imagenet style dataset in `path` with `train`, `valid`, `test` subfolders (or provide `valid_pct`).\n",
        "        Optionally list the channels to use.\"\"\"\n",
        "        splitter = GrandparentSplitter(train_name=train, valid_name=valid) if valid_pct is None else RandomSplitter(valid_pct, seed=seed)\n",
        "        dblock = DataBlock(blocks=(MultiChannelImageBlock(chans=chans), CategoryBlock(vocab=vocab)),\n",
        "                           get_items=partial(get_files, extensions=extensions),\n",
        "                           splitter=splitter,\n",
        "                           get_y=parent_label,\n",
        "                           item_tfms=item_tfms,\n",
        "                           batch_tfms=batch_tfms)\n",
        "        return cls.from_dblock(dblock, path, path=path, **kwargs)\n",
        "\n",
        "    @classmethod\n",
        "    @delegates(DataLoaders.from_dblock)\n",
        "    def from_path_func(cls, path, fnames, label_func,chans=None, extensions=['.tif'],\n",
        "                       valid_pct=0.2, seed=None, item_tfms=None, batch_tfms=None, **kwargs):\n",
        "        \"\"\"Create from list of `fnames` in `path`s with `label_func`.\n",
        "        Optionally list the channels to use.\"\"\"\n",
        "\n",
        "        dblock = DataBlock(blocks=(MultiChannelImageBlock(chans=chans), CategoryBlock(vocab=vocab)),\n",
        "                           splitter=RandomSplitter(valid_pct, seed=seed),\n",
        "                           get_y=label_func,\n",
        "                           item_tfms=item_tfms,\n",
        "                           batch_tfms=batch_tfms)\n",
        "        return cls.from_dblock(dblock, path, path=path, **kwargs)\n",
        "\n",
        "    @classmethod\n",
        "    def from_name_func(cls, path, fnames, label_func,\n",
        "                       chans=None, extensions=['.tif'], **kwargs):\n",
        "        \"\"\"Create from name attrs in list of `fnames` in `path`s with `label_func`.\n",
        "        Optionally list the channels to use.\"\"\"\n",
        "        f = using_attr(label_func, 'name')\n",
        "        return cls.from_path_func(path, fnames, f, chans=chans, **kwargs)\n",
        "\n",
        "    @classmethod\n",
        "    def from_path_re(cls, path, fnames, pat, chans=None, extensions=['.tif'], **kwargs):\n",
        "        \"\"\"Create from list of `fnames` in `path`s with re expression `pat`.\n",
        "           Optionally list the channels to use.\"\"\"\n",
        "        return cls.from_path_func(path, fnames, RegexLabeller(pat), chans=chans, **kwargs)\n",
        "\n",
        "    @classmethod\n",
        "    @delegates(DataLoaders.from_dblock)\n",
        "    def from_name_re(cls, path, fnames, pat, chans=None, extensions=['.tif'],**kwargs):\n",
        "        \"\"\"Create from name attrs in list of `fnames` in `path`s with re expression `pat`.\n",
        "           Optionally list the channels to use\"\"\"\n",
        "        return cls.from_name_func(path, fnames, RegexLabeller(pat), chans=chans, **kwargs)\n",
        "\n",
        "    @classmethod\n",
        "    @delegates(DataLoaders.from_dblock)\n",
        "    def from_df(cls, df, path='.', chans=None, valid_pct=0.2, seed=None,\n",
        "                fn_col=0, folder=None, suff='', label_col=1, label_delim=None,\n",
        "                y_block=None, valid_col=None, item_tfms=None, batch_tfms=None, **kwargs):\n",
        "        pref = f'{Path(path) if folder is None else Path(path)/folder}{os.path.sep}'\n",
        "        if y_block is None:\n",
        "            is_multi = (is_listy(label_col) and len(label_col) > 1) or label_delim is not None\n",
        "            y_block = MultiCategoryBlock if is_multi else CategoryBlock\n",
        "        splitter = RandomSplitter(valid_pct, seed=seed) if valid_col is None else ColSplitter(valid_col)\n",
        "        dblock = DataBlock(blocks=(MultiChannelImageBlock(chans=chans), y_block),\n",
        "                           get_x=ColReader(fn_col, pref=pref, suff=suff),\n",
        "                           get_y=ColReader(label_col, label_delim=label_delim),\n",
        "                           splitter=splitter,\n",
        "                           item_tfms=item_tfms,\n",
        "                           batch_tfms=batch_tfms)\n",
        "        return cls.from_dblock(dblock, df, path=path, **kwargs)\n",
        "\n",
        "    @classmethod\n",
        "    def from_shapefile(cls, path, chans=None, shp_fname='labels.shp', **kwargs):\n",
        "        \"\"\"Create from shapefile `shp_fname` in `path` readable with geopandas.\n",
        "        Optionally list the channels to use.\"\"\"\n",
        "        df = gpd.read_file(str(Path(path)/shp_fname))\n",
        "        return cls.from_df(df, path=path, chans=chans, **kwargs)\n",
        "\n",
        "    @classmethod\n",
        "    def from_csv(cls, path,  chans=None, csv_fname='labels.csv',\n",
        "                 header='infer', delimiter=None, **kwargs):\n",
        "        df = pd.read_csv(Path(path)/csv_fname, header=header, delimiter=delimiter)\n",
        "        return cls.from_df(df, path=path, chans=chans, **kwargs)\n",
        "\n",
        "    @classmethod\n",
        "    @delegates(DataLoaders.from_dblock)\n",
        "    def from_lists(cls, path, fnames, labels,chans=None, valid_pct=0.2,\n",
        "                   seed:int=None, y_block=None, item_tfms=None, batch_tfms=None,\n",
        "                   **kwargs):\n",
        "        \"\"\"Create from list of `fnames` in `path`. Specify dims to be either 2 (for 2d images) or 3 (for volumetric images)\n",
        "        and optionally list the channels to use.\"\"\"\n",
        "        if y_block is None:\n",
        "            y_block = MultiCategoryBlock if is_listy(labels[0]) and len(labels[0]) > 1 else (\n",
        "                RegressionBlock if isinstance(labels[0], float) else CategoryBlock)\n",
        "        dblock = DataBlock(blocks=(MultiChannelImageBlock(dims=dims, chans=chans), y_block),\n",
        "                           splitter=RandomSplitter(valid_pct, seed=seed),\n",
        "                           item_tfms=item_tfms,\n",
        "                           batch_tfms=batch_tfms)\n",
        "        return cls.from_dblock(dblock, (fnames, labels), path=path, **kwargs)\n",
        "\n",
        "MultiChannelImageDataLoaders.from_csv = delegates(to=MultiChannelImageDataLoaders.from_df)(MultiChannelImageDataLoaders.from_csv)\n",
        "MultiChannelImageDataLoaders.from_shapefile = delegates(to=MultiChannelImageDataLoaders.from_df)(MultiChannelImageDataLoaders.from_shapefile)\n",
        "MultiChannelImageDataLoaders.from_name_func = delegates(to=MultiChannelImageDataLoaders.from_path_func)(MultiChannelImageDataLoaders.from_name_func)\n",
        "MultiChannelImageDataLoaders.from_path_re = delegates(to=MultiChannelImageDataLoaders.from_path_func)(MultiChannelImageDataLoaders.from_path_re)\n",
        "MultiChannelImageDataLoaders.from_name_re = delegates(to=MultiChannelImageDataLoaders.from_name_func)(MultiChannelImageDataLoaders.from_name_re)"
      ]
    },
    {
      "cell_type": "code",
      "execution_count": null,
      "metadata": {
        "id": "h8cMuNKN3szJ",
        "colab": {
          "base_uri": "https://localhost:8080/",
          "height": 17
        },
        "outputId": "c70ad113-28f8-4bd4-b5c3-2112ebd58818"
      },
      "outputs": [
        {
          "output_type": "display_data",
          "data": {
            "text/plain": [
              "<IPython.core.display.HTML object>"
            ],
            "text/html": [
              "\n",
              "            <style>\n",
              "                .geemap-dark {\n",
              "                    --jp-widgets-color: white;\n",
              "                    --jp-widgets-label-color: white;\n",
              "                    --jp-ui-font-color1: white;\n",
              "                    --jp-layout-color2: #454545;\n",
              "                    background-color: #383838;\n",
              "                }\n",
              "\n",
              "                .geemap-dark .jupyter-button {\n",
              "                    --jp-layout-color3: #383838;\n",
              "                }\n",
              "\n",
              "                .geemap-colab {\n",
              "                    background-color: var(--colab-primary-surface-color, white);\n",
              "                }\n",
              "\n",
              "                .geemap-colab .jupyter-button {\n",
              "                    --jp-layout-color3: var(--colab-primary-surface-color, white);\n",
              "                }\n",
              "            </style>\n",
              "            "
            ]
          },
          "metadata": {}
        }
      ],
      "source": [
        "#define method to get mask from the labels\n",
        "def get_mask_from_tif(fn):\n",
        "    return open_geotiff(fn, chans=[0])[0]"
      ]
    },
    {
      "cell_type": "code",
      "execution_count": null,
      "metadata": {
        "id": "3xoD9Dmw3yY5",
        "colab": {
          "base_uri": "https://localhost:8080/",
          "height": 17
        },
        "outputId": "435ec139-a543-4309-ed3c-623be82c35ad"
      },
      "outputs": [
        {
          "output_type": "display_data",
          "data": {
            "text/plain": [
              "<IPython.core.display.HTML object>"
            ],
            "text/html": [
              "\n",
              "            <style>\n",
              "                .geemap-dark {\n",
              "                    --jp-widgets-color: white;\n",
              "                    --jp-widgets-label-color: white;\n",
              "                    --jp-ui-font-color1: white;\n",
              "                    --jp-layout-color2: #454545;\n",
              "                    background-color: #383838;\n",
              "                }\n",
              "\n",
              "                .geemap-dark .jupyter-button {\n",
              "                    --jp-layout-color3: #383838;\n",
              "                }\n",
              "\n",
              "                .geemap-colab {\n",
              "                    background-color: var(--colab-primary-surface-color, white);\n",
              "                }\n",
              "\n",
              "                .geemap-colab .jupyter-button {\n",
              "                    --jp-layout-color3: var(--colab-primary-surface-color, white);\n",
              "                }\n",
              "            </style>\n",
              "            "
            ]
          },
          "metadata": {}
        }
      ],
      "source": [
        "#define segmentation dataloaders incl. images and masks\n",
        "\n",
        "class TifSegmentationDataLoaders(DataLoaders):\n",
        "    \"Needs a better name\"\n",
        "    @classmethod\n",
        "    @delegates(DataLoaders.from_dblock)\n",
        "    def from_label_funcs(cls, path, fnames, label_func, chans=None,\n",
        "                         extensions=['.tif'], valid_pct=None, seed=None,\n",
        "                         codes=None, item_tfms=None, batch_tfms=None, **kwargs):\n",
        "        \"Create from list of `fnames` in `path`s with `label_func`.\"\n",
        "        dblock = DataBlock(blocks=(MultiChannelImageBlock(chans=chans),\n",
        "                                   MaskBlock(codes=codes)),\n",
        "                           splitter=RandomSplitter(valid_pct, seed=seed),\n",
        "                           get_y=label_func,\n",
        "                           item_tfms=item_tfms,\n",
        "                           batch_tfms=batch_tfms)\n",
        "        res = cls.from_dblock(dblock, fnames, path=path, **kwargs)\n",
        "        return res"
      ]
    },
    {
      "cell_type": "code",
      "source": [
        "#segmentation classes\n",
        "codes = ['other', 'water']; codes"
      ],
      "metadata": {
        "colab": {
          "base_uri": "https://localhost:8080/",
          "height": 34
        },
        "id": "ydonex1qqn9S",
        "outputId": "acd9e22b-c249-41a2-9f13-d82f5f7849dd"
      },
      "execution_count": null,
      "outputs": [
        {
          "output_type": "display_data",
          "data": {
            "text/plain": [
              "<IPython.core.display.HTML object>"
            ],
            "text/html": [
              "\n",
              "            <style>\n",
              "                .geemap-dark {\n",
              "                    --jp-widgets-color: white;\n",
              "                    --jp-widgets-label-color: white;\n",
              "                    --jp-ui-font-color1: white;\n",
              "                    --jp-layout-color2: #454545;\n",
              "                    background-color: #383838;\n",
              "                }\n",
              "\n",
              "                .geemap-dark .jupyter-button {\n",
              "                    --jp-layout-color3: #383838;\n",
              "                }\n",
              "\n",
              "                .geemap-colab {\n",
              "                    background-color: var(--colab-primary-surface-color, white);\n",
              "                }\n",
              "\n",
              "                .geemap-colab .jupyter-button {\n",
              "                    --jp-layout-color3: var(--colab-primary-surface-color, white);\n",
              "                }\n",
              "            </style>\n",
              "            "
            ]
          },
          "metadata": {}
        },
        {
          "output_type": "execute_result",
          "data": {
            "text/plain": [
              "['other', 'water']"
            ]
          },
          "metadata": {},
          "execution_count": 15
        }
      ]
    },
    {
      "cell_type": "code",
      "execution_count": null,
      "metadata": {
        "id": "FCnwtQ6XpPQ7",
        "colab": {
          "base_uri": "https://localhost:8080/",
          "height": 17
        },
        "outputId": "f0246a90-7a5c-49f3-8beb-f65d9998cb12"
      },
      "outputs": [
        {
          "output_type": "display_data",
          "data": {
            "text/plain": [
              "<IPython.core.display.HTML object>"
            ],
            "text/html": [
              "\n",
              "            <style>\n",
              "                .geemap-dark {\n",
              "                    --jp-widgets-color: white;\n",
              "                    --jp-widgets-label-color: white;\n",
              "                    --jp-ui-font-color1: white;\n",
              "                    --jp-layout-color2: #454545;\n",
              "                    background-color: #383838;\n",
              "                }\n",
              "\n",
              "                .geemap-dark .jupyter-button {\n",
              "                    --jp-layout-color3: #383838;\n",
              "                }\n",
              "\n",
              "                .geemap-colab {\n",
              "                    background-color: var(--colab-primary-surface-color, white);\n",
              "                }\n",
              "\n",
              "                .geemap-colab .jupyter-button {\n",
              "                    --jp-layout-color3: var(--colab-primary-surface-color, white);\n",
              "                }\n",
              "            </style>\n",
              "            "
            ]
          },
          "metadata": {}
        }
      ],
      "source": [
        "#Add Data Augmentations\n",
        "batch_tfms = [Rotate(), Flip(), Dihedral(), Normalize()]"
      ]
    },
    {
      "cell_type": "code",
      "execution_count": null,
      "metadata": {
        "id": "lBdIP7Q4dlVf",
        "colab": {
          "base_uri": "https://localhost:8080/",
          "height": 17
        },
        "outputId": "1c21f042-c51d-40f3-cb2c-fbcdc07344a4"
      },
      "outputs": [
        {
          "output_type": "display_data",
          "data": {
            "text/plain": [
              "<IPython.core.display.HTML object>"
            ],
            "text/html": [
              "\n",
              "            <style>\n",
              "                .geemap-dark {\n",
              "                    --jp-widgets-color: white;\n",
              "                    --jp-widgets-label-color: white;\n",
              "                    --jp-ui-font-color1: white;\n",
              "                    --jp-layout-color2: #454545;\n",
              "                    background-color: #383838;\n",
              "                }\n",
              "\n",
              "                .geemap-dark .jupyter-button {\n",
              "                    --jp-layout-color3: #383838;\n",
              "                }\n",
              "\n",
              "                .geemap-colab {\n",
              "                    background-color: var(--colab-primary-surface-color, white);\n",
              "                }\n",
              "\n",
              "                .geemap-colab .jupyter-button {\n",
              "                    --jp-layout-color3: var(--colab-primary-surface-color, white);\n",
              "                }\n",
              "            </style>\n",
              "            "
            ]
          },
          "metadata": {}
        }
      ],
      "source": [
        "#Define loss function for the deep learning model\n",
        "class CombinedLoss:\n",
        "    \"Dice and Focal combined\"\n",
        "    def __init__(self, axis=1, smooth=1., alpha=1.):\n",
        "        store_attr()\n",
        "        self.focal_loss = FocalLossFlat(axis=axis)\n",
        "        self.dice_loss =  DiceLoss(axis, smooth)\n",
        "\n",
        "    def __call__(self, pred, targ):\n",
        "        return self.focal_loss(pred, targ) + self.alpha * self.dice_loss(pred, targ)\n",
        "\n",
        "    def decodes(self, x):    return x.argmax(dim=self.axis)\n",
        "    def activation(self, x): return F.softmax(x, dim=self.axis)"
      ]
    },
    {
      "cell_type": "code",
      "execution_count": null,
      "metadata": {
        "id": "N3MUQStIdlVf",
        "colab": {
          "base_uri": "https://localhost:8080/",
          "height": 17
        },
        "outputId": "dfc13a5b-97f6-46f5-c972-08eec908a435"
      },
      "outputs": [
        {
          "output_type": "display_data",
          "data": {
            "text/plain": [
              "<IPython.core.display.HTML object>"
            ],
            "text/html": [
              "\n",
              "            <style>\n",
              "                .geemap-dark {\n",
              "                    --jp-widgets-color: white;\n",
              "                    --jp-widgets-label-color: white;\n",
              "                    --jp-ui-font-color1: white;\n",
              "                    --jp-layout-color2: #454545;\n",
              "                    background-color: #383838;\n",
              "                }\n",
              "\n",
              "                .geemap-dark .jupyter-button {\n",
              "                    --jp-layout-color3: #383838;\n",
              "                }\n",
              "\n",
              "                .geemap-colab {\n",
              "                    background-color: var(--colab-primary-surface-color, white);\n",
              "                }\n",
              "\n",
              "                .geemap-colab .jupyter-button {\n",
              "                    --jp-layout-color3: var(--colab-primary-surface-color, white);\n",
              "                }\n",
              "            </style>\n",
              "            "
            ]
          },
          "metadata": {}
        }
      ],
      "source": [
        "cl = CombinedLoss()"
      ]
    },
    {
      "cell_type": "markdown",
      "source": [
        "###Setup the Global Model"
      ],
      "metadata": {
        "id": "ASd3gGsZvp-B"
      }
    },
    {
      "cell_type": "code",
      "source": [
        "#setting up data loader, check the filepaths\n",
        "dataLoaderS1Global = TifSegmentationDataLoaders.from_label_funcs(path='/content/S1DWdatasetTiny/images',\n",
        "                                                   bs = 4,\n",
        "                                                   codes=codes,\n",
        "                                                   fnames = get_files('/content/S1DWdatasetTiny/images', extensions=['.tif'], recurse=False),\n",
        "                                                   label_func = lambda o: get_mask_from_tif(f'/content/S1DWdatasetTiny/labels/{o.stem}{o.suffix}'),\n",
        "                                                   valid_pct=0.2,\n",
        "                                                   seed=42,\n",
        "                                                   batch_tfms = batch_tfms)"
      ],
      "metadata": {
        "id": "UYZgzoIUxcbQ",
        "colab": {
          "base_uri": "https://localhost:8080/",
          "height": 17
        },
        "outputId": "04e2fc03-52c4-4997-f90c-4d01774ecc17"
      },
      "execution_count": null,
      "outputs": [
        {
          "output_type": "display_data",
          "data": {
            "text/plain": [
              "<IPython.core.display.HTML object>"
            ],
            "text/html": [
              "\n",
              "            <style>\n",
              "                .geemap-dark {\n",
              "                    --jp-widgets-color: white;\n",
              "                    --jp-widgets-label-color: white;\n",
              "                    --jp-ui-font-color1: white;\n",
              "                    --jp-layout-color2: #454545;\n",
              "                    background-color: #383838;\n",
              "                }\n",
              "\n",
              "                .geemap-dark .jupyter-button {\n",
              "                    --jp-layout-color3: #383838;\n",
              "                }\n",
              "\n",
              "                .geemap-colab {\n",
              "                    background-color: var(--colab-primary-surface-color, white);\n",
              "                }\n",
              "\n",
              "                .geemap-colab .jupyter-button {\n",
              "                    --jp-layout-color3: var(--colab-primary-surface-color, white);\n",
              "                }\n",
              "            </style>\n",
              "            "
            ]
          },
          "metadata": {}
        }
      ]
    },
    {
      "cell_type": "code",
      "source": [
        "#setup the deep learning model\n",
        "modelS1Global =  unet_learner(dataLoaderS1Global, resnet34, metrics = [JaccardCoeff(), Dice()], loss_func=CombinedLoss(), opt_func=ranger, act_cls=Mish)"
      ],
      "metadata": {
        "id": "lpjEsODV-2Qs",
        "colab": {
          "base_uri": "https://localhost:8080/",
          "height": 52
        },
        "outputId": "887da9bb-4f9f-4645-d345-445470c3e934"
      },
      "execution_count": null,
      "outputs": [
        {
          "output_type": "display_data",
          "data": {
            "text/plain": [
              "<IPython.core.display.HTML object>"
            ],
            "text/html": [
              "\n",
              "            <style>\n",
              "                .geemap-dark {\n",
              "                    --jp-widgets-color: white;\n",
              "                    --jp-widgets-label-color: white;\n",
              "                    --jp-ui-font-color1: white;\n",
              "                    --jp-layout-color2: #454545;\n",
              "                    background-color: #383838;\n",
              "                }\n",
              "\n",
              "                .geemap-dark .jupyter-button {\n",
              "                    --jp-layout-color3: #383838;\n",
              "                }\n",
              "\n",
              "                .geemap-colab {\n",
              "                    background-color: var(--colab-primary-surface-color, white);\n",
              "                }\n",
              "\n",
              "                .geemap-colab .jupyter-button {\n",
              "                    --jp-layout-color3: var(--colab-primary-surface-color, white);\n",
              "                }\n",
              "            </style>\n",
              "            "
            ]
          },
          "metadata": {}
        },
        {
          "output_type": "stream",
          "name": "stderr",
          "text": [
            "Downloading: \"https://download.pytorch.org/models/resnet34-b627a593.pth\" to /root/.cache/torch/hub/checkpoints/resnet34-b627a593.pth\n",
            "100%|██████████| 83.3M/83.3M [00:01<00:00, 74.6MB/s]\n"
          ]
        }
      ]
    },
    {
      "cell_type": "code",
      "source": [
        "#load the trained S1 global model (provided)\n",
        "modelS1Global.load('/content/drive/MyDrive/Workspace/FZ/model_resnet34_10epochs')"
      ],
      "metadata": {
        "colab": {
          "base_uri": "https://localhost:8080/",
          "height": 34
        },
        "id": "1YPLfvEe-813",
        "outputId": "a24716ef-5dcb-43d5-dead-b9412ba5c469"
      },
      "execution_count": null,
      "outputs": [
        {
          "output_type": "display_data",
          "data": {
            "text/plain": [
              "<IPython.core.display.HTML object>"
            ],
            "text/html": [
              "\n",
              "            <style>\n",
              "                .geemap-dark {\n",
              "                    --jp-widgets-color: white;\n",
              "                    --jp-widgets-label-color: white;\n",
              "                    --jp-ui-font-color1: white;\n",
              "                    --jp-layout-color2: #454545;\n",
              "                    background-color: #383838;\n",
              "                }\n",
              "\n",
              "                .geemap-dark .jupyter-button {\n",
              "                    --jp-layout-color3: #383838;\n",
              "                }\n",
              "\n",
              "                .geemap-colab {\n",
              "                    background-color: var(--colab-primary-surface-color, white);\n",
              "                }\n",
              "\n",
              "                .geemap-colab .jupyter-button {\n",
              "                    --jp-layout-color3: var(--colab-primary-surface-color, white);\n",
              "                }\n",
              "            </style>\n",
              "            "
            ]
          },
          "metadata": {}
        },
        {
          "output_type": "execute_result",
          "data": {
            "text/plain": [
              "<fastai.learner.Learner at 0x7bdb93d03340>"
            ]
          },
          "metadata": {},
          "execution_count": 21
        }
      ]
    },
    {
      "cell_type": "markdown",
      "source": [
        "##FineTune the global model (if required)"
      ],
      "metadata": {
        "id": "Ai5CnanG2v-B"
      }
    },
    {
      "cell_type": "markdown",
      "source": [],
      "metadata": {
        "id": "GhhGXOIrZim-"
      }
    },
    {
      "cell_type": "code",
      "source": [],
      "metadata": {
        "id": "ZOuUzxgbGAWR"
      },
      "execution_count": null,
      "outputs": []
    },
    {
      "cell_type": "code",
      "source": [
        "# !unzip -q /content/drive/MyDrive/Workspace/FZ/trainingDatasetFPS1GEE_256.zip\n",
        "# !unzip -q /content/drive/MyDrive/UA_Transition/Fritz/SID_19.zip\n",
        "!unzip -q /content/drive/MyDrive/UA_Transition/Fritz/SID_83.zip\n",
        "!unzip -q /content/drive/MyDrive/UA_Transition/Fritz/SID_44.zip"
      ],
      "metadata": {
        "colab": {
          "base_uri": "https://localhost:8080/",
          "height": 17
        },
        "id": "4jpKd2i1W41j",
        "outputId": "2b31275e-dbe1-476a-aa64-291a2ee6d9cb"
      },
      "execution_count": null,
      "outputs": [
        {
          "output_type": "display_data",
          "data": {
            "text/plain": [
              "<IPython.core.display.HTML object>"
            ],
            "text/html": [
              "\n",
              "            <style>\n",
              "                .geemap-dark {\n",
              "                    --jp-widgets-color: white;\n",
              "                    --jp-widgets-label-color: white;\n",
              "                    --jp-ui-font-color1: white;\n",
              "                    --jp-layout-color2: #454545;\n",
              "                    background-color: #383838;\n",
              "                }\n",
              "\n",
              "                .geemap-dark .jupyter-button {\n",
              "                    --jp-layout-color3: #383838;\n",
              "                }\n",
              "\n",
              "                .geemap-colab {\n",
              "                    background-color: var(--colab-primary-surface-color, white);\n",
              "                }\n",
              "\n",
              "                .geemap-colab .jupyter-button {\n",
              "                    --jp-layout-color3: var(--colab-primary-surface-color, white);\n",
              "                }\n",
              "            </style>\n",
              "            "
            ]
          },
          "metadata": {}
        }
      ]
    },
    {
      "cell_type": "code",
      "source": [
        "import os\n",
        "import numpy as np\n",
        "import rasterio\n",
        "from multiprocessing import Pool, cpu_count\n",
        "\n",
        "def process_file(file_path):\n",
        "    \"\"\"\n",
        "    Function to process a single file, replacing NaNs with 0s.\n",
        "    \"\"\"\n",
        "    try:\n",
        "        with rasterio.open(file_path, 'r+') as src:\n",
        "            for i in range(1, src.count + 1):\n",
        "                band = src.read(i)\n",
        "                band[np.isnan(band)] = 0\n",
        "                src.write(band, i)\n",
        "        return f\"Processed: {file_path}\"\n",
        "    except Exception as e:\n",
        "        return f\"Error processing {file_path}: {e}\"\n",
        "\n",
        "def main(input_folder):\n",
        "    \"\"\"\n",
        "    Main function to set up multiprocessing pool and distribute the file processing task.\n",
        "    \"\"\"\n",
        "    # List all .tif files in the input folder\n",
        "    files = [os.path.join(input_folder, f) for f in os.listdir(input_folder) if f.lower().endswith('.tif')]\n",
        "\n",
        "    # Determine the number of available CPUs and create a pool of workers\n",
        "    num_processors = cpu_count()\n",
        "    print(f\"Utilizing {num_processors} CPU cores.\")\n",
        "    pool = Pool(processes=num_processors)\n",
        "\n",
        "    # Map the process_file function to the files, distributing the workload across the pool\n",
        "    results = pool.map(process_file, files)\n",
        "\n",
        "    # Close the pool and wait for all processes to finish\n",
        "    pool.close()\n",
        "    pool.join()\n",
        "\n",
        "    # Print results\n",
        "    for result in results:\n",
        "        print(result)\n",
        "\n",
        "if __name__ == \"__main__\":\n",
        "    input_folder = '/content/SID_19'\n",
        "    main(input_folder)\n",
        "    input_folder = '/content/SID_44'\n",
        "    main(input_folder)\n",
        "    input_folder = '/content/SID_83'\n",
        "    main(input_folder)"
      ],
      "metadata": {
        "colab": {
          "base_uri": "https://localhost:8080/",
          "height": 69
        },
        "id": "f1o5KUtWX1k4",
        "outputId": "6951f0aa-1e64-4489-b639-35424aec2f04"
      },
      "execution_count": null,
      "outputs": [
        {
          "output_type": "display_data",
          "data": {
            "text/plain": [
              "<IPython.core.display.HTML object>"
            ],
            "text/html": [
              "\n",
              "            <style>\n",
              "                .geemap-dark {\n",
              "                    --jp-widgets-color: white;\n",
              "                    --jp-widgets-label-color: white;\n",
              "                    --jp-ui-font-color1: white;\n",
              "                    --jp-layout-color2: #454545;\n",
              "                    background-color: #383838;\n",
              "                }\n",
              "\n",
              "                .geemap-dark .jupyter-button {\n",
              "                    --jp-layout-color3: #383838;\n",
              "                }\n",
              "\n",
              "                .geemap-colab {\n",
              "                    background-color: var(--colab-primary-surface-color, white);\n",
              "                }\n",
              "\n",
              "                .geemap-colab .jupyter-button {\n",
              "                    --jp-layout-color3: var(--colab-primary-surface-color, white);\n",
              "                }\n",
              "            </style>\n",
              "            "
            ]
          },
          "metadata": {}
        },
        {
          "output_type": "stream",
          "name": "stdout",
          "text": [
            "Utilizing 8 CPU cores.\n",
            "Utilizing 8 CPU cores.\n",
            "Utilizing 8 CPU cores.\n"
          ]
        }
      ]
    },
    {
      "cell_type": "markdown",
      "source": [
        "##SID19\n"
      ],
      "metadata": {
        "id": "ib-dABXLDFbX"
      }
    },
    {
      "cell_type": "code",
      "source": [
        "#setting up data loader, check the filepaths\n",
        "dataLoaderS1Local = TifSegmentationDataLoaders.from_label_funcs(path='/content/SID_19/S1_256',\n",
        "                                                   bs = 16,\n",
        "                                                   codes=codes,\n",
        "                                                   fnames = get_files('/content/SID_19/S1_256', extensions=['.tif'], recurse=False),\n",
        "                                                   label_func = lambda o: get_mask_from_tif(f'/content/SID_19/DWLabels_256/{o.stem}{o.suffix}'),\n",
        "                                                   valid_pct=0.1,\n",
        "                                                   seed=42,\n",
        "                                                   batch_tfms = batch_tfms)"
      ],
      "metadata": {
        "colab": {
          "base_uri": "https://localhost:8080/",
          "height": 17
        },
        "id": "AbpgXkrW22Ta",
        "outputId": "8eb9e45d-c816-459e-eb06-70e5d4dc037e"
      },
      "execution_count": null,
      "outputs": [
        {
          "output_type": "display_data",
          "data": {
            "text/plain": [
              "<IPython.core.display.HTML object>"
            ],
            "text/html": [
              "\n",
              "            <style>\n",
              "                .geemap-dark {\n",
              "                    --jp-widgets-color: white;\n",
              "                    --jp-widgets-label-color: white;\n",
              "                    --jp-ui-font-color1: white;\n",
              "                    --jp-layout-color2: #454545;\n",
              "                    background-color: #383838;\n",
              "                }\n",
              "\n",
              "                .geemap-dark .jupyter-button {\n",
              "                    --jp-layout-color3: #383838;\n",
              "                }\n",
              "\n",
              "                .geemap-colab {\n",
              "                    background-color: var(--colab-primary-surface-color, white);\n",
              "                }\n",
              "\n",
              "                .geemap-colab .jupyter-button {\n",
              "                    --jp-layout-color3: var(--colab-primary-surface-color, white);\n",
              "                }\n",
              "            </style>\n",
              "            "
            ]
          },
          "metadata": {}
        }
      ]
    },
    {
      "cell_type": "code",
      "source": [
        "#setup the deep learning model\n",
        "modelS1Local =  unet_learner(dataLoaderS1Local, resnet34, n_in=3, n_out=2, metrics = [JaccardCoeff(), Dice()], loss_func=CombinedLoss(), opt_func=ranger, act_cls=Mish)"
      ],
      "metadata": {
        "colab": {
          "base_uri": "https://localhost:8080/",
          "height": 17
        },
        "id": "WBEb5DGb4S05",
        "outputId": "89745c88-5b4a-4634-ac66-4c34a03e9e1c"
      },
      "execution_count": null,
      "outputs": [
        {
          "output_type": "display_data",
          "data": {
            "text/plain": [
              "<IPython.core.display.HTML object>"
            ],
            "text/html": [
              "\n",
              "            <style>\n",
              "                .geemap-dark {\n",
              "                    --jp-widgets-color: white;\n",
              "                    --jp-widgets-label-color: white;\n",
              "                    --jp-ui-font-color1: white;\n",
              "                    --jp-layout-color2: #454545;\n",
              "                    background-color: #383838;\n",
              "                }\n",
              "\n",
              "                .geemap-dark .jupyter-button {\n",
              "                    --jp-layout-color3: #383838;\n",
              "                }\n",
              "\n",
              "                .geemap-colab {\n",
              "                    background-color: var(--colab-primary-surface-color, white);\n",
              "                }\n",
              "\n",
              "                .geemap-colab .jupyter-button {\n",
              "                    --jp-layout-color3: var(--colab-primary-surface-color, white);\n",
              "                }\n",
              "            </style>\n",
              "            "
            ]
          },
          "metadata": {}
        }
      ]
    },
    {
      "cell_type": "code",
      "source": [
        "#load the trained S1 global model (provided)\n",
        "modelS1Local.load('/content/drive/MyDrive/Workspace/FZ/model_resnet34_10epochs')"
      ],
      "metadata": {
        "colab": {
          "base_uri": "https://localhost:8080/",
          "height": 34
        },
        "id": "TzHgCvgq4W9o",
        "outputId": "2fc15b55-a9c8-46b2-9951-599bd5369cfc"
      },
      "execution_count": null,
      "outputs": [
        {
          "output_type": "display_data",
          "data": {
            "text/plain": [
              "<IPython.core.display.HTML object>"
            ],
            "text/html": [
              "\n",
              "            <style>\n",
              "                .geemap-dark {\n",
              "                    --jp-widgets-color: white;\n",
              "                    --jp-widgets-label-color: white;\n",
              "                    --jp-ui-font-color1: white;\n",
              "                    --jp-layout-color2: #454545;\n",
              "                    background-color: #383838;\n",
              "                }\n",
              "\n",
              "                .geemap-dark .jupyter-button {\n",
              "                    --jp-layout-color3: #383838;\n",
              "                }\n",
              "\n",
              "                .geemap-colab {\n",
              "                    background-color: var(--colab-primary-surface-color, white);\n",
              "                }\n",
              "\n",
              "                .geemap-colab .jupyter-button {\n",
              "                    --jp-layout-color3: var(--colab-primary-surface-color, white);\n",
              "                }\n",
              "            </style>\n",
              "            "
            ]
          },
          "metadata": {}
        },
        {
          "output_type": "execute_result",
          "data": {
            "text/plain": [
              "<fastai.learner.Learner at 0x7bdcfbd3bb80>"
            ]
          },
          "metadata": {},
          "execution_count": 110
        }
      ]
    },
    {
      "cell_type": "code",
      "source": [
        "#find lr\n",
        "lrs = modelS1Local.lr_find(suggest_funcs=(minimum, steep, valley, slide))"
      ],
      "metadata": {
        "colab": {
          "base_uri": "https://localhost:8080/",
          "height": 454
        },
        "id": "G_QwrScB4iBc",
        "outputId": "8e66bf93-3d81-4cbf-904a-6aec470fee12"
      },
      "execution_count": null,
      "outputs": [
        {
          "output_type": "display_data",
          "data": {
            "text/plain": [
              "<IPython.core.display.HTML object>"
            ],
            "text/html": [
              "\n",
              "            <style>\n",
              "                .geemap-dark {\n",
              "                    --jp-widgets-color: white;\n",
              "                    --jp-widgets-label-color: white;\n",
              "                    --jp-ui-font-color1: white;\n",
              "                    --jp-layout-color2: #454545;\n",
              "                    background-color: #383838;\n",
              "                }\n",
              "\n",
              "                .geemap-dark .jupyter-button {\n",
              "                    --jp-layout-color3: #383838;\n",
              "                }\n",
              "\n",
              "                .geemap-colab {\n",
              "                    background-color: var(--colab-primary-surface-color, white);\n",
              "                }\n",
              "\n",
              "                .geemap-colab .jupyter-button {\n",
              "                    --jp-layout-color3: var(--colab-primary-surface-color, white);\n",
              "                }\n",
              "            </style>\n",
              "            "
            ]
          },
          "metadata": {}
        },
        {
          "output_type": "display_data",
          "data": {
            "text/plain": [
              "<IPython.core.display.HTML object>"
            ],
            "text/html": [
              "\n",
              "<style>\n",
              "    /* Turns off some styling */\n",
              "    progress {\n",
              "        /* gets rid of default border in Firefox and Opera. */\n",
              "        border: none;\n",
              "        /* Needs to be in here for Safari polyfill so background images work as expected. */\n",
              "        background-size: auto;\n",
              "    }\n",
              "    progress:not([value]), progress:not([value])::-webkit-progress-bar {\n",
              "        background: repeating-linear-gradient(45deg, #7e7e7e, #7e7e7e 10px, #5c5c5c 10px, #5c5c5c 20px);\n",
              "    }\n",
              "    .progress-bar-interrupted, .progress-bar-interrupted::-webkit-progress-bar {\n",
              "        background: #F44336;\n",
              "    }\n",
              "</style>\n"
            ]
          },
          "metadata": {}
        },
        {
          "output_type": "display_data",
          "data": {
            "text/plain": [
              "<IPython.core.display.HTML object>"
            ],
            "text/html": []
          },
          "metadata": {}
        },
        {
          "output_type": "display_data",
          "data": {
            "text/plain": [
              "<Figure size 640x480 with 1 Axes>"
            ],
            "image/png": "[encoded data removed]"
          },
          "metadata": {}
        }
      ]
    },
    {
      "cell_type": "code",
      "source": [
        "lr = lrs.valley"
      ],
      "metadata": {
        "colab": {
          "base_uri": "https://localhost:8080/",
          "height": 17
        },
        "id": "YVvQRMIv5SY8",
        "outputId": "d6e792a7-a34e-4e61-ae51-dc9ea7fca8fa"
      },
      "execution_count": null,
      "outputs": [
        {
          "output_type": "display_data",
          "data": {
            "text/plain": [
              "<IPython.core.display.HTML object>"
            ],
            "text/html": [
              "\n",
              "            <style>\n",
              "                .geemap-dark {\n",
              "                    --jp-widgets-color: white;\n",
              "                    --jp-widgets-label-color: white;\n",
              "                    --jp-ui-font-color1: white;\n",
              "                    --jp-layout-color2: #454545;\n",
              "                    background-color: #383838;\n",
              "                }\n",
              "\n",
              "                .geemap-dark .jupyter-button {\n",
              "                    --jp-layout-color3: #383838;\n",
              "                }\n",
              "\n",
              "                .geemap-colab {\n",
              "                    background-color: var(--colab-primary-surface-color, white);\n",
              "                }\n",
              "\n",
              "                .geemap-colab .jupyter-button {\n",
              "                    --jp-layout-color3: var(--colab-primary-surface-color, white);\n",
              "                }\n",
              "            </style>\n",
              "            "
            ]
          },
          "metadata": {}
        }
      ]
    },
    {
      "cell_type": "code",
      "source": [
        "modelS1Local.fit_flat_cos(5, slice(lrs.valley))"
      ],
      "metadata": {
        "colab": {
          "base_uri": "https://localhost:8080/",
          "height": 206
        },
        "id": "w36SPdqW5U24",
        "outputId": "be15f084-0561-46a3-c468-d5ca260927d3"
      },
      "execution_count": null,
      "outputs": [
        {
          "output_type": "display_data",
          "data": {
            "text/plain": [
              "<IPython.core.display.HTML object>"
            ],
            "text/html": [
              "\n",
              "            <style>\n",
              "                .geemap-dark {\n",
              "                    --jp-widgets-color: white;\n",
              "                    --jp-widgets-label-color: white;\n",
              "                    --jp-ui-font-color1: white;\n",
              "                    --jp-layout-color2: #454545;\n",
              "                    background-color: #383838;\n",
              "                }\n",
              "\n",
              "                .geemap-dark .jupyter-button {\n",
              "                    --jp-layout-color3: #383838;\n",
              "                }\n",
              "\n",
              "                .geemap-colab {\n",
              "                    background-color: var(--colab-primary-surface-color, white);\n",
              "                }\n",
              "\n",
              "                .geemap-colab .jupyter-button {\n",
              "                    --jp-layout-color3: var(--colab-primary-surface-color, white);\n",
              "                }\n",
              "            </style>\n",
              "            "
            ]
          },
          "metadata": {}
        },
        {
          "output_type": "display_data",
          "data": {
            "text/plain": [
              "<IPython.core.display.HTML object>"
            ],
            "text/html": [
              "\n",
              "<style>\n",
              "    /* Turns off some styling */\n",
              "    progress {\n",
              "        /* gets rid of default border in Firefox and Opera. */\n",
              "        border: none;\n",
              "        /* Needs to be in here for Safari polyfill so background images work as expected. */\n",
              "        background-size: auto;\n",
              "    }\n",
              "    progress:not([value]), progress:not([value])::-webkit-progress-bar {\n",
              "        background: repeating-linear-gradient(45deg, #7e7e7e, #7e7e7e 10px, #5c5c5c 10px, #5c5c5c 20px);\n",
              "    }\n",
              "    .progress-bar-interrupted, .progress-bar-interrupted::-webkit-progress-bar {\n",
              "        background: #F44336;\n",
              "    }\n",
              "</style>\n"
            ]
          },
          "metadata": {}
        },
        {
          "output_type": "display_data",
          "data": {
            "text/plain": [
              "<IPython.core.display.HTML object>"
            ],
            "text/html": [
              "<table border=\"1\" class=\"dataframe\">\n",
              "  <thead>\n",
              "    <tr style=\"text-align: left;\">\n",
              "      <th>epoch</th>\n",
              "      <th>train_loss</th>\n",
              "      <th>valid_loss</th>\n",
              "      <th>jaccard_coeff</th>\n",
              "      <th>dice</th>\n",
              "      <th>time</th>\n",
              "    </tr>\n",
              "  </thead>\n",
              "  <tbody>\n",
              "    <tr>\n",
              "      <td>0</td>\n",
              "      <td>8.189895</td>\n",
              "      <td>1.487988</td>\n",
              "      <td>0.893391</td>\n",
              "      <td>0.943694</td>\n",
              "      <td>00:03</td>\n",
              "    </tr>\n",
              "    <tr>\n",
              "      <td>1</td>\n",
              "      <td>8.220465</td>\n",
              "      <td>1.497611</td>\n",
              "      <td>0.893227</td>\n",
              "      <td>0.943602</td>\n",
              "      <td>00:03</td>\n",
              "    </tr>\n",
              "    <tr>\n",
              "      <td>2</td>\n",
              "      <td>7.144952</td>\n",
              "      <td>1.411641</td>\n",
              "      <td>0.904994</td>\n",
              "      <td>0.950128</td>\n",
              "      <td>00:03</td>\n",
              "    </tr>\n",
              "    <tr>\n",
              "      <td>3</td>\n",
              "      <td>6.304892</td>\n",
              "      <td>1.419065</td>\n",
              "      <td>0.903799</td>\n",
              "      <td>0.949469</td>\n",
              "      <td>00:03</td>\n",
              "    </tr>\n",
              "    <tr>\n",
              "      <td>4</td>\n",
              "      <td>5.674954</td>\n",
              "      <td>1.388266</td>\n",
              "      <td>0.907431</td>\n",
              "      <td>0.951469</td>\n",
              "      <td>00:03</td>\n",
              "    </tr>\n",
              "  </tbody>\n",
              "</table>"
            ]
          },
          "metadata": {}
        }
      ]
    },
    {
      "cell_type": "code",
      "source": [
        "modelS1Local.show_results()"
      ],
      "metadata": {
        "colab": {
          "base_uri": "https://localhost:8080/",
          "height": 1000
        },
        "id": "3c3MX49BgNaH",
        "outputId": "9cf292bd-e8b0-4ab1-ce76-752f36b7d0aa"
      },
      "execution_count": null,
      "outputs": [
        {
          "output_type": "display_data",
          "data": {
            "text/plain": [
              "<IPython.core.display.HTML object>"
            ],
            "text/html": [
              "\n",
              "            <style>\n",
              "                .geemap-dark {\n",
              "                    --jp-widgets-color: white;\n",
              "                    --jp-widgets-label-color: white;\n",
              "                    --jp-ui-font-color1: white;\n",
              "                    --jp-layout-color2: #454545;\n",
              "                    background-color: #383838;\n",
              "                }\n",
              "\n",
              "                .geemap-dark .jupyter-button {\n",
              "                    --jp-layout-color3: #383838;\n",
              "                }\n",
              "\n",
              "                .geemap-colab {\n",
              "                    background-color: var(--colab-primary-surface-color, white);\n",
              "                }\n",
              "\n",
              "                .geemap-colab .jupyter-button {\n",
              "                    --jp-layout-color3: var(--colab-primary-surface-color, white);\n",
              "                }\n",
              "            </style>\n",
              "            "
            ]
          },
          "metadata": {}
        },
        {
          "output_type": "display_data",
          "data": {
            "text/plain": [
              "<IPython.core.display.HTML object>"
            ],
            "text/html": [
              "\n",
              "<style>\n",
              "    /* Turns off some styling */\n",
              "    progress {\n",
              "        /* gets rid of default border in Firefox and Opera. */\n",
              "        border: none;\n",
              "        /* Needs to be in here for Safari polyfill so background images work as expected. */\n",
              "        background-size: auto;\n",
              "    }\n",
              "    progress:not([value]), progress:not([value])::-webkit-progress-bar {\n",
              "        background: repeating-linear-gradient(45deg, #7e7e7e, #7e7e7e 10px, #5c5c5c 10px, #5c5c5c 20px);\n",
              "    }\n",
              "    .progress-bar-interrupted, .progress-bar-interrupted::-webkit-progress-bar {\n",
              "        background: #F44336;\n",
              "    }\n",
              "</style>\n"
            ]
          },
          "metadata": {}
        },
        {
          "output_type": "display_data",
          "data": {
            "text/plain": [
              "<IPython.core.display.HTML object>"
            ],
            "text/html": []
          },
          "metadata": {}
        },
        {
          "output_type": "display_data",
          "data": {
            "text/plain": [
              "<Figure size 600x1800 with 12 Axes>"
            ],
            "image/png": "[encoded data removed]"
          },
          "metadata": {}
        }
      ]
    },
    {
      "cell_type": "code",
      "source": [
        "modelS1Local.save('/content/drive/MyDrive/Workspace/FZ/S1GlobalGEE_FT_SID19')"
      ],
      "metadata": {
        "colab": {
          "base_uri": "https://localhost:8080/",
          "height": 34
        },
        "id": "VdlSv8IzlJCo",
        "outputId": "a3c9e08a-d0aa-4456-f88a-4940d5c4a8bb"
      },
      "execution_count": null,
      "outputs": [
        {
          "output_type": "display_data",
          "data": {
            "text/plain": [
              "<IPython.core.display.HTML object>"
            ],
            "text/html": [
              "\n",
              "            <style>\n",
              "                .geemap-dark {\n",
              "                    --jp-widgets-color: white;\n",
              "                    --jp-widgets-label-color: white;\n",
              "                    --jp-ui-font-color1: white;\n",
              "                    --jp-layout-color2: #454545;\n",
              "                    background-color: #383838;\n",
              "                }\n",
              "\n",
              "                .geemap-dark .jupyter-button {\n",
              "                    --jp-layout-color3: #383838;\n",
              "                }\n",
              "\n",
              "                .geemap-colab {\n",
              "                    background-color: var(--colab-primary-surface-color, white);\n",
              "                }\n",
              "\n",
              "                .geemap-colab .jupyter-button {\n",
              "                    --jp-layout-color3: var(--colab-primary-surface-color, white);\n",
              "                }\n",
              "            </style>\n",
              "            "
            ]
          },
          "metadata": {}
        },
        {
          "output_type": "execute_result",
          "data": {
            "text/plain": [
              "Path('/content/drive/MyDrive/Workspace/FZ/S1GlobalGEE_FT_SID19.pth')"
            ]
          },
          "metadata": {},
          "execution_count": 115
        }
      ]
    },
    {
      "cell_type": "code",
      "source": [],
      "metadata": {
        "id": "RjUpuqnUliGT"
      },
      "execution_count": null,
      "outputs": []
    },
    {
      "cell_type": "code",
      "source": [],
      "metadata": {
        "id": "ruHM3277liLL"
      },
      "execution_count": null,
      "outputs": []
    },
    {
      "cell_type": "markdown",
      "source": [
        "##SID83"
      ],
      "metadata": {
        "id": "ohN1Ja3qDP4U"
      }
    },
    {
      "cell_type": "code",
      "source": [
        "#setting up data loader, check the filepaths\n",
        "dataLoaderS1Local = TifSegmentationDataLoaders.from_label_funcs(path='/content/SID_83/S1_256',\n",
        "                                                   bs = 16,\n",
        "                                                   codes=codes,\n",
        "                                                   fnames = get_files('/content/SID_83/S1_256', extensions=['.tif'], recurse=False),\n",
        "                                                   label_func = lambda o: get_mask_from_tif(f'/content/SID_83/DWLabels_256/{o.stem}{o.suffix}'),\n",
        "                                                   valid_pct=0.1,\n",
        "                                                   seed=42,\n",
        "                                                   batch_tfms = batch_tfms)"
      ],
      "metadata": {
        "colab": {
          "base_uri": "https://localhost:8080/",
          "height": 17
        },
        "outputId": "08952701-cd5d-44ae-bb4f-4fe006e58506",
        "id": "aUK8Qxw_DY36"
      },
      "execution_count": null,
      "outputs": [
        {
          "output_type": "display_data",
          "data": {
            "text/plain": [
              "<IPython.core.display.HTML object>"
            ],
            "text/html": [
              "\n",
              "            <style>\n",
              "                .geemap-dark {\n",
              "                    --jp-widgets-color: white;\n",
              "                    --jp-widgets-label-color: white;\n",
              "                    --jp-ui-font-color1: white;\n",
              "                    --jp-layout-color2: #454545;\n",
              "                    background-color: #383838;\n",
              "                }\n",
              "\n",
              "                .geemap-dark .jupyter-button {\n",
              "                    --jp-layout-color3: #383838;\n",
              "                }\n",
              "\n",
              "                .geemap-colab {\n",
              "                    background-color: var(--colab-primary-surface-color, white);\n",
              "                }\n",
              "\n",
              "                .geemap-colab .jupyter-button {\n",
              "                    --jp-layout-color3: var(--colab-primary-surface-color, white);\n",
              "                }\n",
              "            </style>\n",
              "            "
            ]
          },
          "metadata": {}
        }
      ]
    },
    {
      "cell_type": "code",
      "source": [
        "#setup the deep learning model\n",
        "modelS1Local =  unet_learner(dataLoaderS1Local, resnet34, n_in=3, n_out=2, metrics = [JaccardCoeff(), Dice()], loss_func=CombinedLoss(), opt_func=ranger, act_cls=Mish)"
      ],
      "metadata": {
        "colab": {
          "base_uri": "https://localhost:8080/",
          "height": 17
        },
        "outputId": "0d115b20-33ea-46b0-c958-b5bb5b2fa874",
        "id": "jIueD4J6DY4B"
      },
      "execution_count": null,
      "outputs": [
        {
          "output_type": "display_data",
          "data": {
            "text/plain": [
              "<IPython.core.display.HTML object>"
            ],
            "text/html": [
              "\n",
              "            <style>\n",
              "                .geemap-dark {\n",
              "                    --jp-widgets-color: white;\n",
              "                    --jp-widgets-label-color: white;\n",
              "                    --jp-ui-font-color1: white;\n",
              "                    --jp-layout-color2: #454545;\n",
              "                    background-color: #383838;\n",
              "                }\n",
              "\n",
              "                .geemap-dark .jupyter-button {\n",
              "                    --jp-layout-color3: #383838;\n",
              "                }\n",
              "\n",
              "                .geemap-colab {\n",
              "                    background-color: var(--colab-primary-surface-color, white);\n",
              "                }\n",
              "\n",
              "                .geemap-colab .jupyter-button {\n",
              "                    --jp-layout-color3: var(--colab-primary-surface-color, white);\n",
              "                }\n",
              "            </style>\n",
              "            "
            ]
          },
          "metadata": {}
        }
      ]
    },
    {
      "cell_type": "code",
      "source": [
        "#load the trained S1 global model (provided)\n",
        "modelS1Local.load('/content/drive/MyDrive/Workspace/FZ/model_resnet34_10epochs')"
      ],
      "metadata": {
        "colab": {
          "base_uri": "https://localhost:8080/",
          "height": 34
        },
        "outputId": "75d4df42-4cf7-454a-e570-096e2846e440",
        "id": "iNkK0T7tDY4B"
      },
      "execution_count": null,
      "outputs": [
        {
          "output_type": "display_data",
          "data": {
            "text/plain": [
              "<IPython.core.display.HTML object>"
            ],
            "text/html": [
              "\n",
              "            <style>\n",
              "                .geemap-dark {\n",
              "                    --jp-widgets-color: white;\n",
              "                    --jp-widgets-label-color: white;\n",
              "                    --jp-ui-font-color1: white;\n",
              "                    --jp-layout-color2: #454545;\n",
              "                    background-color: #383838;\n",
              "                }\n",
              "\n",
              "                .geemap-dark .jupyter-button {\n",
              "                    --jp-layout-color3: #383838;\n",
              "                }\n",
              "\n",
              "                .geemap-colab {\n",
              "                    background-color: var(--colab-primary-surface-color, white);\n",
              "                }\n",
              "\n",
              "                .geemap-colab .jupyter-button {\n",
              "                    --jp-layout-color3: var(--colab-primary-surface-color, white);\n",
              "                }\n",
              "            </style>\n",
              "            "
            ]
          },
          "metadata": {}
        },
        {
          "output_type": "execute_result",
          "data": {
            "text/plain": [
              "<fastai.learner.Learner at 0x7bdd008e3070>"
            ]
          },
          "metadata": {},
          "execution_count": 39
        }
      ]
    },
    {
      "cell_type": "code",
      "source": [
        "#find lr\n",
        "lrs = modelS1Local.lr_find(suggest_funcs=(minimum, steep, valley, slide))"
      ],
      "metadata": {
        "colab": {
          "base_uri": "https://localhost:8080/",
          "height": 454
        },
        "outputId": "a8eabe27-1cca-4924-b7ab-f104d5cb461d",
        "id": "R_vBrtwvDY4B"
      },
      "execution_count": null,
      "outputs": [
        {
          "output_type": "display_data",
          "data": {
            "text/plain": [
              "<IPython.core.display.HTML object>"
            ],
            "text/html": [
              "\n",
              "            <style>\n",
              "                .geemap-dark {\n",
              "                    --jp-widgets-color: white;\n",
              "                    --jp-widgets-label-color: white;\n",
              "                    --jp-ui-font-color1: white;\n",
              "                    --jp-layout-color2: #454545;\n",
              "                    background-color: #383838;\n",
              "                }\n",
              "\n",
              "                .geemap-dark .jupyter-button {\n",
              "                    --jp-layout-color3: #383838;\n",
              "                }\n",
              "\n",
              "                .geemap-colab {\n",
              "                    background-color: var(--colab-primary-surface-color, white);\n",
              "                }\n",
              "\n",
              "                .geemap-colab .jupyter-button {\n",
              "                    --jp-layout-color3: var(--colab-primary-surface-color, white);\n",
              "                }\n",
              "            </style>\n",
              "            "
            ]
          },
          "metadata": {}
        },
        {
          "output_type": "display_data",
          "data": {
            "text/plain": [
              "<IPython.core.display.HTML object>"
            ],
            "text/html": [
              "\n",
              "<style>\n",
              "    /* Turns off some styling */\n",
              "    progress {\n",
              "        /* gets rid of default border in Firefox and Opera. */\n",
              "        border: none;\n",
              "        /* Needs to be in here for Safari polyfill so background images work as expected. */\n",
              "        background-size: auto;\n",
              "    }\n",
              "    progress:not([value]), progress:not([value])::-webkit-progress-bar {\n",
              "        background: repeating-linear-gradient(45deg, #7e7e7e, #7e7e7e 10px, #5c5c5c 10px, #5c5c5c 20px);\n",
              "    }\n",
              "    .progress-bar-interrupted, .progress-bar-interrupted::-webkit-progress-bar {\n",
              "        background: #F44336;\n",
              "    }\n",
              "</style>\n"
            ]
          },
          "metadata": {}
        },
        {
          "output_type": "display_data",
          "data": {
            "text/plain": [
              "<IPython.core.display.HTML object>"
            ],
            "text/html": []
          },
          "metadata": {}
        },
        {
          "output_type": "display_data",
          "data": {
            "text/plain": [
              "<Figure size 640x480 with 1 Axes>"
            ],
            "image/png": "[encoded data removed]"
          },
          "metadata": {}
        }
      ]
    },
    {
      "cell_type": "code",
      "source": [
        "lr = lrs.valley"
      ],
      "metadata": {
        "colab": {
          "base_uri": "https://localhost:8080/",
          "height": 17
        },
        "outputId": "7fee0397-6506-4746-d614-c6f43d45bf5b",
        "id": "tZqFlFL8DY4B"
      },
      "execution_count": null,
      "outputs": [
        {
          "output_type": "display_data",
          "data": {
            "text/plain": [
              "<IPython.core.display.HTML object>"
            ],
            "text/html": [
              "\n",
              "            <style>\n",
              "                .geemap-dark {\n",
              "                    --jp-widgets-color: white;\n",
              "                    --jp-widgets-label-color: white;\n",
              "                    --jp-ui-font-color1: white;\n",
              "                    --jp-layout-color2: #454545;\n",
              "                    background-color: #383838;\n",
              "                }\n",
              "\n",
              "                .geemap-dark .jupyter-button {\n",
              "                    --jp-layout-color3: #383838;\n",
              "                }\n",
              "\n",
              "                .geemap-colab {\n",
              "                    background-color: var(--colab-primary-surface-color, white);\n",
              "                }\n",
              "\n",
              "                .geemap-colab .jupyter-button {\n",
              "                    --jp-layout-color3: var(--colab-primary-surface-color, white);\n",
              "                }\n",
              "            </style>\n",
              "            "
            ]
          },
          "metadata": {}
        }
      ]
    },
    {
      "cell_type": "code",
      "source": [
        "modelS1Local.fit_flat_cos(10, slice(lrs.valley))"
      ],
      "metadata": {
        "colab": {
          "base_uri": "https://localhost:8080/",
          "height": 363
        },
        "outputId": "308b50ac-1df0-4781-8bf3-7fa77ad89bba",
        "id": "NN62oFBODY4B"
      },
      "execution_count": null,
      "outputs": [
        {
          "output_type": "display_data",
          "data": {
            "text/plain": [
              "<IPython.core.display.HTML object>"
            ],
            "text/html": [
              "\n",
              "            <style>\n",
              "                .geemap-dark {\n",
              "                    --jp-widgets-color: white;\n",
              "                    --jp-widgets-label-color: white;\n",
              "                    --jp-ui-font-color1: white;\n",
              "                    --jp-layout-color2: #454545;\n",
              "                    background-color: #383838;\n",
              "                }\n",
              "\n",
              "                .geemap-dark .jupyter-button {\n",
              "                    --jp-layout-color3: #383838;\n",
              "                }\n",
              "\n",
              "                .geemap-colab {\n",
              "                    background-color: var(--colab-primary-surface-color, white);\n",
              "                }\n",
              "\n",
              "                .geemap-colab .jupyter-button {\n",
              "                    --jp-layout-color3: var(--colab-primary-surface-color, white);\n",
              "                }\n",
              "            </style>\n",
              "            "
            ]
          },
          "metadata": {}
        },
        {
          "output_type": "display_data",
          "data": {
            "text/plain": [
              "<IPython.core.display.HTML object>"
            ],
            "text/html": [
              "\n",
              "<style>\n",
              "    /* Turns off some styling */\n",
              "    progress {\n",
              "        /* gets rid of default border in Firefox and Opera. */\n",
              "        border: none;\n",
              "        /* Needs to be in here for Safari polyfill so background images work as expected. */\n",
              "        background-size: auto;\n",
              "    }\n",
              "    progress:not([value]), progress:not([value])::-webkit-progress-bar {\n",
              "        background: repeating-linear-gradient(45deg, #7e7e7e, #7e7e7e 10px, #5c5c5c 10px, #5c5c5c 20px);\n",
              "    }\n",
              "    .progress-bar-interrupted, .progress-bar-interrupted::-webkit-progress-bar {\n",
              "        background: #F44336;\n",
              "    }\n",
              "</style>\n"
            ]
          },
          "metadata": {}
        },
        {
          "output_type": "display_data",
          "data": {
            "text/plain": [
              "<IPython.core.display.HTML object>"
            ],
            "text/html": [
              "<table border=\"1\" class=\"dataframe\">\n",
              "  <thead>\n",
              "    <tr style=\"text-align: left;\">\n",
              "      <th>epoch</th>\n",
              "      <th>train_loss</th>\n",
              "      <th>valid_loss</th>\n",
              "      <th>jaccard_coeff</th>\n",
              "      <th>dice</th>\n",
              "      <th>time</th>\n",
              "    </tr>\n",
              "  </thead>\n",
              "  <tbody>\n",
              "    <tr>\n",
              "      <td>0</td>\n",
              "      <td>5.116054</td>\n",
              "      <td>0.760978</td>\n",
              "      <td>0.889272</td>\n",
              "      <td>0.941391</td>\n",
              "      <td>00:04</td>\n",
              "    </tr>\n",
              "    <tr>\n",
              "      <td>1</td>\n",
              "      <td>4.516410</td>\n",
              "      <td>0.809124</td>\n",
              "      <td>0.884346</td>\n",
              "      <td>0.938624</td>\n",
              "      <td>00:04</td>\n",
              "    </tr>\n",
              "    <tr>\n",
              "      <td>2</td>\n",
              "      <td>3.979466</td>\n",
              "      <td>0.780320</td>\n",
              "      <td>0.886251</td>\n",
              "      <td>0.939695</td>\n",
              "      <td>00:04</td>\n",
              "    </tr>\n",
              "    <tr>\n",
              "      <td>3</td>\n",
              "      <td>3.383665</td>\n",
              "      <td>0.702808</td>\n",
              "      <td>0.894311</td>\n",
              "      <td>0.944207</td>\n",
              "      <td>00:04</td>\n",
              "    </tr>\n",
              "    <tr>\n",
              "      <td>4</td>\n",
              "      <td>2.896917</td>\n",
              "      <td>0.654947</td>\n",
              "      <td>0.899277</td>\n",
              "      <td>0.946968</td>\n",
              "      <td>00:04</td>\n",
              "    </tr>\n",
              "    <tr>\n",
              "      <td>5</td>\n",
              "      <td>2.557867</td>\n",
              "      <td>0.611779</td>\n",
              "      <td>0.903751</td>\n",
              "      <td>0.949442</td>\n",
              "      <td>00:04</td>\n",
              "    </tr>\n",
              "    <tr>\n",
              "      <td>6</td>\n",
              "      <td>2.317642</td>\n",
              "      <td>0.586994</td>\n",
              "      <td>0.906986</td>\n",
              "      <td>0.951225</td>\n",
              "      <td>00:04</td>\n",
              "    </tr>\n",
              "    <tr>\n",
              "      <td>7</td>\n",
              "      <td>2.132700</td>\n",
              "      <td>0.562737</td>\n",
              "      <td>0.910338</td>\n",
              "      <td>0.953065</td>\n",
              "      <td>00:04</td>\n",
              "    </tr>\n",
              "    <tr>\n",
              "      <td>8</td>\n",
              "      <td>1.975332</td>\n",
              "      <td>0.548354</td>\n",
              "      <td>0.911894</td>\n",
              "      <td>0.953917</td>\n",
              "      <td>00:04</td>\n",
              "    </tr>\n",
              "    <tr>\n",
              "      <td>9</td>\n",
              "      <td>1.847074</td>\n",
              "      <td>0.553156</td>\n",
              "      <td>0.911267</td>\n",
              "      <td>0.953574</td>\n",
              "      <td>00:04</td>\n",
              "    </tr>\n",
              "  </tbody>\n",
              "</table>"
            ]
          },
          "metadata": {}
        }
      ]
    },
    {
      "cell_type": "code",
      "source": [
        "modelS1Local.show_results()"
      ],
      "metadata": {
        "colab": {
          "base_uri": "https://localhost:8080/",
          "height": 1000
        },
        "outputId": "3b334cb5-e43a-4ea1-aaef-38df37ecb789",
        "id": "mS78Igi7DY4B"
      },
      "execution_count": null,
      "outputs": [
        {
          "output_type": "display_data",
          "data": {
            "text/plain": [
              "<IPython.core.display.HTML object>"
            ],
            "text/html": [
              "\n",
              "            <style>\n",
              "                .geemap-dark {\n",
              "                    --jp-widgets-color: white;\n",
              "                    --jp-widgets-label-color: white;\n",
              "                    --jp-ui-font-color1: white;\n",
              "                    --jp-layout-color2: #454545;\n",
              "                    background-color: #383838;\n",
              "                }\n",
              "\n",
              "                .geemap-dark .jupyter-button {\n",
              "                    --jp-layout-color3: #383838;\n",
              "                }\n",
              "\n",
              "                .geemap-colab {\n",
              "                    background-color: var(--colab-primary-surface-color, white);\n",
              "                }\n",
              "\n",
              "                .geemap-colab .jupyter-button {\n",
              "                    --jp-layout-color3: var(--colab-primary-surface-color, white);\n",
              "                }\n",
              "            </style>\n",
              "            "
            ]
          },
          "metadata": {}
        },
        {
          "output_type": "display_data",
          "data": {
            "text/plain": [
              "<IPython.core.display.HTML object>"
            ],
            "text/html": [
              "\n",
              "<style>\n",
              "    /* Turns off some styling */\n",
              "    progress {\n",
              "        /* gets rid of default border in Firefox and Opera. */\n",
              "        border: none;\n",
              "        /* Needs to be in here for Safari polyfill so background images work as expected. */\n",
              "        background-size: auto;\n",
              "    }\n",
              "    progress:not([value]), progress:not([value])::-webkit-progress-bar {\n",
              "        background: repeating-linear-gradient(45deg, #7e7e7e, #7e7e7e 10px, #5c5c5c 10px, #5c5c5c 20px);\n",
              "    }\n",
              "    .progress-bar-interrupted, .progress-bar-interrupted::-webkit-progress-bar {\n",
              "        background: #F44336;\n",
              "    }\n",
              "</style>\n"
            ]
          },
          "metadata": {}
        },
        {
          "output_type": "display_data",
          "data": {
            "text/plain": [
              "<IPython.core.display.HTML object>"
            ],
            "text/html": []
          },
          "metadata": {}
        },
        {
          "output_type": "stream",
          "name": "stderr",
          "text": [
            "<ipython-input-10-f7eeb5106060>:87: RuntimeWarning: invalid value encountered in divide\n",
            "  return (vals - vmin)/(vmax-vmin)\n"
          ]
        },
        {
          "output_type": "display_data",
          "data": {
            "text/plain": [
              "<Figure size 600x2400 with 16 Axes>"
            ],
            "image/png": "[encoded data removed]"
          },
          "metadata": {}
        }
      ]
    },
    {
      "cell_type": "code",
      "source": [
        "modelS1Local.save('/content/drive/MyDrive/Workspace/FZ/S1GlobalGEE_FT_SID83')"
      ],
      "metadata": {
        "colab": {
          "base_uri": "https://localhost:8080/",
          "height": 34
        },
        "outputId": "40e1a0cb-1663-46dd-a3b3-10ae0ba5e998",
        "id": "TXDFKkZVDY4B"
      },
      "execution_count": null,
      "outputs": [
        {
          "output_type": "display_data",
          "data": {
            "text/plain": [
              "<IPython.core.display.HTML object>"
            ],
            "text/html": [
              "\n",
              "            <style>\n",
              "                .geemap-dark {\n",
              "                    --jp-widgets-color: white;\n",
              "                    --jp-widgets-label-color: white;\n",
              "                    --jp-ui-font-color1: white;\n",
              "                    --jp-layout-color2: #454545;\n",
              "                    background-color: #383838;\n",
              "                }\n",
              "\n",
              "                .geemap-dark .jupyter-button {\n",
              "                    --jp-layout-color3: #383838;\n",
              "                }\n",
              "\n",
              "                .geemap-colab {\n",
              "                    background-color: var(--colab-primary-surface-color, white);\n",
              "                }\n",
              "\n",
              "                .geemap-colab .jupyter-button {\n",
              "                    --jp-layout-color3: var(--colab-primary-surface-color, white);\n",
              "                }\n",
              "            </style>\n",
              "            "
            ]
          },
          "metadata": {}
        },
        {
          "output_type": "execute_result",
          "data": {
            "text/plain": [
              "Path('/content/drive/MyDrive/Workspace/FZ/S1GlobalGEE_FT_SID83.pth')"
            ]
          },
          "metadata": {},
          "execution_count": 44
        }
      ]
    },
    {
      "cell_type": "markdown",
      "source": [
        "##SID44\n"
      ],
      "metadata": {
        "id": "643MZLlQD-22"
      }
    },
    {
      "cell_type": "code",
      "source": [
        "#setting up data loader, check the filepaths\n",
        "dataLoaderS1Local = TifSegmentationDataLoaders.from_label_funcs(path='/content/SID_44/S1_256',\n",
        "                                                   bs = 16,\n",
        "                                                   codes=codes,\n",
        "                                                   fnames = get_files('/content/SID_44/S1_256', extensions=['.tif'], recurse=False),\n",
        "                                                   label_func = lambda o: get_mask_from_tif(f'/content/SID_44/DWLabels_256/{o.stem}{o.suffix}'),\n",
        "                                                   valid_pct=0.1,\n",
        "                                                   seed=42,\n",
        "                                                   batch_tfms = batch_tfms)"
      ],
      "metadata": {
        "colab": {
          "base_uri": "https://localhost:8080/",
          "height": 17
        },
        "outputId": "42f35879-7b3c-496e-9b1e-85a2007dc196",
        "id": "RD_fwSrLECKG"
      },
      "execution_count": null,
      "outputs": [
        {
          "output_type": "display_data",
          "data": {
            "text/plain": [
              "<IPython.core.display.HTML object>"
            ],
            "text/html": [
              "\n",
              "            <style>\n",
              "                .geemap-dark {\n",
              "                    --jp-widgets-color: white;\n",
              "                    --jp-widgets-label-color: white;\n",
              "                    --jp-ui-font-color1: white;\n",
              "                    --jp-layout-color2: #454545;\n",
              "                    background-color: #383838;\n",
              "                }\n",
              "\n",
              "                .geemap-dark .jupyter-button {\n",
              "                    --jp-layout-color3: #383838;\n",
              "                }\n",
              "\n",
              "                .geemap-colab {\n",
              "                    background-color: var(--colab-primary-surface-color, white);\n",
              "                }\n",
              "\n",
              "                .geemap-colab .jupyter-button {\n",
              "                    --jp-layout-color3: var(--colab-primary-surface-color, white);\n",
              "                }\n",
              "            </style>\n",
              "            "
            ]
          },
          "metadata": {}
        }
      ]
    },
    {
      "cell_type": "code",
      "source": [
        "#setup the deep learning model\n",
        "modelS1Local =  unet_learner(dataLoaderS1Local, resnet34, n_in=3, n_out=2, metrics = [JaccardCoeff(), Dice()], loss_func=CombinedLoss(), opt_func=ranger, act_cls=Mish)"
      ],
      "metadata": {
        "colab": {
          "base_uri": "https://localhost:8080/",
          "height": 17
        },
        "outputId": "add26c7e-fc1e-4798-8b90-37ab45ffe4a0",
        "id": "WSc9_mMQECKH"
      },
      "execution_count": null,
      "outputs": [
        {
          "output_type": "display_data",
          "data": {
            "text/plain": [
              "<IPython.core.display.HTML object>"
            ],
            "text/html": [
              "\n",
              "            <style>\n",
              "                .geemap-dark {\n",
              "                    --jp-widgets-color: white;\n",
              "                    --jp-widgets-label-color: white;\n",
              "                    --jp-ui-font-color1: white;\n",
              "                    --jp-layout-color2: #454545;\n",
              "                    background-color: #383838;\n",
              "                }\n",
              "\n",
              "                .geemap-dark .jupyter-button {\n",
              "                    --jp-layout-color3: #383838;\n",
              "                }\n",
              "\n",
              "                .geemap-colab {\n",
              "                    background-color: var(--colab-primary-surface-color, white);\n",
              "                }\n",
              "\n",
              "                .geemap-colab .jupyter-button {\n",
              "                    --jp-layout-color3: var(--colab-primary-surface-color, white);\n",
              "                }\n",
              "            </style>\n",
              "            "
            ]
          },
          "metadata": {}
        }
      ]
    },
    {
      "cell_type": "code",
      "source": [
        "#load the trained S1 global model (provided)\n",
        "modelS1Local.load('/content/drive/MyDrive/Workspace/FZ/model_resnet34_10epochs')"
      ],
      "metadata": {
        "colab": {
          "base_uri": "https://localhost:8080/",
          "height": 34
        },
        "outputId": "1ed2f11d-73c1-4538-f981-2fca8ddd75de",
        "id": "F_rwstWhECKH"
      },
      "execution_count": null,
      "outputs": [
        {
          "output_type": "display_data",
          "data": {
            "text/plain": [
              "<IPython.core.display.HTML object>"
            ],
            "text/html": [
              "\n",
              "            <style>\n",
              "                .geemap-dark {\n",
              "                    --jp-widgets-color: white;\n",
              "                    --jp-widgets-label-color: white;\n",
              "                    --jp-ui-font-color1: white;\n",
              "                    --jp-layout-color2: #454545;\n",
              "                    background-color: #383838;\n",
              "                }\n",
              "\n",
              "                .geemap-dark .jupyter-button {\n",
              "                    --jp-layout-color3: #383838;\n",
              "                }\n",
              "\n",
              "                .geemap-colab {\n",
              "                    background-color: var(--colab-primary-surface-color, white);\n",
              "                }\n",
              "\n",
              "                .geemap-colab .jupyter-button {\n",
              "                    --jp-layout-color3: var(--colab-primary-surface-color, white);\n",
              "                }\n",
              "            </style>\n",
              "            "
            ]
          },
          "metadata": {}
        },
        {
          "output_type": "execute_result",
          "data": {
            "text/plain": [
              "<fastai.learner.Learner at 0x7bdd01a4d630>"
            ]
          },
          "metadata": {},
          "execution_count": 146
        }
      ]
    },
    {
      "cell_type": "code",
      "source": [
        "#find lr\n",
        "lrs = modelS1Local.lr_find(suggest_funcs=(minimum, steep, valley, slide))"
      ],
      "metadata": {
        "colab": {
          "base_uri": "https://localhost:8080/",
          "height": 455
        },
        "outputId": "01575f38-fdab-4908-c461-40f341736d03",
        "id": "9TXxMsFUECKH"
      },
      "execution_count": null,
      "outputs": [
        {
          "output_type": "display_data",
          "data": {
            "text/plain": [
              "<IPython.core.display.HTML object>"
            ],
            "text/html": [
              "\n",
              "            <style>\n",
              "                .geemap-dark {\n",
              "                    --jp-widgets-color: white;\n",
              "                    --jp-widgets-label-color: white;\n",
              "                    --jp-ui-font-color1: white;\n",
              "                    --jp-layout-color2: #454545;\n",
              "                    background-color: #383838;\n",
              "                }\n",
              "\n",
              "                .geemap-dark .jupyter-button {\n",
              "                    --jp-layout-color3: #383838;\n",
              "                }\n",
              "\n",
              "                .geemap-colab {\n",
              "                    background-color: var(--colab-primary-surface-color, white);\n",
              "                }\n",
              "\n",
              "                .geemap-colab .jupyter-button {\n",
              "                    --jp-layout-color3: var(--colab-primary-surface-color, white);\n",
              "                }\n",
              "            </style>\n",
              "            "
            ]
          },
          "metadata": {}
        },
        {
          "output_type": "display_data",
          "data": {
            "text/plain": [
              "<IPython.core.display.HTML object>"
            ],
            "text/html": [
              "\n",
              "<style>\n",
              "    /* Turns off some styling */\n",
              "    progress {\n",
              "        /* gets rid of default border in Firefox and Opera. */\n",
              "        border: none;\n",
              "        /* Needs to be in here for Safari polyfill so background images work as expected. */\n",
              "        background-size: auto;\n",
              "    }\n",
              "    progress:not([value]), progress:not([value])::-webkit-progress-bar {\n",
              "        background: repeating-linear-gradient(45deg, #7e7e7e, #7e7e7e 10px, #5c5c5c 10px, #5c5c5c 20px);\n",
              "    }\n",
              "    .progress-bar-interrupted, .progress-bar-interrupted::-webkit-progress-bar {\n",
              "        background: #F44336;\n",
              "    }\n",
              "</style>\n"
            ]
          },
          "metadata": {}
        },
        {
          "output_type": "display_data",
          "data": {
            "text/plain": [
              "<IPython.core.display.HTML object>"
            ],
            "text/html": []
          },
          "metadata": {}
        },
        {
          "output_type": "display_data",
          "data": {
            "text/plain": [
              "<Figure size 640x480 with 1 Axes>"
            ],
            "image/png": "[encoded data removed]"
          },
          "metadata": {}
        }
      ]
    },
    {
      "cell_type": "code",
      "source": [
        "lr = lrs.valley"
      ],
      "metadata": {
        "colab": {
          "base_uri": "https://localhost:8080/",
          "height": 17
        },
        "outputId": "3d2b016c-5f91-47da-d0ca-26438d2e7395",
        "id": "8mi3_3UlECKH"
      },
      "execution_count": null,
      "outputs": [
        {
          "output_type": "display_data",
          "data": {
            "text/plain": [
              "<IPython.core.display.HTML object>"
            ],
            "text/html": [
              "\n",
              "            <style>\n",
              "                .geemap-dark {\n",
              "                    --jp-widgets-color: white;\n",
              "                    --jp-widgets-label-color: white;\n",
              "                    --jp-ui-font-color1: white;\n",
              "                    --jp-layout-color2: #454545;\n",
              "                    background-color: #383838;\n",
              "                }\n",
              "\n",
              "                .geemap-dark .jupyter-button {\n",
              "                    --jp-layout-color3: #383838;\n",
              "                }\n",
              "\n",
              "                .geemap-colab {\n",
              "                    background-color: var(--colab-primary-surface-color, white);\n",
              "                }\n",
              "\n",
              "                .geemap-colab .jupyter-button {\n",
              "                    --jp-layout-color3: var(--colab-primary-surface-color, white);\n",
              "                }\n",
              "            </style>\n",
              "            "
            ]
          },
          "metadata": {}
        }
      ]
    },
    {
      "cell_type": "code",
      "source": [
        "modelS1Local.fit_flat_cos(10, slice(lrs.valley))"
      ],
      "metadata": {
        "colab": {
          "base_uri": "https://localhost:8080/",
          "height": 363
        },
        "outputId": "ac90cf41-cf2a-4c0c-e04c-50a73ea7f543",
        "id": "MO-I6ZNUECKH"
      },
      "execution_count": null,
      "outputs": [
        {
          "output_type": "display_data",
          "data": {
            "text/plain": [
              "<IPython.core.display.HTML object>"
            ],
            "text/html": [
              "\n",
              "            <style>\n",
              "                .geemap-dark {\n",
              "                    --jp-widgets-color: white;\n",
              "                    --jp-widgets-label-color: white;\n",
              "                    --jp-ui-font-color1: white;\n",
              "                    --jp-layout-color2: #454545;\n",
              "                    background-color: #383838;\n",
              "                }\n",
              "\n",
              "                .geemap-dark .jupyter-button {\n",
              "                    --jp-layout-color3: #383838;\n",
              "                }\n",
              "\n",
              "                .geemap-colab {\n",
              "                    background-color: var(--colab-primary-surface-color, white);\n",
              "                }\n",
              "\n",
              "                .geemap-colab .jupyter-button {\n",
              "                    --jp-layout-color3: var(--colab-primary-surface-color, white);\n",
              "                }\n",
              "            </style>\n",
              "            "
            ]
          },
          "metadata": {}
        },
        {
          "output_type": "display_data",
          "data": {
            "text/plain": [
              "<IPython.core.display.HTML object>"
            ],
            "text/html": [
              "\n",
              "<style>\n",
              "    /* Turns off some styling */\n",
              "    progress {\n",
              "        /* gets rid of default border in Firefox and Opera. */\n",
              "        border: none;\n",
              "        /* Needs to be in here for Safari polyfill so background images work as expected. */\n",
              "        background-size: auto;\n",
              "    }\n",
              "    progress:not([value]), progress:not([value])::-webkit-progress-bar {\n",
              "        background: repeating-linear-gradient(45deg, #7e7e7e, #7e7e7e 10px, #5c5c5c 10px, #5c5c5c 20px);\n",
              "    }\n",
              "    .progress-bar-interrupted, .progress-bar-interrupted::-webkit-progress-bar {\n",
              "        background: #F44336;\n",
              "    }\n",
              "</style>\n"
            ]
          },
          "metadata": {}
        },
        {
          "output_type": "display_data",
          "data": {
            "text/plain": [
              "<IPython.core.display.HTML object>"
            ],
            "text/html": [
              "<table border=\"1\" class=\"dataframe\">\n",
              "  <thead>\n",
              "    <tr style=\"text-align: left;\">\n",
              "      <th>epoch</th>\n",
              "      <th>train_loss</th>\n",
              "      <th>valid_loss</th>\n",
              "      <th>jaccard_coeff</th>\n",
              "      <th>dice</th>\n",
              "      <th>time</th>\n",
              "    </tr>\n",
              "  </thead>\n",
              "  <tbody>\n",
              "    <tr>\n",
              "      <td>0</td>\n",
              "      <td>5.980913</td>\n",
              "      <td>2.639514</td>\n",
              "      <td>0.771662</td>\n",
              "      <td>0.871116</td>\n",
              "      <td>00:16</td>\n",
              "    </tr>\n",
              "    <tr>\n",
              "      <td>1</td>\n",
              "      <td>4.181108</td>\n",
              "      <td>1.918275</td>\n",
              "      <td>0.828680</td>\n",
              "      <td>0.906315</td>\n",
              "      <td>00:17</td>\n",
              "    </tr>\n",
              "    <tr>\n",
              "      <td>2</td>\n",
              "      <td>3.319046</td>\n",
              "      <td>1.570270</td>\n",
              "      <td>0.856747</td>\n",
              "      <td>0.922847</td>\n",
              "      <td>00:17</td>\n",
              "    </tr>\n",
              "    <tr>\n",
              "      <td>3</td>\n",
              "      <td>2.823756</td>\n",
              "      <td>1.465756</td>\n",
              "      <td>0.865661</td>\n",
              "      <td>0.927994</td>\n",
              "      <td>00:17</td>\n",
              "    </tr>\n",
              "    <tr>\n",
              "      <td>4</td>\n",
              "      <td>2.495945</td>\n",
              "      <td>1.326751</td>\n",
              "      <td>0.879179</td>\n",
              "      <td>0.935705</td>\n",
              "      <td>00:17</td>\n",
              "    </tr>\n",
              "    <tr>\n",
              "      <td>5</td>\n",
              "      <td>2.244916</td>\n",
              "      <td>1.255188</td>\n",
              "      <td>0.885230</td>\n",
              "      <td>0.939122</td>\n",
              "      <td>00:17</td>\n",
              "    </tr>\n",
              "    <tr>\n",
              "      <td>6</td>\n",
              "      <td>2.045461</td>\n",
              "      <td>1.200576</td>\n",
              "      <td>0.890046</td>\n",
              "      <td>0.941825</td>\n",
              "      <td>00:17</td>\n",
              "    </tr>\n",
              "    <tr>\n",
              "      <td>7</td>\n",
              "      <td>1.905874</td>\n",
              "      <td>1.157734</td>\n",
              "      <td>0.893828</td>\n",
              "      <td>0.943938</td>\n",
              "      <td>00:17</td>\n",
              "    </tr>\n",
              "    <tr>\n",
              "      <td>8</td>\n",
              "      <td>1.797226</td>\n",
              "      <td>1.145874</td>\n",
              "      <td>0.894784</td>\n",
              "      <td>0.944471</td>\n",
              "      <td>00:17</td>\n",
              "    </tr>\n",
              "    <tr>\n",
              "      <td>9</td>\n",
              "      <td>1.719458</td>\n",
              "      <td>1.141841</td>\n",
              "      <td>0.895108</td>\n",
              "      <td>0.944651</td>\n",
              "      <td>00:17</td>\n",
              "    </tr>\n",
              "  </tbody>\n",
              "</table>"
            ]
          },
          "metadata": {}
        }
      ]
    },
    {
      "cell_type": "code",
      "source": [
        "modelS1Local.show_results()"
      ],
      "metadata": {
        "colab": {
          "base_uri": "https://localhost:8080/",
          "height": 1000
        },
        "outputId": "57f059af-8a51-4a0c-fbd0-c23841a1ca5e",
        "id": "NRYdeCRvECKH"
      },
      "execution_count": null,
      "outputs": [
        {
          "output_type": "display_data",
          "data": {
            "text/plain": [
              "<IPython.core.display.HTML object>"
            ],
            "text/html": [
              "\n",
              "            <style>\n",
              "                .geemap-dark {\n",
              "                    --jp-widgets-color: white;\n",
              "                    --jp-widgets-label-color: white;\n",
              "                    --jp-ui-font-color1: white;\n",
              "                    --jp-layout-color2: #454545;\n",
              "                    background-color: #383838;\n",
              "                }\n",
              "\n",
              "                .geemap-dark .jupyter-button {\n",
              "                    --jp-layout-color3: #383838;\n",
              "                }\n",
              "\n",
              "                .geemap-colab {\n",
              "                    background-color: var(--colab-primary-surface-color, white);\n",
              "                }\n",
              "\n",
              "                .geemap-colab .jupyter-button {\n",
              "                    --jp-layout-color3: var(--colab-primary-surface-color, white);\n",
              "                }\n",
              "            </style>\n",
              "            "
            ]
          },
          "metadata": {}
        },
        {
          "output_type": "display_data",
          "data": {
            "text/plain": [
              "<IPython.core.display.HTML object>"
            ],
            "text/html": [
              "\n",
              "<style>\n",
              "    /* Turns off some styling */\n",
              "    progress {\n",
              "        /* gets rid of default border in Firefox and Opera. */\n",
              "        border: none;\n",
              "        /* Needs to be in here for Safari polyfill so background images work as expected. */\n",
              "        background-size: auto;\n",
              "    }\n",
              "    progress:not([value]), progress:not([value])::-webkit-progress-bar {\n",
              "        background: repeating-linear-gradient(45deg, #7e7e7e, #7e7e7e 10px, #5c5c5c 10px, #5c5c5c 20px);\n",
              "    }\n",
              "    .progress-bar-interrupted, .progress-bar-interrupted::-webkit-progress-bar {\n",
              "        background: #F44336;\n",
              "    }\n",
              "</style>\n"
            ]
          },
          "metadata": {}
        },
        {
          "output_type": "display_data",
          "data": {
            "text/plain": [
              "<IPython.core.display.HTML object>"
            ],
            "text/html": []
          },
          "metadata": {}
        },
        {
          "output_type": "stream",
          "name": "stderr",
          "text": [
            "<ipython-input-10-f7eeb5106060>:87: RuntimeWarning: invalid value encountered in divide\n",
            "  return (vals - vmin)/(vmax-vmin)\n"
          ]
        },
        {
          "output_type": "display_data",
          "data": {
            "text/plain": [
              "<Figure size 600x2700 with 18 Axes>"
            ],
            "image/png": "[encoded data removed]"
          },
          "metadata": {}
        }
      ]
    },
    {
      "cell_type": "code",
      "source": [
        "modelS1Local.save('/content/drive/MyDrive/Workspace/FZ/S1GlobalGEE_FT_SID44')"
      ],
      "metadata": {
        "colab": {
          "base_uri": "https://localhost:8080/",
          "height": 34
        },
        "outputId": "631925b7-c519-479a-8b7c-d840e908c6ff",
        "id": "n2XoZqN-ECKI"
      },
      "execution_count": null,
      "outputs": [
        {
          "output_type": "display_data",
          "data": {
            "text/plain": [
              "<IPython.core.display.HTML object>"
            ],
            "text/html": [
              "\n",
              "            <style>\n",
              "                .geemap-dark {\n",
              "                    --jp-widgets-color: white;\n",
              "                    --jp-widgets-label-color: white;\n",
              "                    --jp-ui-font-color1: white;\n",
              "                    --jp-layout-color2: #454545;\n",
              "                    background-color: #383838;\n",
              "                }\n",
              "\n",
              "                .geemap-dark .jupyter-button {\n",
              "                    --jp-layout-color3: #383838;\n",
              "                }\n",
              "\n",
              "                .geemap-colab {\n",
              "                    background-color: var(--colab-primary-surface-color, white);\n",
              "                }\n",
              "\n",
              "                .geemap-colab .jupyter-button {\n",
              "                    --jp-layout-color3: var(--colab-primary-surface-color, white);\n",
              "                }\n",
              "            </style>\n",
              "            "
            ]
          },
          "metadata": {}
        },
        {
          "output_type": "execute_result",
          "data": {
            "text/plain": [
              "Path('/content/drive/MyDrive/Workspace/FZ/S1GlobalGEE_FT_SID44.pth')"
            ]
          },
          "metadata": {},
          "execution_count": 159
        }
      ]
    },
    {
      "cell_type": "markdown",
      "source": [
        "##**Predictions**"
      ],
      "metadata": {
        "id": "uDC6oWvBFFbF"
      }
    },
    {
      "cell_type": "code",
      "source": [],
      "metadata": {
        "id": "yUBHIYm2yTiI"
      },
      "execution_count": null,
      "outputs": []
    },
    {
      "cell_type": "markdown",
      "source": [
        "###Predict on Local"
      ],
      "metadata": {
        "id": "nAzSY9zIhQAT"
      }
    },
    {
      "cell_type": "code",
      "source": [],
      "metadata": {
        "id": "H9hiGH-UFHk_"
      },
      "execution_count": null,
      "outputs": []
    },
    {
      "cell_type": "code",
      "source": [
        "toPredictFolder = '/content/SID_44/S1_256'"
      ],
      "metadata": {
        "colab": {
          "base_uri": "https://localhost:8080/",
          "height": 17
        },
        "outputId": "330cdfa6-6dca-4774-f205-4753c0509604",
        "id": "rfPRW1bHFlGw"
      },
      "execution_count": null,
      "outputs": [
        {
          "output_type": "display_data",
          "data": {
            "text/plain": [
              "<IPython.core.display.HTML object>"
            ],
            "text/html": [
              "\n",
              "            <style>\n",
              "                .geemap-dark {\n",
              "                    --jp-widgets-color: white;\n",
              "                    --jp-widgets-label-color: white;\n",
              "                    --jp-ui-font-color1: white;\n",
              "                    --jp-layout-color2: #454545;\n",
              "                    background-color: #383838;\n",
              "                }\n",
              "\n",
              "                .geemap-dark .jupyter-button {\n",
              "                    --jp-layout-color3: #383838;\n",
              "                }\n",
              "\n",
              "                .geemap-colab {\n",
              "                    background-color: var(--colab-primary-surface-color, white);\n",
              "                }\n",
              "\n",
              "                .geemap-colab .jupyter-button {\n",
              "                    --jp-layout-color3: var(--colab-primary-surface-color, white);\n",
              "                }\n",
              "            </style>\n",
              "            "
            ]
          },
          "metadata": {}
        }
      ]
    },
    {
      "cell_type": "code",
      "source": [
        "#Set the dataset for inference\n",
        "inferSet = [fn for fn in sorted((Path(toPredictFolder)).glob('**/*')) if fn.is_file()]"
      ],
      "metadata": {
        "colab": {
          "base_uri": "https://localhost:8080/",
          "height": 17
        },
        "outputId": "277b83ca-cd24-4fc1-a9e7-3840fdf9e2c3",
        "id": "rioF5SE8FlGw"
      },
      "execution_count": null,
      "outputs": [
        {
          "output_type": "display_data",
          "data": {
            "text/plain": [
              "<IPython.core.display.HTML object>"
            ],
            "text/html": [
              "\n",
              "            <style>\n",
              "                .geemap-dark {\n",
              "                    --jp-widgets-color: white;\n",
              "                    --jp-widgets-label-color: white;\n",
              "                    --jp-ui-font-color1: white;\n",
              "                    --jp-layout-color2: #454545;\n",
              "                    background-color: #383838;\n",
              "                }\n",
              "\n",
              "                .geemap-dark .jupyter-button {\n",
              "                    --jp-layout-color3: #383838;\n",
              "                }\n",
              "\n",
              "                .geemap-colab {\n",
              "                    background-color: var(--colab-primary-surface-color, white);\n",
              "                }\n",
              "\n",
              "                .geemap-colab .jupyter-button {\n",
              "                    --jp-layout-color3: var(--colab-primary-surface-color, white);\n",
              "                }\n",
              "            </style>\n",
              "            "
            ]
          },
          "metadata": {}
        }
      ]
    },
    {
      "cell_type": "code",
      "source": [
        "modelS1Local.load('/content/drive/MyDrive/Workspace/FZ/S1GlobalGEE_FT_SID44')"
      ],
      "metadata": {
        "colab": {
          "base_uri": "https://localhost:8080/",
          "height": 34
        },
        "id": "u5xr7HQQe9wr",
        "outputId": "b5a8a671-fe99-47e1-c206-558e8c9045f8"
      },
      "execution_count": null,
      "outputs": [
        {
          "output_type": "display_data",
          "data": {
            "text/plain": [
              "<IPython.core.display.HTML object>"
            ],
            "text/html": [
              "\n",
              "            <style>\n",
              "                .geemap-dark {\n",
              "                    --jp-widgets-color: white;\n",
              "                    --jp-widgets-label-color: white;\n",
              "                    --jp-ui-font-color1: white;\n",
              "                    --jp-layout-color2: #454545;\n",
              "                    background-color: #383838;\n",
              "                }\n",
              "\n",
              "                .geemap-dark .jupyter-button {\n",
              "                    --jp-layout-color3: #383838;\n",
              "                }\n",
              "\n",
              "                .geemap-colab {\n",
              "                    background-color: var(--colab-primary-surface-color, white);\n",
              "                }\n",
              "\n",
              "                .geemap-colab .jupyter-button {\n",
              "                    --jp-layout-color3: var(--colab-primary-surface-color, white);\n",
              "                }\n",
              "            </style>\n",
              "            "
            ]
          },
          "metadata": {}
        },
        {
          "output_type": "execute_result",
          "data": {
            "text/plain": [
              "<fastai.learner.Learner at 0x7bdd01a4d630>"
            ]
          },
          "metadata": {},
          "execution_count": 154
        }
      ]
    },
    {
      "cell_type": "code",
      "execution_count": null,
      "metadata": {
        "colab": {
          "base_uri": "https://localhost:8080/",
          "height": 17
        },
        "outputId": "89343ac3-b6cf-41ae-9bab-07ddc87d7a03",
        "id": "xiE-mktZFlGw"
      },
      "outputs": [
        {
          "output_type": "display_data",
          "data": {
            "text/plain": [
              "<IPython.core.display.HTML object>"
            ],
            "text/html": [
              "\n",
              "            <style>\n",
              "                .geemap-dark {\n",
              "                    --jp-widgets-color: white;\n",
              "                    --jp-widgets-label-color: white;\n",
              "                    --jp-ui-font-color1: white;\n",
              "                    --jp-layout-color2: #454545;\n",
              "                    background-color: #383838;\n",
              "                }\n",
              "\n",
              "                .geemap-dark .jupyter-button {\n",
              "                    --jp-layout-color3: #383838;\n",
              "                }\n",
              "\n",
              "                .geemap-colab {\n",
              "                    background-color: var(--colab-primary-surface-color, white);\n",
              "                }\n",
              "\n",
              "                .geemap-colab .jupyter-button {\n",
              "                    --jp-layout-color3: var(--colab-primary-surface-color, white);\n",
              "                }\n",
              "            </style>\n",
              "            "
            ]
          },
          "metadata": {}
        }
      ],
      "source": [
        "#Set the dataset for testing\n",
        "test_dl = modelS1Local.dls.test_dl(inferSet)"
      ]
    },
    {
      "cell_type": "code",
      "execution_count": null,
      "metadata": {
        "colab": {
          "base_uri": "https://localhost:8080/",
          "height": 17
        },
        "outputId": "cfaf07ad-1e48-48bf-aab9-ddab5810cf87",
        "id": "lNXfVws4FlGw"
      },
      "outputs": [
        {
          "output_type": "display_data",
          "data": {
            "text/plain": [
              "<IPython.core.display.HTML object>"
            ],
            "text/html": [
              "\n",
              "            <style>\n",
              "                .geemap-dark {\n",
              "                    --jp-widgets-color: white;\n",
              "                    --jp-widgets-label-color: white;\n",
              "                    --jp-ui-font-color1: white;\n",
              "                    --jp-layout-color2: #454545;\n",
              "                    background-color: #383838;\n",
              "                }\n",
              "\n",
              "                .geemap-dark .jupyter-button {\n",
              "                    --jp-layout-color3: #383838;\n",
              "                }\n",
              "\n",
              "                .geemap-colab {\n",
              "                    background-color: var(--colab-primary-surface-color, white);\n",
              "                }\n",
              "\n",
              "                .geemap-colab .jupyter-button {\n",
              "                    --jp-layout-color3: var(--colab-primary-surface-color, white);\n",
              "                }\n",
              "            </style>\n",
              "            "
            ]
          },
          "metadata": {}
        },
        {
          "output_type": "display_data",
          "data": {
            "text/plain": [
              "<IPython.core.display.HTML object>"
            ],
            "text/html": [
              "\n",
              "<style>\n",
              "    /* Turns off some styling */\n",
              "    progress {\n",
              "        /* gets rid of default border in Firefox and Opera. */\n",
              "        border: none;\n",
              "        /* Needs to be in here for Safari polyfill so background images work as expected. */\n",
              "        background-size: auto;\n",
              "    }\n",
              "    progress:not([value]), progress:not([value])::-webkit-progress-bar {\n",
              "        background: repeating-linear-gradient(45deg, #7e7e7e, #7e7e7e 10px, #5c5c5c 10px, #5c5c5c 20px);\n",
              "    }\n",
              "    .progress-bar-interrupted, .progress-bar-interrupted::-webkit-progress-bar {\n",
              "        background: #F44336;\n",
              "    }\n",
              "</style>\n"
            ]
          },
          "metadata": {}
        },
        {
          "output_type": "display_data",
          "data": {
            "text/plain": [
              "<IPython.core.display.HTML object>"
            ],
            "text/html": []
          },
          "metadata": {}
        }
      ],
      "source": [
        "#Get the predictions\n",
        "preds = modelS1Local.get_preds(dl=test_dl)"
      ]
    },
    {
      "cell_type": "code",
      "execution_count": null,
      "metadata": {
        "colab": {
          "base_uri": "https://localhost:8080/",
          "height": 34
        },
        "outputId": "79b0d5ae-61bc-4070-e877-52c87c500b0a",
        "id": "J4muGcVNFlGw"
      },
      "outputs": [
        {
          "output_type": "display_data",
          "data": {
            "text/plain": [
              "<IPython.core.display.HTML object>"
            ],
            "text/html": [
              "\n",
              "            <style>\n",
              "                .geemap-dark {\n",
              "                    --jp-widgets-color: white;\n",
              "                    --jp-widgets-label-color: white;\n",
              "                    --jp-ui-font-color1: white;\n",
              "                    --jp-layout-color2: #454545;\n",
              "                    background-color: #383838;\n",
              "                }\n",
              "\n",
              "                .geemap-dark .jupyter-button {\n",
              "                    --jp-layout-color3: #383838;\n",
              "                }\n",
              "\n",
              "                .geemap-colab {\n",
              "                    background-color: var(--colab-primary-surface-color, white);\n",
              "                }\n",
              "\n",
              "                .geemap-colab .jupyter-button {\n",
              "                    --jp-layout-color3: var(--colab-primary-surface-color, white);\n",
              "                }\n",
              "            </style>\n",
              "            "
            ]
          },
          "metadata": {}
        },
        {
          "output_type": "stream",
          "name": "stdout",
          "text": [
            "All images have been saved in the 'predictedImages_SID44' folder.\n"
          ]
        }
      ],
      "source": [
        "import os\n",
        "from PIL import Image\n",
        "import numpy as np\n",
        "\n",
        "# Create a folder named 'output_images' if it doesn't exist\n",
        "output_folder = 'predictedImages_SID44'\n",
        "if not os.path.exists(output_folder):\n",
        "    os.makedirs(output_folder)\n",
        "\n",
        "# Your loop for saving images\n",
        "for i, pred in enumerate(preds[0]):\n",
        "    pred_arg = pred.argmax(dim=0).numpy().astype(np.uint8)\n",
        "    im = Image.fromarray(pred_arg)\n",
        "\n",
        "    # Extract the image name from its full path\n",
        "    image_name = str(inferSet[i].name).split('/')[-1]\n",
        "\n",
        "    # Combine the folder name with the image name\n",
        "    save_path = os.path.join(output_folder, image_name)\n",
        "\n",
        "    # Save the image in the specified folder\n",
        "    im.save(save_path)\n",
        "\n",
        "print(f\"All images have been saved in the '{output_folder}' folder.\")"
      ]
    },
    {
      "cell_type": "code",
      "source": [
        "input_folder = 'predictedImages_SID44'\n",
        "reference_folder = '/content/SID_44/S1_256'\n",
        "output_folder = 'waterMapPredictions_SID_44'\n",
        "\n",
        "# Ensure the output folder exists\n",
        "os.makedirs(output_folder, exist_ok=True)\n",
        "\n",
        "# Iterate over all files in the input directory\n",
        "for filename in os.listdir(input_folder):\n",
        "    # Only process .tif files\n",
        "    _, extension = os.path.splitext(filename)\n",
        "    if extension.lower() != '.tif':\n",
        "        continue\n",
        "\n",
        "    input_filepath = os.path.join(input_folder, filename)\n",
        "    reference_filepath = os.path.join(reference_folder, filename)\n",
        "\n",
        "    # Read the reference image\n",
        "    with rio.open(reference_filepath) as ref_src:\n",
        "        ref_crs = ref_src.crs\n",
        "        ref_transform = ref_src.transform\n",
        "\n",
        "    # Read the original image\n",
        "    with rio.open(input_filepath) as src:\n",
        "        array = src.read()\n",
        "        profile = src.profile\n",
        "\n",
        "    # Update the profile with the reference CRS and transform\n",
        "    profile.update({\n",
        "        'crs': ref_crs,\n",
        "        'transform': ref_transform,\n",
        "    })\n",
        "\n",
        "    # Write the image data back with the updated profile\n",
        "    output_filepath = os.path.join(output_folder, filename)\n",
        "    with rio.open(output_filepath, 'w', **profile) as dst:\n",
        "        dst.write(array)\n"
      ],
      "metadata": {
        "colab": {
          "base_uri": "https://localhost:8080/",
          "height": 72
        },
        "outputId": "096ff710-bc6d-4802-a21d-3618a2a7dd04",
        "id": "uK_5CXVDFlGw"
      },
      "execution_count": null,
      "outputs": [
        {
          "output_type": "display_data",
          "data": {
            "text/plain": [
              "<IPython.core.display.HTML object>"
            ],
            "text/html": [
              "\n",
              "            <style>\n",
              "                .geemap-dark {\n",
              "                    --jp-widgets-color: white;\n",
              "                    --jp-widgets-label-color: white;\n",
              "                    --jp-ui-font-color1: white;\n",
              "                    --jp-layout-color2: #454545;\n",
              "                    background-color: #383838;\n",
              "                }\n",
              "\n",
              "                .geemap-dark .jupyter-button {\n",
              "                    --jp-layout-color3: #383838;\n",
              "                }\n",
              "\n",
              "                .geemap-colab {\n",
              "                    background-color: var(--colab-primary-surface-color, white);\n",
              "                }\n",
              "\n",
              "                .geemap-colab .jupyter-button {\n",
              "                    --jp-layout-color3: var(--colab-primary-surface-color, white);\n",
              "                }\n",
              "            </style>\n",
              "            "
            ]
          },
          "metadata": {}
        },
        {
          "output_type": "stream",
          "name": "stderr",
          "text": [
            "/usr/local/lib/python3.10/dist-packages/rasterio/__init__.py:304: NotGeoreferencedWarning: Dataset has no geotransform, gcps, or rpcs. The identity matrix will be returned.\n",
            "  dataset = DatasetReader(path, driver=driver, sharing=sharing, **kwargs)\n"
          ]
        }
      ]
    },
    {
      "cell_type": "code",
      "source": [
        "\n",
        "# Step 1: Scan folder and organize files into groups\n",
        "input_folder = r\"/content/waterMapPredictions_SID_44\"\n",
        "output_folder = r\"/content/waterMapPredictions_SID_44_mosaic\"\n",
        "\n",
        "# Create output folder if it doesn't exist\n",
        "if not os.path.exists(output_folder):\n",
        "    os.makedirs(output_folder)\n",
        "\n",
        "files = os.listdir(input_folder)\n",
        "file_groups = defaultdict(list)\n",
        "\n",
        "for file in files:\n",
        "    if file.endswith('.tif'):\n",
        "        prefix = \"_\".join(file.split(\"_\")[:-2])  # Adjust depending on your specific naming pattern\n",
        "        file_groups[prefix].append(os.path.join(input_folder, file))\n",
        "\n",
        "# Step 2 and 3: Read files and mosaic them\n",
        "for prefix, file_group in file_groups.items():\n",
        "    src_files_to_mosaic = [rio.open(fp) for fp in file_group]\n",
        "\n",
        "    # Merge function returns a single mosaic array and the transformation info\n",
        "    mosaic, out_trans = merge(src_files_to_mosaic)\n",
        "\n",
        "    # Copy the metadata\n",
        "    out_meta = src_files_to_mosaic[0].meta.copy()\n",
        "\n",
        "    # Update the metadata\n",
        "    out_meta.update({\"driver\": \"GTiff\",\n",
        "                     \"height\": mosaic.shape[1],\n",
        "                     \"width\": mosaic.shape[2],\n",
        "                     \"transform\": out_trans})\n",
        "\n",
        "    # Step 4: Write the mosaic raster to disk\n",
        "    with rio.open(os.path.join(output_folder, f\"{prefix}.tif\"), \"w\", **out_meta) as dest:\n",
        "        dest.write(mosaic)\n"
      ],
      "metadata": {
        "colab": {
          "base_uri": "https://localhost:8080/",
          "height": 17
        },
        "outputId": "d505d905-fbfc-4808-b12b-8fa525b64d3d",
        "id": "UB1Y6WjFFlGx"
      },
      "execution_count": null,
      "outputs": [
        {
          "output_type": "display_data",
          "data": {
            "text/plain": [
              "<IPython.core.display.HTML object>"
            ],
            "text/html": [
              "\n",
              "            <style>\n",
              "                .geemap-dark {\n",
              "                    --jp-widgets-color: white;\n",
              "                    --jp-widgets-label-color: white;\n",
              "                    --jp-ui-font-color1: white;\n",
              "                    --jp-layout-color2: #454545;\n",
              "                    background-color: #383838;\n",
              "                }\n",
              "\n",
              "                .geemap-dark .jupyter-button {\n",
              "                    --jp-layout-color3: #383838;\n",
              "                }\n",
              "\n",
              "                .geemap-colab {\n",
              "                    background-color: var(--colab-primary-surface-color, white);\n",
              "                }\n",
              "\n",
              "                .geemap-colab .jupyter-button {\n",
              "                    --jp-layout-color3: var(--colab-primary-surface-color, white);\n",
              "                }\n",
              "            </style>\n",
              "            "
            ]
          },
          "metadata": {}
        }
      ]
    },
    {
      "cell_type": "code",
      "source": [],
      "metadata": {
        "id": "x4XzlgushH7_"
      },
      "execution_count": null,
      "outputs": []
    },
    {
      "cell_type": "markdown",
      "source": [
        "###Predict on Global"
      ],
      "metadata": {
        "id": "hmcdi8_5hIYi"
      }
    },
    {
      "cell_type": "code",
      "source": [
        "#Set the dataset for testing\n",
        "test_dl = modelS1Global.dls.test_dl(inferSet)"
      ],
      "metadata": {
        "colab": {
          "base_uri": "https://localhost:8080/",
          "height": 17
        },
        "id": "pgBgZsf6GS7D",
        "outputId": "c1bf97c6-ebe6-4dd8-e142-aec27c35adb2"
      },
      "execution_count": null,
      "outputs": [
        {
          "output_type": "display_data",
          "data": {
            "text/plain": [
              "<IPython.core.display.HTML object>"
            ],
            "text/html": [
              "\n",
              "            <style>\n",
              "                .geemap-dark {\n",
              "                    --jp-widgets-color: white;\n",
              "                    --jp-widgets-label-color: white;\n",
              "                    --jp-ui-font-color1: white;\n",
              "                    --jp-layout-color2: #454545;\n",
              "                    background-color: #383838;\n",
              "                }\n",
              "\n",
              "                .geemap-dark .jupyter-button {\n",
              "                    --jp-layout-color3: #383838;\n",
              "                }\n",
              "\n",
              "                .geemap-colab {\n",
              "                    background-color: var(--colab-primary-surface-color, white);\n",
              "                }\n",
              "\n",
              "                .geemap-colab .jupyter-button {\n",
              "                    --jp-layout-color3: var(--colab-primary-surface-color, white);\n",
              "                }\n",
              "            </style>\n",
              "            "
            ]
          },
          "metadata": {}
        }
      ]
    },
    {
      "cell_type": "code",
      "execution_count": null,
      "metadata": {
        "colab": {
          "base_uri": "https://localhost:8080/",
          "height": 17
        },
        "outputId": "598cb2a0-71a2-44c6-fd78-fd1b7c855fee",
        "id": "6zOu-SQKGjEC"
      },
      "outputs": [
        {
          "output_type": "display_data",
          "data": {
            "text/plain": [
              "<IPython.core.display.HTML object>"
            ],
            "text/html": [
              "\n",
              "            <style>\n",
              "                .geemap-dark {\n",
              "                    --jp-widgets-color: white;\n",
              "                    --jp-widgets-label-color: white;\n",
              "                    --jp-ui-font-color1: white;\n",
              "                    --jp-layout-color2: #454545;\n",
              "                    background-color: #383838;\n",
              "                }\n",
              "\n",
              "                .geemap-dark .jupyter-button {\n",
              "                    --jp-layout-color3: #383838;\n",
              "                }\n",
              "\n",
              "                .geemap-colab {\n",
              "                    background-color: var(--colab-primary-surface-color, white);\n",
              "                }\n",
              "\n",
              "                .geemap-colab .jupyter-button {\n",
              "                    --jp-layout-color3: var(--colab-primary-surface-color, white);\n",
              "                }\n",
              "            </style>\n",
              "            "
            ]
          },
          "metadata": {}
        },
        {
          "output_type": "display_data",
          "data": {
            "text/plain": [
              "<IPython.core.display.HTML object>"
            ],
            "text/html": [
              "\n",
              "<style>\n",
              "    /* Turns off some styling */\n",
              "    progress {\n",
              "        /* gets rid of default border in Firefox and Opera. */\n",
              "        border: none;\n",
              "        /* Needs to be in here for Safari polyfill so background images work as expected. */\n",
              "        background-size: auto;\n",
              "    }\n",
              "    progress:not([value]), progress:not([value])::-webkit-progress-bar {\n",
              "        background: repeating-linear-gradient(45deg, #7e7e7e, #7e7e7e 10px, #5c5c5c 10px, #5c5c5c 20px);\n",
              "    }\n",
              "    .progress-bar-interrupted, .progress-bar-interrupted::-webkit-progress-bar {\n",
              "        background: #F44336;\n",
              "    }\n",
              "</style>\n"
            ]
          },
          "metadata": {}
        },
        {
          "output_type": "display_data",
          "data": {
            "text/plain": [
              "<IPython.core.display.HTML object>"
            ],
            "text/html": []
          },
          "metadata": {}
        }
      ],
      "source": [
        "#Get the predictions\n",
        "preds = modelS1Global.get_preds(dl=test_dl)"
      ]
    },
    {
      "cell_type": "code",
      "execution_count": null,
      "metadata": {
        "colab": {
          "base_uri": "https://localhost:8080/",
          "height": 34
        },
        "outputId": "f534faa0-e49b-45e9-ff33-a7d92e562666",
        "id": "gxl_ZetTGjED"
      },
      "outputs": [
        {
          "output_type": "display_data",
          "data": {
            "text/plain": [
              "<IPython.core.display.HTML object>"
            ],
            "text/html": [
              "\n",
              "            <style>\n",
              "                .geemap-dark {\n",
              "                    --jp-widgets-color: white;\n",
              "                    --jp-widgets-label-color: white;\n",
              "                    --jp-ui-font-color1: white;\n",
              "                    --jp-layout-color2: #454545;\n",
              "                    background-color: #383838;\n",
              "                }\n",
              "\n",
              "                .geemap-dark .jupyter-button {\n",
              "                    --jp-layout-color3: #383838;\n",
              "                }\n",
              "\n",
              "                .geemap-colab {\n",
              "                    background-color: var(--colab-primary-surface-color, white);\n",
              "                }\n",
              "\n",
              "                .geemap-colab .jupyter-button {\n",
              "                    --jp-layout-color3: var(--colab-primary-surface-color, white);\n",
              "                }\n",
              "            </style>\n",
              "            "
            ]
          },
          "metadata": {}
        },
        {
          "output_type": "stream",
          "name": "stdout",
          "text": [
            "All images have been saved in the 'predictedImages_SID19_Global' folder.\n"
          ]
        }
      ],
      "source": [
        "import os\n",
        "from PIL import Image\n",
        "import numpy as np\n",
        "\n",
        "# Create a folder named 'output_images' if it doesn't exist\n",
        "output_folder = 'predictedImages_SID19_Global'\n",
        "if not os.path.exists(output_folder):\n",
        "    os.makedirs(output_folder)\n",
        "\n",
        "# Your loop for saving images\n",
        "for i, pred in enumerate(preds[0]):\n",
        "    pred_arg = pred.argmax(dim=0).numpy().astype(np.uint8)\n",
        "    im = Image.fromarray(pred_arg)\n",
        "\n",
        "    # Extract the image name from its full path\n",
        "    image_name = str(inferSet[i].name).split('/')[-1]\n",
        "\n",
        "    # Combine the folder name with the image name\n",
        "    save_path = os.path.join(output_folder, image_name)\n",
        "\n",
        "    # Save the image in the specified folder\n",
        "    im.save(save_path)\n",
        "\n",
        "print(f\"All images have been saved in the '{output_folder}' folder.\")"
      ]
    },
    {
      "cell_type": "code",
      "source": [
        "input_folder = 'predictedImages_SID19_Global'\n",
        "reference_folder = '/content/SID_19/S1_256'\n",
        "output_folder = 'waterMapPredictions_SID_19_Global'\n",
        "\n",
        "# Ensure the output folder exists\n",
        "os.makedirs(output_folder, exist_ok=True)\n",
        "\n",
        "# Iterate over all files in the input directory\n",
        "for filename in os.listdir(input_folder):\n",
        "    # Only process .tif files\n",
        "    _, extension = os.path.splitext(filename)\n",
        "    if extension.lower() != '.tif':\n",
        "        continue\n",
        "\n",
        "    input_filepath = os.path.join(input_folder, filename)\n",
        "    reference_filepath = os.path.join(reference_folder, filename)\n",
        "\n",
        "    # Read the reference image\n",
        "    with rio.open(reference_filepath) as ref_src:\n",
        "        ref_crs = ref_src.crs\n",
        "        ref_transform = ref_src.transform\n",
        "\n",
        "    # Read the original image\n",
        "    with rio.open(input_filepath) as src:\n",
        "        array = src.read()\n",
        "        profile = src.profile\n",
        "\n",
        "    # Update the profile with the reference CRS and transform\n",
        "    profile.update({\n",
        "        'crs': ref_crs,\n",
        "        'transform': ref_transform,\n",
        "    })\n",
        "\n",
        "    # Write the image data back with the updated profile\n",
        "    output_filepath = os.path.join(output_folder, filename)\n",
        "    with rio.open(output_filepath, 'w', **profile) as dst:\n",
        "        dst.write(array)\n"
      ],
      "metadata": {
        "colab": {
          "base_uri": "https://localhost:8080/",
          "height": 17
        },
        "outputId": "dbe84c34-a5ff-406d-c3e1-a112fc2fd744",
        "id": "qhB5n-KuGjED"
      },
      "execution_count": null,
      "outputs": [
        {
          "output_type": "display_data",
          "data": {
            "text/plain": [
              "<IPython.core.display.HTML object>"
            ],
            "text/html": [
              "\n",
              "            <style>\n",
              "                .geemap-dark {\n",
              "                    --jp-widgets-color: white;\n",
              "                    --jp-widgets-label-color: white;\n",
              "                    --jp-ui-font-color1: white;\n",
              "                    --jp-layout-color2: #454545;\n",
              "                    background-color: #383838;\n",
              "                }\n",
              "\n",
              "                .geemap-dark .jupyter-button {\n",
              "                    --jp-layout-color3: #383838;\n",
              "                }\n",
              "\n",
              "                .geemap-colab {\n",
              "                    background-color: var(--colab-primary-surface-color, white);\n",
              "                }\n",
              "\n",
              "                .geemap-colab .jupyter-button {\n",
              "                    --jp-layout-color3: var(--colab-primary-surface-color, white);\n",
              "                }\n",
              "            </style>\n",
              "            "
            ]
          },
          "metadata": {}
        }
      ]
    },
    {
      "cell_type": "code",
      "source": [
        "\n",
        "# Step 1: Scan folder and organize files into groups\n",
        "input_folder = r\"/content/waterMapPredictions_SID_19_Global\"\n",
        "output_folder = r\"/content/waterMapPredictions_SID_19_Global_mosaic\"\n",
        "\n",
        "# Create output folder if it doesn't exist\n",
        "if not os.path.exists(output_folder):\n",
        "    os.makedirs(output_folder)\n",
        "\n",
        "files = os.listdir(input_folder)\n",
        "file_groups = defaultdict(list)\n",
        "\n",
        "for file in files:\n",
        "    if file.endswith('.tif'):\n",
        "        prefix = \"_\".join(file.split(\"_\")[:-2])  # Adjust depending on your specific naming pattern\n",
        "        file_groups[prefix].append(os.path.join(input_folder, file))\n",
        "\n",
        "# Step 2 and 3: Read files and mosaic them\n",
        "for prefix, file_group in file_groups.items():\n",
        "    src_files_to_mosaic = [rio.open(fp) for fp in file_group]\n",
        "\n",
        "    # Merge function returns a single mosaic array and the transformation info\n",
        "    mosaic, out_trans = merge(src_files_to_mosaic)\n",
        "\n",
        "    # Copy the metadata\n",
        "    out_meta = src_files_to_mosaic[0].meta.copy()\n",
        "\n",
        "    # Update the metadata\n",
        "    out_meta.update({\"driver\": \"GTiff\",\n",
        "                     \"height\": mosaic.shape[1],\n",
        "                     \"width\": mosaic.shape[2],\n",
        "                     \"transform\": out_trans})\n",
        "\n",
        "    # Step 4: Write the mosaic raster to disk\n",
        "    with rio.open(os.path.join(output_folder, f\"{prefix}.tif\"), \"w\", **out_meta) as dest:\n",
        "        dest.write(mosaic)\n"
      ],
      "metadata": {
        "colab": {
          "base_uri": "https://localhost:8080/",
          "height": 17
        },
        "outputId": "ad1d1b47-bb9b-4e88-9520-b564d90d84d6",
        "id": "lbFvdVyZGjED"
      },
      "execution_count": null,
      "outputs": [
        {
          "output_type": "display_data",
          "data": {
            "text/plain": [
              "<IPython.core.display.HTML object>"
            ],
            "text/html": [
              "\n",
              "            <style>\n",
              "                .geemap-dark {\n",
              "                    --jp-widgets-color: white;\n",
              "                    --jp-widgets-label-color: white;\n",
              "                    --jp-ui-font-color1: white;\n",
              "                    --jp-layout-color2: #454545;\n",
              "                    background-color: #383838;\n",
              "                }\n",
              "\n",
              "                .geemap-dark .jupyter-button {\n",
              "                    --jp-layout-color3: #383838;\n",
              "                }\n",
              "\n",
              "                .geemap-colab {\n",
              "                    background-color: var(--colab-primary-surface-color, white);\n",
              "                }\n",
              "\n",
              "                .geemap-colab .jupyter-button {\n",
              "                    --jp-layout-color3: var(--colab-primary-surface-color, white);\n",
              "                }\n",
              "            </style>\n",
              "            "
            ]
          },
          "metadata": {}
        }
      ]
    },
    {
      "cell_type": "code",
      "source": [
        "# zip the mosaicked folder to download\n",
        "!zip -r /content/waterMapPredictions_SID_19_Global_mosaic.zip /content/waterMapPredictions_SID_19_Global_mosaic\n",
        "!zip -r /content/waterMapPredictions_SID_19_mosaic.zip /content/waterMapPredictions_SID_19_mosaic"
      ],
      "metadata": {
        "colab": {
          "base_uri": "https://localhost:8080/",
          "height": 642
        },
        "id": "jE9-NM3_Gb7C",
        "outputId": "79f1d8c2-0b17-4e0f-b43f-aa66566c1655"
      },
      "execution_count": null,
      "outputs": [
        {
          "output_type": "display_data",
          "data": {
            "text/plain": [
              "<IPython.core.display.HTML object>"
            ],
            "text/html": [
              "\n",
              "            <style>\n",
              "                .geemap-dark {\n",
              "                    --jp-widgets-color: white;\n",
              "                    --jp-widgets-label-color: white;\n",
              "                    --jp-ui-font-color1: white;\n",
              "                    --jp-layout-color2: #454545;\n",
              "                    background-color: #383838;\n",
              "                }\n",
              "\n",
              "                .geemap-dark .jupyter-button {\n",
              "                    --jp-layout-color3: #383838;\n",
              "                }\n",
              "\n",
              "                .geemap-colab {\n",
              "                    background-color: var(--colab-primary-surface-color, white);\n",
              "                }\n",
              "\n",
              "                .geemap-colab .jupyter-button {\n",
              "                    --jp-layout-color3: var(--colab-primary-surface-color, white);\n",
              "                }\n",
              "            </style>\n",
              "            "
            ]
          },
          "metadata": {}
        },
        {
          "output_type": "stream",
          "name": "stdout",
          "text": [
            "updating: content/waterMapPredictions_SID_19_Global_mosaic/ (stored 0%)\n",
            "updating: content/waterMapPredictions_SID_19_Global_mosaic/S12018-03-03_SID_19.tif (deflated 99%)\n",
            "updating: content/waterMapPredictions_SID_19_Global_mosaic/S12022-02-10_SID_19.tif (deflated 99%)\n",
            "updating: content/waterMapPredictions_SID_19_Global_mosaic/S12019-05-21_SID_19.tif (deflated 99%)\n",
            "updating: content/waterMapPredictions_SID_19_Global_mosaic/S12019-03-22_SID_19.tif (deflated 99%)\n",
            "updating: content/waterMapPredictions_SID_19_Global_mosaic/S12019-11-17_SID_19.tif (deflated 99%)\n",
            "updating: content/waterMapPredictions_SID_19_Global_mosaic/S12019-04-27_SID_19.tif (deflated 99%)\n",
            "updating: content/waterMapPredictions_SID_19_Global_mosaic/S12019-06-26_SID_19.tif (deflated 99%)\n",
            "updating: content/waterMapPredictions_SID_19_Global_mosaic/S12018-01-02_SID_19.tif (deflated 99%)\n",
            "updating: content/waterMapPredictions_SID_19_Global_mosaic/S12023-10-03_SID_19.tif (deflated 99%)\n",
            "updating: content/waterMapPredictions_SID_19_Global_mosaic/S12020-02-21_SID_19.tif (deflated 99%)\n",
            "updating: content/waterMapPredictions_SID_19_Global_mosaic/S12018-07-01_SID_19.tif (deflated 99%)\n",
            "updating: content/waterMapPredictions_SID_19_Global_mosaic/S12019-10-24_SID_19.tif (deflated 99%)\n",
            "updating: content/waterMapPredictions_SID_19_Global_mosaic/S12021-12-12_SID_19.tif (deflated 99%)\n",
            "updating: content/waterMapPredictions_SID_19_Global_mosaic/S12020-08-19_SID_19.tif (deflated 99%)\n",
            "updating: content/waterMapPredictions_SID_19_Global_mosaic/S12021-11-06_SID_19.tif (deflated 99%)\n",
            "updating: content/waterMapPredictions_SID_19_Global_mosaic/S12019-09-18_SID_19.tif (deflated 99%)\n",
            "updating: content/waterMapPredictions_SID_19_Global_mosaic/S12021-06-03_SID_19.tif (deflated 99%)\n",
            "updating: content/waterMapPredictions_SID_19_mosaic/ (stored 0%)\n",
            "updating: content/waterMapPredictions_SID_19_mosaic/S12018-03-03_SID_19.tif (deflated 99%)\n",
            "updating: content/waterMapPredictions_SID_19_mosaic/S12022-02-10_SID_19.tif (deflated 99%)\n",
            "updating: content/waterMapPredictions_SID_19_mosaic/S12019-05-21_SID_19.tif (deflated 99%)\n",
            "updating: content/waterMapPredictions_SID_19_mosaic/S12019-03-22_SID_19.tif (deflated 99%)\n",
            "updating: content/waterMapPredictions_SID_19_mosaic/S12019-11-17_SID_19.tif (deflated 99%)\n",
            "updating: content/waterMapPredictions_SID_19_mosaic/S12019-04-27_SID_19.tif (deflated 99%)\n",
            "updating: content/waterMapPredictions_SID_19_mosaic/S12019-06-26_SID_19.tif (deflated 99%)\n",
            "updating: content/waterMapPredictions_SID_19_mosaic/S12018-01-02_SID_19.tif (deflated 100%)\n",
            "updating: content/waterMapPredictions_SID_19_mosaic/S12023-10-03_SID_19.tif (deflated 99%)\n",
            "updating: content/waterMapPredictions_SID_19_mosaic/S12020-02-21_SID_19.tif (deflated 99%)\n",
            "updating: content/waterMapPredictions_SID_19_mosaic/S12018-07-01_SID_19.tif (deflated 99%)\n",
            "updating: content/waterMapPredictions_SID_19_mosaic/S12019-10-24_SID_19.tif (deflated 99%)\n",
            "updating: content/waterMapPredictions_SID_19_mosaic/S12021-12-12_SID_19.tif (deflated 99%)\n",
            "updating: content/waterMapPredictions_SID_19_mosaic/S12020-08-19_SID_19.tif (deflated 99%)\n",
            "updating: content/waterMapPredictions_SID_19_mosaic/S12021-11-06_SID_19.tif (deflated 99%)\n",
            "updating: content/waterMapPredictions_SID_19_mosaic/S12019-09-18_SID_19.tif (deflated 99%)\n",
            "updating: content/waterMapPredictions_SID_19_mosaic/S12021-06-03_SID_19.tif (deflated 99%)\n"
          ]
        }
      ]
    },
    {
      "cell_type": "markdown",
      "source": [
        "###Delete Folders"
      ],
      "metadata": {
        "id": "20DqdZxEhMNb"
      }
    },
    {
      "cell_type": "code",
      "source": [
        "!rm -rf /content/predictedImages_SID44\n",
        "!rm -rf /content/waterMapPredictions_SID_44\n"
      ],
      "metadata": {
        "colab": {
          "base_uri": "https://localhost:8080/",
          "height": 17
        },
        "id": "SPE43ZwbGb9T",
        "outputId": "acb3b385-db3b-48e6-9a7d-5034b9ea8c83"
      },
      "execution_count": null,
      "outputs": [
        {
          "output_type": "display_data",
          "data": {
            "text/plain": [
              "<IPython.core.display.HTML object>"
            ],
            "text/html": [
              "\n",
              "            <style>\n",
              "                .geemap-dark {\n",
              "                    --jp-widgets-color: white;\n",
              "                    --jp-widgets-label-color: white;\n",
              "                    --jp-ui-font-color1: white;\n",
              "                    --jp-layout-color2: #454545;\n",
              "                    background-color: #383838;\n",
              "                }\n",
              "\n",
              "                .geemap-dark .jupyter-button {\n",
              "                    --jp-layout-color3: #383838;\n",
              "                }\n",
              "\n",
              "                .geemap-colab {\n",
              "                    background-color: var(--colab-primary-surface-color, white);\n",
              "                }\n",
              "\n",
              "                .geemap-colab .jupyter-button {\n",
              "                    --jp-layout-color3: var(--colab-primary-surface-color, white);\n",
              "                }\n",
              "            </style>\n",
              "            "
            ]
          },
          "metadata": {}
        }
      ]
    }
  ]
}