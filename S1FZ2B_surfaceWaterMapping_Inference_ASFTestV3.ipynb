{
  "cells": [
    {
      "cell_type": "markdown",
      "source": [
        "##Loading Libraries"
      ],
      "metadata": {
        "id": "6cfNClV2lKPd"
      }
    },
    {
      "cell_type": "code",
      "source": [
        "!pip install -q timm\n",
        "!pip install -q rasterio\n",
        "!pip install -q geopandas"
      ],
      "metadata": {
        "id": "asR3B1Dk3k3-",
        "colab": {
          "base_uri": "https://localhost:8080/"
        },
        "outputId": "c833a8e0-d817-4b3e-a222-e791e8e83bb6"
      },
      "execution_count": 1,
      "outputs": [
        {
          "output_type": "stream",
          "name": "stdout",
          "text": [
            "\u001b[2K     \u001b[90m━━━━━━━━━━━━━━━━━━━━━━━━━━━━━━━━━━━━━━━━\u001b[0m \u001b[32m2.2/2.2 MB\u001b[0m \u001b[31m36.2 MB/s\u001b[0m eta \u001b[36m0:00:00\u001b[0m\n",
            "\u001b[2K     \u001b[90m━━━━━━━━━━━━━━━━━━━━━━━━━━━━━━━━━━━━━━━━\u001b[0m \u001b[32m21.5/21.5 MB\u001b[0m \u001b[31m16.4 MB/s\u001b[0m eta \u001b[36m0:00:00\u001b[0m\n",
            "\u001b[?25h"
          ]
        }
      ]
    },
    {
      "cell_type": "code",
      "execution_count": 2,
      "metadata": {
        "id": "mGscg4cY1jTt"
      },
      "outputs": [],
      "source": [
        "import timm\n",
        "from fastai.vision.all import *\n",
        "from PIL import Image\n",
        "from typing import Tuple\n",
        "import rasterio as rio"
      ]
    },
    {
      "cell_type": "markdown",
      "source": [
        "##Prepare Example dataset"
      ],
      "metadata": {
        "id": "sotINmAqme-i"
      }
    },
    {
      "cell_type": "code",
      "source": [
        "#Download the sample training dataset to setup the model\n",
        "!gdown --id 1wzGJEL8Eur6Oobu-4JeNXnAbjI_Z5gwA"
      ],
      "metadata": {
        "colab": {
          "base_uri": "https://localhost:8080/"
        },
        "id": "aSIs7w1Z320z",
        "outputId": "fa67b8dd-5c82-4eda-df81-e2c94432d10a"
      },
      "execution_count": 3,
      "outputs": [
        {
          "output_type": "stream",
          "name": "stdout",
          "text": [
            "/usr/local/lib/python3.10/dist-packages/gdown/__main__.py:132: FutureWarning: Option `--id` was deprecated in version 4.3.1 and will be removed in 5.0. You don't need to pass it anymore to use a file ID.\n",
            "  warnings.warn(\n",
            "Downloading...\n",
            "From: https://drive.google.com/uc?id=1wzGJEL8Eur6Oobu-4JeNXnAbjI_Z5gwA\n",
            "To: /content/S1DWdatasetTiny.zip\n",
            "100% 14.1M/14.1M [00:00<00:00, 115MB/s] \n"
          ]
        }
      ]
    },
    {
      "cell_type": "code",
      "execution_count": 4,
      "metadata": {
        "id": "dYlcOGbXzq1i"
      },
      "outputs": [],
      "source": [
        "#Load datasets from the downloaded file\n",
        "!unzip -q /content/S1DWdatasetTiny.zip"
      ]
    },
    {
      "cell_type": "code",
      "source": [
        "#define the folders\n",
        "input_folder = '/content/S1DWdatasetTiny/images'\n",
        "label_folder = '/content/S1DWdatasetTiny/labels'"
      ],
      "metadata": {
        "id": "LyqTBEkG2IzV"
      },
      "execution_count": 5,
      "outputs": []
    },
    {
      "cell_type": "markdown",
      "source": [
        "## Process the images"
      ],
      "metadata": {
        "id": "MiDnz_08hMLc"
      }
    },
    {
      "cell_type": "code",
      "source": [
        "#rename the labels to match the S1 images\n",
        "import os\n",
        "\n",
        "# Iterate over the files\n",
        "for filename in os.listdir(input_folder):\n",
        "    # If the filename contains 'S1'\n",
        "    if 'S1' in filename:\n",
        "        # Replace 'S1' with 'DW' in the filename\n",
        "        new_filename = filename.replace('S1', 'DW')\n",
        "        # Get full paths\n",
        "        old_file_path = os.path.join(input_folder, filename)\n",
        "        new_file_path = os.path.join(input_folder, new_filename)\n",
        "        # Rename the file\n",
        "        os.rename(old_file_path, new_file_path)\n"
      ],
      "metadata": {
        "id": "WZM67TkE5kuP"
      },
      "execution_count": 6,
      "outputs": []
    },
    {
      "cell_type": "markdown",
      "source": [
        "##Preparing Deep Learning Model\n"
      ],
      "metadata": {
        "id": "DOjP5JRnlmXU"
      }
    },
    {
      "cell_type": "code",
      "execution_count": 7,
      "metadata": {
        "id": "8AahYqJZ2jIb"
      },
      "outputs": [],
      "source": [
        "def open_geotiff(fn, chans=None):\n",
        "    with rio.open(str(fn)) as f:\n",
        "        data = f.read()\n",
        "        data = data.astype(np.float32)\n",
        "    im = torch.from_numpy(data).cpu()  # Ensure tensor is on CPU\n",
        "    if chans is not None: im = im[chans]\n",
        "    return im\n",
        "\n",
        "# Custom class for handling multi-channel images\n",
        "class MultiChannelTensorImage(TensorImage):\n",
        "    _show_args = ArrayImageBase._show_args\n",
        "    @classmethod\n",
        "    def create(cls, fn, chans=None, **kwargs) ->None:\n",
        "        return cls(open_geotiff(fn=fn, chans=chans))\n",
        "\n",
        "    def __repr__(self): return f'{self.__class__.__name__} size={\"x\".join([str(d) for d in self.shape])}'\n",
        "\n",
        "\n",
        "# Define a datablock for multi-channel images\n",
        "def MultiChannelImageBlock(cls=MultiChannelTensorImage, chans=None):\n",
        "    return TransformBlock(partial(cls.create, chans=chans))\n",
        "\n",
        "# Custom DataLoader for segmentation tasks with multi-channel images\n",
        "class TifSegmentationDataLoaders(DataLoaders):\n",
        "    @classmethod\n",
        "    @delegates(DataLoaders.from_dblock)\n",
        "    def from_label_funcs(cls, path, fnames, label_func, chans=None, extensions=['.tif'], valid_pct=None, seed=None, codes=None, item_tfms=None, batch_tfms=None, **kwargs):\n",
        "        dblock = DataBlock(blocks=(MultiChannelImageBlock(chans=chans), MaskBlock(codes=codes)),\n",
        "                           splitter=RandomSplitter(valid_pct, seed=seed),\n",
        "                           get_y=label_func,\n",
        "                           item_tfms=item_tfms,\n",
        "                           batch_tfms=batch_tfms)\n",
        "        res = cls.from_dblock(dblock, fnames, path=path, **kwargs)\n",
        "        return res\n",
        "\n",
        "def get_mask_from_tif(fn):\n",
        "    return open_geotiff(fn, chans=[0])[0]\n",
        "\n",
        "# Combined loss function for segmentation\n",
        "class CombinedLoss:\n",
        "    def __init__(self, axis=1, smooth=1., alpha=1.):\n",
        "        store_attr()\n",
        "        self.focal_loss = FocalLossFlat(axis=axis)\n",
        "        self.dice_loss = DiceLoss(axis, smooth)\n",
        "\n",
        "    def __call__(self, pred, targ):\n",
        "        return self.focal_loss(pred, targ) + self.alpha * self.dice_loss(pred, targ)\n",
        "\n",
        "    def decodes(self, x):    return x.argmax(dim=self.axis)\n",
        "    def activation(self, x): return F.softmax(x, dim=self.axis)"
      ]
    },
    {
      "cell_type": "code",
      "source": [
        "codes = ['other', 'water']; codes"
      ],
      "metadata": {
        "colab": {
          "base_uri": "https://localhost:8080/"
        },
        "id": "ydonex1qqn9S",
        "outputId": "15bebb81-0d21-4284-b26d-79bb42fa28c7"
      },
      "execution_count": 8,
      "outputs": [
        {
          "output_type": "execute_result",
          "data": {
            "text/plain": [
              "['other', 'water']"
            ]
          },
          "metadata": {},
          "execution_count": 8
        }
      ]
    },
    {
      "cell_type": "code",
      "source": [
        "batch_tfms = [Rotate(), Flip(), Dihedral(), Normalize()]"
      ],
      "metadata": {
        "id": "6G-HOLSVZ-CH"
      },
      "execution_count": 9,
      "outputs": []
    },
    {
      "cell_type": "code",
      "source": [
        "#setting up data loader, check the filepaths\n",
        "dataLoaderS1Global = TifSegmentationDataLoaders.from_label_funcs(path=input_folder,\n",
        "                                                   bs = 4,\n",
        "                                                   codes=codes,\n",
        "                                                   fnames = get_files(input_folder, extensions=['.tif'], recurse=False),\n",
        "                                                   label_func = lambda o: get_mask_from_tif(f'/content/S1DWdatasetTiny/labels/{o.stem}{o.suffix}'),\n",
        "                                                   valid_pct=0.2,\n",
        "                                                   seed=42,\n",
        "                                                   batch_tfms = batch_tfms)"
      ],
      "metadata": {
        "id": "OwY381cV6J_k"
      },
      "execution_count": 10,
      "outputs": []
    },
    {
      "cell_type": "code",
      "source": [
        "#setup the deep learning model\n",
        "modelS1Global =  unet_learner(dataLoaderS1Global, resnet34, metrics = [JaccardCoeff(), Dice()], loss_func=CombinedLoss(), opt_func=ranger, act_cls=Mish)"
      ],
      "metadata": {
        "colab": {
          "base_uri": "https://localhost:8080/"
        },
        "id": "KOZCKYZ1aHfl",
        "outputId": "8668e25e-bd1d-4c07-cd78-c2c93fc3e2d5"
      },
      "execution_count": 11,
      "outputs": [
        {
          "output_type": "stream",
          "name": "stderr",
          "text": [
            "Downloading: \"https://download.pytorch.org/models/resnet34-b627a593.pth\" to /root/.cache/torch/hub/checkpoints/resnet34-b627a593.pth\n",
            "100%|██████████| 83.3M/83.3M [00:00<00:00, 209MB/s]\n"
          ]
        }
      ]
    },
    {
      "cell_type": "code",
      "source": [
        "#Download the trained model\n",
        "!gdown --id 18-9x4GwV52gUc7zztz1CPxvkmccajbWP"
      ],
      "metadata": {
        "colab": {
          "base_uri": "https://localhost:8080/"
        },
        "id": "Wjv1H2rMaLWQ",
        "outputId": "eef26de4-b5db-4b5e-8540-5ffd42e6adb7"
      },
      "execution_count": 12,
      "outputs": [
        {
          "output_type": "stream",
          "name": "stdout",
          "text": [
            "/usr/local/lib/python3.10/dist-packages/gdown/__main__.py:132: FutureWarning: Option `--id` was deprecated in version 4.3.1 and will be removed in 5.0. You don't need to pass it anymore to use a file ID.\n",
            "  warnings.warn(\n",
            "Downloading...\n",
            "From (original): https://drive.google.com/uc?id=18-9x4GwV52gUc7zztz1CPxvkmccajbWP\n",
            "From (redirected): https://drive.google.com/uc?id=18-9x4GwV52gUc7zztz1CPxvkmccajbWP&confirm=t&uuid=09995c47-a201-4762-8abd-c0df0f63ff1e\n",
            "To: /content/model_resnet34_10epochs.pth\n",
            "100% 660M/660M [00:11<00:00, 55.7MB/s]\n"
          ]
        }
      ]
    },
    {
      "cell_type": "code",
      "source": [
        "#load the trained model\n",
        "modelS1Global.load('/content/model_resnet34_10epochs')"
      ],
      "metadata": {
        "id": "ZcdmC2Vm5Cqa",
        "colab": {
          "base_uri": "https://localhost:8080/"
        },
        "outputId": "134dc9f2-68ae-40f7-c3c2-012f87094484"
      },
      "execution_count": 13,
      "outputs": [
        {
          "output_type": "execute_result",
          "data": {
            "text/plain": [
              "<fastai.learner.Learner at 0x7f2f60c7b1c0>"
            ]
          },
          "metadata": {},
          "execution_count": 13
        }
      ]
    },
    {
      "cell_type": "markdown",
      "source": [
        "##Inference"
      ],
      "metadata": {
        "id": "c2Kencw9I5OM"
      }
    },
    {
      "cell_type": "code",
      "source": [
        "#download S1 images for inference\n",
        "!gdown --id 1cQNgpxnKZUi0Ee2ozToU0XaHunY_7el0"
      ],
      "metadata": {
        "colab": {
          "base_uri": "https://localhost:8080/"
        },
        "id": "qgcNfKIeOcdg",
        "outputId": "bb84d070-902d-4df1-c99f-368268d60261"
      },
      "execution_count": 14,
      "outputs": [
        {
          "output_type": "stream",
          "name": "stdout",
          "text": [
            "/usr/local/lib/python3.10/dist-packages/gdown/__main__.py:132: FutureWarning: Option `--id` was deprecated in version 4.3.1 and will be removed in 5.0. You don't need to pass it anymore to use a file ID.\n",
            "  warnings.warn(\n",
            "Downloading...\n",
            "From (original): https://drive.google.com/uc?id=1cQNgpxnKZUi0Ee2ozToU0XaHunY_7el0\n",
            "From (redirected): https://drive.google.com/uc?id=1cQNgpxnKZUi0Ee2ozToU0XaHunY_7el0&confirm=t&uuid=537eb9d2-ddf7-4ded-a691-7ba8d8018771\n",
            "To: /content/downloadedS1_FZ90.zip\n",
            "100% 175M/175M [00:00<00:00, 187MB/s]\n"
          ]
        }
      ]
    },
    {
      "cell_type": "code",
      "source": [
        "#Load images from the downloaded file\n",
        "!unzip -q /content/downloadedS1_FZ90.zip"
      ],
      "metadata": {
        "id": "qMzKbZHkI4ha"
      },
      "execution_count": 15,
      "outputs": []
    },
    {
      "cell_type": "code",
      "source": [
        "#pre-processing the data after it has downloaded for inference\n",
        "inputInference = '/content/downloadedS1_FZ90/'\n",
        "outputInference = '/content/downloadedS1_FZ90_256/'\n",
        "\n",
        "# Ensure the output folder exists\n",
        "os.makedirs(outputInference, exist_ok=True)"
      ],
      "metadata": {
        "id": "kMiG2WUzSqIA"
      },
      "execution_count": 16,
      "outputs": []
    },
    {
      "cell_type": "code",
      "source": [
        "#create patches of 256x256 for inference\n",
        "import rasterio\n",
        "from rasterio.windows import Window\n",
        "import os\n",
        "import glob\n",
        "import logging\n",
        "from concurrent.futures import ProcessPoolExecutor\n",
        "\n",
        "# Set up logging\n",
        "logging.basicConfig(filename='error_log.log', level=logging.ERROR, format='%(asctime)s:%(levelname)s:%(message)s')\n",
        "\n",
        "def extract_and_save_patches(img_path, output_folder, patch_size=256):\n",
        "    try:\n",
        "        with rasterio.open(img_path) as dataset:\n",
        "            width, height = dataset.width, dataset.height\n",
        "            profile = dataset.profile\n",
        "\n",
        "            x_start_points = list(range(0, width - patch_size, patch_size)) + [width - patch_size]\n",
        "            y_start_points = list(range(0, height - patch_size, patch_size)) + [height - patch_size]\n",
        "\n",
        "            for x in x_start_points:\n",
        "                for y in y_start_points:\n",
        "                    window = Window(x, y, patch_size, patch_size)\n",
        "                    data = dataset.read(window=window)\n",
        "\n",
        "                    profile.update({\n",
        "                        'width': patch_size,\n",
        "                        'height': patch_size,\n",
        "                        'transform': rasterio.windows.transform(window, dataset.transform)\n",
        "                    })\n",
        "\n",
        "                    # Generate unique patch filename\n",
        "                    base_name = os.path.splitext(os.path.basename(img_path))[0]\n",
        "                    patch_filename = f\"{output_folder}/{base_name}_{x}_{y}.tif\"\n",
        "                    with rasterio.open(patch_filename, 'w', **profile) as dst:\n",
        "                        dst.write(data)\n",
        "        return True\n",
        "    except Exception as e:\n",
        "        logging.error(f\"Error processing {img_path}: {e}\")\n",
        "        with open('failed_files.txt', 'a') as f:\n",
        "            f.write(f\"{img_path}\\n\")\n",
        "        return False\n",
        "\n",
        "def process_image(args):\n",
        "    img_path, output_folder, patch_size = args\n",
        "    return extract_and_save_patches(img_path, output_folder, patch_size)\n",
        "\n",
        "def process_folder(input_folder, output_folder, patch_size=256, max_workers=None):\n",
        "    if not os.path.exists(output_folder):\n",
        "        os.makedirs(output_folder)\n",
        "\n",
        "    processed_images = set()\n",
        "    images_to_process = [(img_path, output_folder, patch_size) for img_path in glob.glob(os.path.join(input_folder, '*.tif')) if os.path.splitext(os.path.basename(img_path))[0] not in processed_images]\n",
        "\n",
        "    with ProcessPoolExecutor(max_workers=max_workers) as executor:\n",
        "        results = executor.map(process_image, images_to_process)\n",
        "\n",
        "    for img_path, success in zip(images_to_process, results):\n",
        "        if success:\n",
        "            # print(f\"Patches for {img_path[0]} saved in '{output_folder}'.\")\n",
        "            processed_images.add(os.path.splitext(os.path.basename(img_path[0]))[0])\n",
        "        else:\n",
        "            print(f\"Failed to process {img_path[0]}.\")\n",
        "\n",
        "# Protect the script's entry point\n",
        "if __name__ == '__main__':\n",
        "    input_folder = inputInference\n",
        "    output_folder = outputInference\n",
        "    process_folder(input_folder, output_folder)\n"
      ],
      "metadata": {
        "colab": {
          "base_uri": "https://localhost:8080/"
        },
        "id": "rCgK8r9COL2_",
        "outputId": "6fb58fa5-dcb3-428b-9d04-76faf4a5138f"
      },
      "execution_count": 17,
      "outputs": [
        {
          "output_type": "stream",
          "name": "stderr",
          "text": [
            "/usr/lib/python3.10/multiprocessing/popen_fork.py:66: RuntimeWarning: os.fork() was called. os.fork() is incompatible with multithreaded code, and JAX is multithreaded, so this will likely lead to a deadlock.\n",
            "  self.pid = os.fork()\n"
          ]
        }
      ]
    },
    {
      "cell_type": "code",
      "source": [
        "#replace NaNs in S1 with 0s\n",
        "import multiprocessing\n",
        "\n",
        "def process_file(filename):\n",
        "    # Construct the full file path\n",
        "    file_path = os.path.join(outputInference, filename)\n",
        "    try:\n",
        "        with rasterio.open(file_path, 'r+') as src:\n",
        "            # Read and process each band\n",
        "            for i in range(1, src.count + 1):\n",
        "                band = src.read(i)\n",
        "                band[np.isnan(band)] = 0  # Replace NaNs with zeros\n",
        "                src.write(band, i)  # Write the modified band back to the file\n",
        "        # print(f\"Processed {filename}\")\n",
        "    except Exception as e:\n",
        "        print(f\"Error processing {filename}: {str(e)}\")\n",
        "\n",
        "def main():\n",
        "    # List all .tif files in the directory\n",
        "    files = [f for f in os.listdir(outputInference) if os.path.splitext(f)[1].lower() == '.tif']\n",
        "    # Create a pool of worker processes\n",
        "    pool = multiprocessing.Pool(processes=multiprocessing.cpu_count())\n",
        "    # Map the process_file function to all files\n",
        "    pool.map(process_file, files)\n",
        "    # Close the pool and wait for all processes to complete\n",
        "    pool.close()\n",
        "    pool.join()\n",
        "\n",
        "if __name__ == '__main__':\n",
        "    main()\n"
      ],
      "metadata": {
        "colab": {
          "base_uri": "https://localhost:8080/"
        },
        "id": "jsWl8Wj9bVk6",
        "outputId": "0fde139f-e89b-4942-a73e-196d490e4000"
      },
      "execution_count": 20,
      "outputs": [
        {
          "output_type": "stream",
          "name": "stdout",
          "text": [
            "Processed SID69_2021-08-29_0_0_0.tif\n",
            "Processed SID70_2021-08-30_-4_0_467.tif\n",
            "Processed SID08_2022-07-27_2_423_256.tif\n",
            "Processed SID71_2021-08-28_1_515_0.tif\n",
            "Processed SID90_2022-06-12_2_97_97.tif\n",
            "Processed SID47_2022-06-04_3_106_0.tifProcessed SID54_2022-06-11_3_69_0.tif\n",
            "\n",
            "Processed SID02_2022-03-25_-2_0_0.tifProcessed SID83_2022-05-05_0_0_0.tif\n",
            "\n",
            "Processed SID63_2022-06-07_0_0_0.tif\n",
            "Processed SID02_2022-03-25_-2_0_100.tif\n",
            "Processed SID72_2021-09-05_-1_0_447.tifProcessed SID05_2022-08-09_-1_256_256.tif\n",
            "\n",
            "Processed SID11_2021-12-15_3_107_108.tif\n",
            "Processed SID65_2022-05-26_2_0_0.tif\n",
            "Processed SID24_2022-03-29_-4_128_127.tif\n",
            "Processed SID89_2022-06-15_-1_0_0.tif\n",
            "Processed SID62_2021-10-06_-9_0_372.tifProcessed SID32_2022-03-06_-2_56_56.tif\n",
            "\n",
            "Processed SID71_2021-08-28_1_0_0.tif\n",
            "Processed SID68_2022-05-18_1_193_192.tif\n",
            "Processed SID56_2021-12-19_176_0_0.tif\n",
            "Processed SID09_2021-06-18_-8_0_417.tifProcessed SID60_2022-06-11_3_199_0.tif\n",
            "\n",
            "Processed SID12_2021-12-18_71_85_84.tif\n",
            "Processed SID72_2021-09-05_-1_256_0.tif\n",
            "Processed SID74_2022-06-09_4_0_0.tifProcessed SID08_2022-07-27_2_0_256.tif\n",
            "\n",
            "Processed SID03_2022-07-10_-1_417_416.tif\n",
            "Processed SID06_2022-06-29_0_0_0.tif\n",
            "Processed SID31_2022-03-17_0_91_0.tif\n",
            "Processed SID77_2022-05-07_3_0_0.tif\n",
            "Processed SID70_2021-08-30_-4_466_256.tif\n",
            "Processed SID76_2022-05-31_15_0_0.tifProcessed SID36_2022-09-01_0_464_0.tif\n",
            "\n",
            "Processed SID33_2021-12-17_2_0_0.tifProcessed SID77_2022-05-07_3_256_256.tif\n",
            "\n",
            "Processed SID68_2022-05-18_1_193_0.tif\n",
            "Processed SID22_2021-12-21_0_0_0.tif\n",
            "Processed SID78_2022-04-25_2_100_100.tif\n",
            "Processed SID19_2022-04-12_3_143_0.tif\n",
            "Processed SID06_2022-06-29_0_256_256.tif\n",
            "Processed SID64_2022-05-26_2_300_0.tif\n",
            "Processed SID51_2022-06-12_-1_0_156.tif\n",
            "Processed SID85_2022-06-04_3_73_73.tif\n",
            "Processed SID26_2022-01-06_0_144_144.tif\n",
            "Processed SID37_2022-03-18_0_0_0.tif\n",
            "Processed SID16_2022-07-26_-5_55_54.tif\n",
            "Processed SID45_2022-06-07_2_65_66.tif\n",
            "Processed SID02_2022-03-25_-2_100_100.tif\n",
            "Processed SID64_2022-05-26_2_300_300.tifProcessed SID36_2022-09-01_0_0_0.tif\n",
            "\n",
            "Processed SID39_2022-02-28_2_256_0.tif\n",
            "Processed SID44_2022-05-30_2_61_61.tif\n",
            "Processed SID06_2022-06-29_0_0_518.tif\n",
            "Processed SID61_2022-06-07_0_387_387.tif\n",
            "Processed SID32_2022-03-06_-2_56_0.tif\n",
            "Processed SID61_2022-06-07_0_256_256.tif\n",
            "Processed SID09_2021-06-18_-8_256_417.tif\n",
            "Processed SID64_2022-05-26_2_256_300.tif\n",
            "Processed SID81_2022-06-18_-1_57_0.tif\n",
            "Processed SID88_2022-06-06_4_0_75.tif\n",
            "Processed SID08_2022-07-27_2_423_0.tif\n",
            "Processed SID88_2022-06-06_4_0_0.tif\n",
            "Processed SID63_2022-06-07_0_407_256.tif\n",
            "Processed SID67_2022-06-15_-1_0_0.tif\n",
            "Processed SID54_2022-06-11_3_69_69.tifProcessed SID28_2022-03-16_1_116_117.tif\n",
            "\n",
            "Processed SID72_2021-09-05_-1_256_256.tif\n",
            "Processed SID62_2021-10-06_-9_256_372.tif\n",
            "Processed SID18_2022-03-20_1_0_116.tifProcessed SID60_2022-06-11_3_199_199.tif\n",
            "\n",
            "Processed SID76_2022-05-31_15_197_0.tif\n",
            "Processed SID35_2022-07-18_-4_256_0.tif\n",
            "Processed SID44_2022-05-30_2_0_61.tif\n",
            "Processed SID71_2021-08-28_1_515_515.tif\n",
            "Processed SID06_2022-06-29_0_512_256.tif\n",
            "Processed SID51_2022-06-12_-1_156_156.tif\n",
            "Processed SID03_2022-07-10_-1_0_0.tif\n",
            "Processed SID49_2022-06-09_6_0_0.tif\n",
            "Processed SID53_2022-06-06_1_0_0.tif\n",
            "Processed SID69_2021-08-29_0_256_0.tifProcessed SID88_2022-06-06_4_75_0.tif\n",
            "\n",
            "Processed SID36_2022-09-01_0_256_464.tif\n",
            "Processed SID77_2022-05-07_3_302_302.tif\n",
            "Processed SID53_2022-06-06_1_82_82.tif\n",
            "Processed SID71_2021-08-28_1_512_0.tif\n",
            "Processed SID68_2022-05-18_1_0_192.tifProcessed SID33_2021-12-17_2_54_0.tif\n",
            "\n",
            "Processed SID40_2022-08-27_1_55_55.tif\n",
            "Processed SID77_2022-05-07_3_256_0.tif\n",
            "Processed SID29_2022-03-20_-4_0_0.tif\n",
            "Processed SID14_2022-03-31_-2_69_0.tif\n",
            "Processed SID33_2021-12-17_2_54_55.tif\n",
            "Processed SID61_2022-06-07_0_0_256.tif\n",
            "Processed SID06_2022-06-29_0_512_518.tif\n",
            "Processed SID71_2021-08-28_1_0_256.tif\n",
            "Processed SID62_2021-10-06_-9_256_256.tif\n",
            "Processed SID45_2022-06-07_2_0_66.tifProcessed SID70_2021-08-30_-4_0_256.tif\n",
            "\n",
            "Processed SID03_2022-07-10_-1_0_416.tif\n",
            "Processed SID38_2022-01-28_4_0_55.tif\n",
            "Processed SID87_2022-05-12_2_63_0.tif\n",
            "Processed SID48_2022-05-28_4_107_0.tif\n",
            "Processed SID09_2021-06-18_-8_256_0.tif\n",
            "Processed SID47_2022-06-04_3_0_0.tif\n",
            "Processed SID17_2022-02-19_1_146_145.tif\n",
            "Processed SID03_2022-07-10_-1_256_416.tif\n",
            "Processed SID69_2021-08-29_0_0_632.tif\n",
            "Processed SID77_2022-05-07_3_302_256.tif\n",
            "Processed SID14_2022-03-31_-2_0_0.tif\n",
            "Processed SID82_2022-06-17_0_54_0.tif\n",
            "Processed SID89_2022-06-15_-1_105_105.tif\n",
            "Processed SID39_2022-02-28_2_390_390.tif\n",
            "Processed SID82_2022-06-17_0_0_0.tif\n",
            "Processed SID86_2022-06-22_-5_0_54.tif\n",
            "Processed SID28_2022-03-16_1_0_117.tif\n",
            "Processed SID69_2021-08-29_0_0_512.tif\n",
            "Processed SID61_2022-06-07_0_256_0.tif\n",
            "Processed SID04_2022-03-05_1_0_0.tifProcessed SID85_2022-06-04_3_73_0.tif\n",
            "Processed SID16_2022-07-26_-5_0_54.tif\n",
            "\n",
            "Processed SID18_2022-03-20_1_117_0.tif\n",
            "Processed SID61_2022-06-07_0_387_0.tif\n",
            "Processed SID48_2022-05-28_4_0_0.tif\n",
            "Processed SID64_2022-05-26_2_0_0.tif\n",
            "Processed SID08_2022-07-27_2_0_423.tif\n",
            "Processed SID56_2021-12-19_176_0_99.tif\n",
            "Processed SID24_2022-03-29_-4_0_127.tifProcessed SID79_2022-06-15_1_107_107.tif\n",
            "\n",
            "Processed SID45_2022-06-07_2_65_0.tif\n",
            "Processed SID72_2021-09-05_-1_447_256.tif\n",
            "Processed SID56_2021-12-19_176_99_0.tif\n",
            "Processed SID86_2022-06-22_-5_54_54.tif\n",
            "Processed SID05_2022-08-09_-1_378_0.tif\n",
            "Processed SID06_2022-06-29_0_517_512.tif\n",
            "Processed SID10_2022-03-27_3_0_57.tif\n",
            "Processed SID24_2022-03-29_-4_0_0.tifProcessed SID05_2022-08-09_-1_378_256.tif\n",
            "\n",
            "Processed SID10_2022-03-27_3_56_0.tif\n",
            "Processed SID62_2021-10-06_-9_0_256.tif\n",
            "Processed SID09_2021-06-18_-8_417_256.tif\n",
            "Processed SID52_2022-06-11_0_143_0.tif\n",
            "Processed SID69_2021-08-29_0_632_512.tif\n",
            "Processed SID52_2022-06-11_0_0_143.tif\n",
            "Processed SID83_2022-05-05_0_0_65.tif\n",
            "Processed SID58_2022-04-30_4_0_167.tif\n",
            "Processed SID65_2022-05-26_2_192_191.tifProcessed SID25_2022-03-18_2_126_126.tif\n",
            "\n",
            "Processed SID74_2022-06-09_4_208_207.tif\n",
            "Processed SID43_2022-08-28_-75_0_0.tif\n",
            "Processed SID05_2022-08-09_-1_256_379.tif\n",
            "Processed SID31_2022-03-17_0_0_0.tif\n",
            "Processed SID78_2022-04-25_2_0_0.tif\n",
            "Processed SID09_2021-06-18_-8_0_0.tif\n",
            "Processed SID64_2022-05-26_2_0_300.tif\n",
            "Processed SID23_2022-03-22_1_0_184.tif\n",
            "Processed SID26_2022-01-06_0_144_0.tifProcessed SID80_2021-09-22_1_53_0.tif\n",
            "\n",
            "Processed SID57_2021-12-21_169_0_85.tif\n",
            "Processed SID13_2022-03-14_-4_133_0.tif\n",
            "Processed SID57_2021-12-21_169_0_0.tif\n",
            "Processed SID90_2022-06-12_2_97_0.tif\n",
            "Processed SID44_2022-05-30_2_0_0.tif\n",
            "Processed SID11_2021-12-15_3_0_0.tif\n",
            "Processed SID38_2022-01-28_4_0_0.tif\n",
            "Processed SID09_2021-06-18_-8_0_256.tif\n",
            "Processed SID80_2021-09-22_1_0_0.tif\n",
            "Processed SID59_2022-06-13_1_113_0.tif\n",
            "Processed SID06_2022-06-29_0_517_256.tif\n",
            "Processed SID71_2021-08-28_1_515_512.tif\n",
            "Processed SID47_2022-06-04_3_106_106.tifProcessed SID75_2021-12-19_180_216_216.tifProcessed SID43_2022-08-28_-75_0_66.tif\n",
            "\n",
            "Processed SID04_2022-03-05_1_59_0.tif\n",
            "\n",
            "Processed SID62_2021-10-06_-9_373_372.tif\n",
            "Processed SID01_2022-03-10_4_0_0.tif\n",
            "Processed SID36_2022-09-01_0_464_256.tif\n",
            "Processed SID55_2022-06-04_1_81_0.tif\n",
            "Processed SID11_2021-12-15_3_107_0.tif\n",
            "Processed SID32_2022-03-06_-2_0_0.tif\n",
            "Processed SID58_2022-04-30_4_168_0.tif\n",
            "Processed SID81_2022-06-18_-1_0_0.tif\n",
            "Processed SID34_2022-02-26_6_0_0.tif\n",
            "Processed SID55_2022-06-04_1_0_82.tif\n",
            "Processed SID71_2021-08-28_1_256_256.tif\n",
            "Processed SID52_2022-06-11_0_143_143.tif\n",
            "Processed SID55_2022-06-04_1_0_0.tif\n",
            "Processed SID36_2022-09-01_0_0_256.tif\n",
            "Processed SID13_2022-03-14_-4_133_133.tif\n",
            "Processed SID17_2022-02-19_1_0_0.tif\n",
            "Processed SID06_2022-06-29_0_256_0.tif\n",
            "Processed SID60_2022-06-11_3_0_0.tif\n",
            "Processed SID90_2022-06-12_2_0_0.tif\n",
            "Processed SID21_2021-10-26_-1_0_0.tif\n",
            "Processed SID06_2022-06-29_0_0_512.tifProcessed SID04_2022-03-05_1_0_58.tif\n",
            "\n",
            "Processed SID69_2021-08-29_0_512_632.tif\n",
            "Processed SID13_2022-03-14_-4_0_0.tif\n",
            "Processed SID84_2022-08-11_2_0_60.tif\n",
            "Processed SID08_2022-07-27_2_256_256.tif\n",
            "Processed SID27_2022-03-21_1_69_0.tifProcessed SID50_2022-06-11_-1_0_144.tif\n",
            "Processed SID71_2021-08-28_1_512_256.tif\n",
            "\n",
            "Processed SID28_2022-03-16_1_116_0.tif\n",
            "Processed SID13_2022-03-14_-4_0_133.tif\n",
            "Processed SID70_2021-08-30_-4_466_0.tif\n",
            "Processed SID77_2022-05-07_3_0_256.tifProcessed SID76_2022-05-31_15_0_196.tif\n",
            "\n",
            "Processed SID06_2022-06-29_0_256_518.tif\n",
            "Processed SID36_2022-09-01_0_0_464.tif\n",
            "Processed SID49_2022-06-09_6_0_144.tif\n",
            "Processed SID15_2022-02-24_2_0_70.tif\n",
            "Processed SID27_2022-03-21_1_0_69.tif\n",
            "Processed SID09_2021-06-18_-8_417_417.tifProcessed SID53_2022-06-06_1_0_82.tif\n",
            "\n",
            "Processed SID79_2022-06-15_1_0_107.tifProcessed SID58_2022-04-30_4_168_167.tif\n",
            "\n",
            "Processed SID85_2022-06-04_3_0_0.tif\n",
            "Processed SID60_2022-06-11_3_0_199.tif\n",
            "Processed SID42_2021-12-22_174_0_59.tifProcessed SID18_2022-03-20_1_0_0.tif\n",
            "\n",
            "Processed SID12_2021-12-18_71_0_84.tifProcessed SID28_2022-03-16_1_0_0.tif\n",
            "Processed SID62_2021-10-06_-9_373_0.tif\n",
            "\n",
            "Processed SID34_2022-02-26_6_53_54.tif\n",
            "Processed SID35_2022-07-18_-4_256_256.tif\n",
            "Processed SID23_2022-03-22_1_0_0.tif\n",
            "Processed SID25_2022-03-18_2_0_0.tif\n",
            "Processed SID61_2022-06-07_0_387_256.tifProcessed SID76_2022-05-31_15_197_196.tif\n",
            "Processed SID24_2022-03-29_-4_128_0.tif\n",
            "\n",
            "Processed SID69_2021-08-29_0_256_632.tif\n",
            "Processed SID41_2022-04-05_-9_0_0.tif\n",
            "Processed SID25_2022-03-18_2_126_0.tif\n",
            "Processed SID65_2022-05-26_2_192_0.tif\n",
            "Processed SID05_2022-08-09_-1_256_0.tif\n",
            "Processed SID42_2021-12-22_174_58_59.tifProcessed SID88_2022-06-06_4_75_75.tif\n",
            "\n",
            "Processed SID40_2022-08-27_1_0_55.tif\n",
            "Processed SID68_2022-05-18_1_0_0.tif\n",
            "Processed SID62_2021-10-06_-9_256_0.tif\n",
            "Processed SID37_2022-03-18_0_0_226.tif\n",
            "Processed SID64_2022-05-26_2_300_256.tif\n",
            "Processed SID35_2022-07-18_-4_349_0.tif\n",
            "Processed SID40_2022-08-27_1_0_0.tif\n",
            "Processed SID05_2022-08-09_-1_0_0.tif\n",
            "Processed SID17_2022-02-19_1_0_145.tif\n",
            "Processed SID39_2022-02-28_2_256_390.tif\n",
            "Processed SID02_2022-03-25_-2_100_0.tif\n",
            "Processed SID69_2021-08-29_0_632_0.tif\n",
            "Processed SID84_2022-08-11_2_61_60.tifProcessed SID63_2022-06-07_0_407_407.tif\n",
            "\n",
            "Processed SID33_2021-12-17_2_0_55.tif\n",
            "Processed SID90_2022-06-12_2_0_97.tif\n",
            "Processed SID35_2022-07-18_-4_256_349.tifProcessed SID72_2021-09-05_-1_256_447.tif\n",
            "Processed SID19_2022-04-12_3_0_0.tif\n",
            "\n",
            "Processed SID67_2022-06-15_-1_152_153.tif\n",
            "Processed SID39_2022-02-28_2_390_0.tif\n",
            "Processed SID83_2022-05-05_0_65_0.tifProcessed SID77_2022-05-07_3_302_0.tif\n",
            "\n",
            "Processed SID01_2022-03-10_4_0_76.tif\n",
            "Processed SID71_2021-08-28_1_0_515.tif\n",
            "Processed SID08_2022-07-27_2_0_0.tif\n",
            "Processed SID75_2021-12-19_180_0_0.tif\n",
            "Processed SID72_2021-09-05_-1_0_0.tif\n",
            "Processed SID35_2022-07-18_-4_0_0.tif\n",
            "Processed SID69_2021-08-29_0_512_512.tif\n",
            "Processed SID31_2022-03-17_0_91_92.tif\n",
            "Processed SID86_2022-06-22_-5_0_0.tif\n",
            "Processed SID20_2022-03-17_-4_0_0.tif\n",
            "Processed SID19_2022-04-12_3_143_142.tif\n",
            "Processed SID74_2022-06-09_4_208_0.tif\n",
            "Processed SID64_2022-05-26_2_0_256.tifProcessed SID79_2022-06-15_1_107_0.tif\n",
            "\n",
            "Processed SID61_2022-06-07_0_0_0.tif\n",
            "Processed SID71_2021-08-28_1_515_256.tif\n",
            "Processed SID17_2022-02-19_1_146_0.tif\n",
            "Processed SID51_2022-06-12_-1_156_0.tifProcessed SID20_2022-03-17_-4_98_0.tif\n",
            "\n",
            "Processed SID51_2022-06-12_-1_0_0.tifProcessed SID39_2022-02-28_2_256_256.tif\n",
            "\n",
            "Processed SID15_2022-02-24_2_69_70.tif\n",
            "Processed SID69_2021-08-29_0_256_512.tif\n",
            "Processed SID69_2021-08-29_0_632_632.tif\n",
            "Processed SID41_2022-04-05_-9_64_0.tif\n",
            "Processed SID43_2022-08-28_-75_66_66.tif\n",
            "Processed SID01_2022-03-10_4_77_0.tif\n",
            "Processed SID18_2022-03-20_1_117_116.tifProcessed SID21_2021-10-26_-1_69_0.tif\n",
            "\n",
            "Processed SID35_2022-07-18_-4_0_349.tif\n",
            "Processed SID25_2022-03-18_2_0_126.tifProcessed SID26_2022-01-06_0_0_144.tif\n",
            "Processed SID84_2022-08-11_2_61_0.tif\n",
            "\n",
            "Processed SID39_2022-02-28_2_0_390.tif\n",
            "Processed SID67_2022-06-15_-1_152_0.tif\n",
            "Processed SID16_2022-07-26_-5_55_0.tif\n",
            "Processed SID35_2022-07-18_-4_349_349.tifProcessed SID83_2022-05-05_0_65_65.tif\n",
            "\n",
            "Processed SID05_2022-08-09_-1_0_256.tifProcessed SID39_2022-02-28_2_0_256.tif\n",
            "\n",
            "Processed SID41_2022-04-05_-9_0_64.tifProcessed SID71_2021-08-28_1_0_512.tif\n",
            "Processed SID27_2022-03-21_1_69_69.tifProcessed SID09_2021-06-18_-8_256_256.tif\n",
            "\n",
            "\n",
            "Processed SID74_2022-06-09_4_0_207.tifProcessed SID20_2022-03-17_-4_98_98.tif\n",
            "Processed SID63_2022-06-07_0_256_407.tifProcessed SID69_2021-08-29_0_632_256.tif\n",
            "\n",
            "\n",
            "Processed SID89_2022-06-15_-1_0_105.tifProcessed SID71_2021-08-28_1_512_512.tif\n",
            "\n",
            "Processed SID71_2021-08-28_1_256_0.tif\n",
            "Processed SID41_2022-04-05_-9_64_64.tifProcessed SID29_2022-03-20_-4_0_59.tif\n",
            "\n",
            "Processed SID63_2022-06-07_0_0_407.tifProcessed SID59_2022-06-13_1_0_113.tifProcessed SID69_2021-08-29_0_256_256.tif\n",
            "\n",
            "\n",
            "Processed SID81_2022-06-18_-1_0_56.tifProcessed SID71_2021-08-28_1_256_512.tif\n",
            "Processed SID70_2021-08-30_-4_256_0.tif\n",
            "\n",
            "Processed SID12_2021-12-18_71_0_0.tifProcessed SID50_2022-06-11_-1_0_0.tif\n",
            "\n",
            "Processed SID62_2021-10-06_-9_0_0.tif\n",
            "Processed SID23_2022-03-22_1_184_184.tif\n",
            "Processed SID63_2022-06-07_0_256_0.tif\n",
            "Processed SID35_2022-07-18_-4_0_256.tifProcessed SID75_2021-12-19_180_216_0.tif\n",
            "\n",
            "Processed SID53_2022-06-06_1_82_0.tif\n",
            "Processed SID06_2022-06-29_0_517_0.tif\n",
            "Processed SID63_2022-06-07_0_407_0.tif\n",
            "Processed SID55_2022-06-04_1_81_82.tif\n",
            "Processed SID75_2021-12-19_180_0_216.tif\n",
            "Processed SID70_2021-08-30_-4_466_467.tif\n",
            "Processed SID46_2022-05-14_0_74_0.tif\n",
            "Processed SID06_2022-06-29_0_0_256.tifProcessed SID87_2022-05-12_2_0_63.tif\n",
            "\n",
            "Processed SID21_2021-10-26_-1_0_68.tif\n",
            "Processed SID19_2022-04-12_3_0_142.tif\n",
            "Processed SID84_2022-08-11_2_0_0.tif\n",
            "Processed SID50_2022-06-11_-1_144_144.tif\n",
            "Processed SID26_2022-01-06_0_0_0.tifProcessed SID45_2022-06-07_2_0_0.tif\n",
            "\n",
            "Processed SID82_2022-06-17_0_0_54.tif\n",
            "Processed SID38_2022-01-28_4_56_55.tif\n",
            "Processed SID36_2022-09-01_0_464_464.tif\n",
            "Processed SID30_2022-08-21_2_0_0.tifProcessed SID57_2021-12-21_169_84_85.tif\n",
            "\n",
            "Processed SID08_2022-07-27_2_256_423.tif\n",
            "Processed SID22_2021-12-21_0_0_109.tif\n",
            "Processed SID05_2022-08-09_-1_0_379.tifProcessed SID71_2021-08-28_1_256_515.tif\n",
            "\n",
            "Processed SID30_2022-08-21_2_55_0.tifProcessed SID61_2022-06-07_0_0_387.tif\n",
            "\n",
            "Processed SID63_2022-06-07_0_0_256.tifProcessed SID34_2022-02-26_6_0_54.tifProcessed SID86_2022-06-22_-5_54_0.tif\n",
            "\n",
            "\n",
            "Processed SID14_2022-03-31_-2_69_68.tif\n",
            "Processed SID37_2022-03-18_0_226_0.tif\n",
            "Processed SID50_2022-06-11_-1_144_0.tifProcessed SID16_2022-07-26_-5_0_0.tifProcessed SID23_2022-03-22_1_184_0.tif\n",
            "\n",
            "\n",
            "Processed SID59_2022-06-13_1_0_0.tifProcessed SID21_2021-10-26_-1_69_68.tif\n",
            "Processed SID87_2022-05-12_2_0_0.tif\n",
            "\n",
            "Processed SID11_2021-12-15_3_0_108.tif\n",
            "Processed SID08_2022-07-27_2_256_0.tif\n",
            "Processed SID09_2021-06-18_-8_417_0.tif\n",
            "Processed SID06_2022-06-29_0_256_512.tif\n",
            "Processed SID27_2022-03-21_1_0_0.tif\n",
            "Processed SID56_2021-12-19_176_99_99.tif\n",
            "Processed SID39_2022-02-28_2_390_256.tif\n",
            "Processed SID62_2021-10-06_-9_373_256.tifProcessed SID01_2022-03-10_4_77_76.tif\n",
            "\n",
            "Processed SID03_2022-07-10_-1_417_256.tif\n",
            "Processed SID22_2021-12-21_0_110_0.tif\n",
            "Processed SID30_2022-08-21_2_55_54.tifProcessed SID61_2022-06-07_0_256_387.tifProcessed SID80_2021-09-22_1_0_54.tif\n",
            "\n",
            "\n",
            "Processed SID65_2022-05-26_2_0_191.tifProcessed SID42_2021-12-22_174_58_0.tif\n",
            "Processed SID64_2022-05-26_2_256_0.tif\n",
            "\n",
            "Processed SID37_2022-03-18_0_226_226.tifProcessed SID46_2022-05-14_0_74_74.tifProcessed SID36_2022-09-01_0_256_0.tif\n",
            "\n",
            "\n",
            "Processed SID39_2022-02-28_2_0_0.tif\n",
            "Processed SID77_2022-05-07_3_256_302.tif\n",
            "Processed SID82_2022-06-17_0_54_54.tif\n",
            "Processed SID10_2022-03-27_3_0_0.tif\n",
            "Processed SID20_2022-03-17_-4_0_98.tifProcessed SID77_2022-05-07_3_0_302.tif\n",
            "\n",
            "Processed SID54_2022-06-11_3_0_0.tif\n",
            "Processed SID35_2022-07-18_-4_349_256.tif\n",
            "Processed SID87_2022-05-12_2_63_63.tif\n",
            "Processed SID03_2022-07-10_-1_256_256.tif\n",
            "Processed SID49_2022-06-09_6_144_144.tif\n",
            "Processed SID59_2022-06-13_1_113_113.tif\n",
            "Processed SID32_2022-03-06_-2_0_56.tif\n",
            "Processed SID48_2022-05-28_4_107_107.tif\n",
            "Processed SID54_2022-06-11_3_0_69.tif\n",
            "Processed SID30_2022-08-21_2_0_54.tif\n",
            "Processed SID81_2022-06-18_-1_57_56.tif\n",
            "Processed SID85_2022-06-04_3_0_73.tif\n",
            "Processed SID38_2022-01-28_4_56_0.tif\n",
            "Processed SID36_2022-09-01_0_256_256.tif\n",
            "Processed SID49_2022-06-09_6_144_0.tif\n",
            "Processed SID42_2021-12-22_174_0_0.tif\n",
            "Processed SID57_2021-12-21_169_84_0.tif\n",
            "Processed SID15_2022-02-24_2_69_0.tif\n",
            "Processed SID47_2022-06-04_3_0_106.tifProcessed SID06_2022-06-29_0_512_512.tif\n",
            "\n",
            "Processed SID72_2021-09-05_-1_447_0.tif\n",
            "Processed SID48_2022-05-28_4_0_107.tif\n",
            "Processed SID03_2022-07-10_-1_256_0.tif\n",
            "Processed SID03_2022-07-10_-1_417_0.tif\n",
            "Processed SID69_2021-08-29_0_0_256.tif\n",
            "Processed SID63_2022-06-07_0_256_256.tif\n",
            "Processed SID58_2022-04-30_4_0_0.tif\n",
            "Processed SID72_2021-09-05_-1_447_447.tif\n",
            "Processed SID46_2022-05-14_0_0_74.tif\n",
            "Processed SID08_2022-07-27_2_423_423.tif\n",
            "Processed SID78_2022-04-25_2_0_100.tif\n",
            "Processed SID70_2021-08-30_-4_256_467.tif\n",
            "Processed SID79_2022-06-15_1_0_0.tif\n",
            "Processed SID72_2021-09-05_-1_0_256.tif\n",
            "Processed SID44_2022-05-30_2_61_0.tif\n",
            "Processed SID14_2022-03-31_-2_0_68.tif\n",
            "Processed SID34_2022-02-26_6_53_0.tif\n",
            "Processed SID12_2021-12-18_71_85_0.tif\n",
            "Processed SID15_2022-02-24_2_0_0.tif\n",
            "Processed SID46_2022-05-14_0_0_0.tif\n",
            "Processed SID03_2022-07-10_-1_0_256.tif\n",
            "Processed SID06_2022-06-29_0_517_518.tif\n",
            "Processed SID40_2022-08-27_1_55_0.tif\n",
            "Processed SID43_2022-08-28_-75_66_0.tif\n",
            "Processed SID05_2022-08-09_-1_378_379.tif\n",
            "Processed SID06_2022-06-29_0_512_0.tif\n",
            "Processed SID04_2022-03-05_1_59_58.tifProcessed SID71_2021-08-28_1_512_515.tif\n",
            "\n",
            "Processed SID69_2021-08-29_0_512_256.tif\n",
            "Processed SID78_2022-04-25_2_100_0.tif\n",
            "Processed SID67_2022-06-15_-1_0_153.tif\n",
            "Processed SID89_2022-06-15_-1_105_0.tif\n",
            "Processed SID29_2022-03-20_-4_59_0.tif\n",
            "Processed SID80_2021-09-22_1_53_54.tif\n",
            "Processed SID31_2022-03-17_0_0_92.tif\n",
            "Processed SID70_2021-08-30_-4_0_0.tif\n",
            "Processed SID69_2021-08-29_0_512_0.tif\n",
            "Processed SID70_2021-08-30_-4_256_256.tif\n",
            "Processed SID52_2022-06-11_0_0_0.tif\n",
            "Processed SID64_2022-05-26_2_256_256.tif\n",
            "Processed SID10_2022-03-27_3_56_57.tif\n",
            "Processed SID29_2022-03-20_-4_59_59.tif\n",
            "Processed SID22_2021-12-21_0_110_109.tif\n"
          ]
        }
      ]
    },
    {
      "cell_type": "code",
      "source": [
        "#setup the inference folder\n",
        "inferSet = [fn for fn in sorted((Path(outputInference)).glob('**/*')) if fn.is_file()]"
      ],
      "metadata": {
        "id": "gAqPEHjXjcWN"
      },
      "execution_count": 21,
      "outputs": []
    },
    {
      "cell_type": "code",
      "execution_count": 22,
      "metadata": {
        "id": "mBWq2jV1j6Pg"
      },
      "outputs": [],
      "source": [
        "test_dl = modelS1Global.dls.test_dl(inferSet)"
      ]
    },
    {
      "cell_type": "code",
      "execution_count": 23,
      "metadata": {
        "colab": {
          "base_uri": "https://localhost:8080/",
          "height": 17
        },
        "outputId": "4550304a-e07e-461a-fe34-8e494f7200b2",
        "id": "qmx7nSgcj6Pg"
      },
      "outputs": [
        {
          "output_type": "display_data",
          "data": {
            "text/plain": [
              "<IPython.core.display.HTML object>"
            ],
            "text/html": [
              "\n",
              "<style>\n",
              "    /* Turns off some styling */\n",
              "    progress {\n",
              "        /* gets rid of default border in Firefox and Opera. */\n",
              "        border: none;\n",
              "        /* Needs to be in here for Safari polyfill so background images work as expected. */\n",
              "        background-size: auto;\n",
              "    }\n",
              "    progress:not([value]), progress:not([value])::-webkit-progress-bar {\n",
              "        background: repeating-linear-gradient(45deg, #7e7e7e, #7e7e7e 10px, #5c5c5c 10px, #5c5c5c 20px);\n",
              "    }\n",
              "    .progress-bar-interrupted, .progress-bar-interrupted::-webkit-progress-bar {\n",
              "        background: #F44336;\n",
              "    }\n",
              "</style>\n"
            ]
          },
          "metadata": {}
        },
        {
          "output_type": "display_data",
          "data": {
            "text/plain": [
              "<IPython.core.display.HTML object>"
            ],
            "text/html": []
          },
          "metadata": {}
        }
      ],
      "source": [
        "preds = modelS1Global.get_preds(dl=test_dl)"
      ]
    },
    {
      "cell_type": "code",
      "execution_count": 24,
      "metadata": {
        "colab": {
          "base_uri": "https://localhost:8080/"
        },
        "id": "Z7tuqHg0j6Ph",
        "outputId": "f611c738-1c04-4556-ed4f-5effccc70243"
      },
      "outputs": [
        {
          "output_type": "stream",
          "name": "stdout",
          "text": [
            "All images have been saved in the 'predictedImages' folder.\n"
          ]
        }
      ],
      "source": [
        "#save predicted images\n",
        "import os\n",
        "from PIL import Image\n",
        "import numpy as np\n",
        "\n",
        "# Create a folder named 'output_images' if it doesn't exist\n",
        "output_folder = 'predictedImages'\n",
        "if not os.path.exists(output_folder):\n",
        "    os.makedirs(output_folder)\n",
        "\n",
        "# Your loop for saving images\n",
        "for i, pred in enumerate(preds[0]):\n",
        "    pred_arg = pred.argmax(dim=0).numpy().astype(np.uint8)\n",
        "    im = Image.fromarray(pred_arg)\n",
        "\n",
        "    # Extract the image name from its full path\n",
        "    image_name = str(inferSet[i].name).split('/')[-1]\n",
        "\n",
        "    # Combine the folder name with the image name\n",
        "    save_path = os.path.join(output_folder, image_name)\n",
        "\n",
        "    # Save the image in the specified folder\n",
        "    im.save(save_path)\n",
        "\n",
        "print(f\"All images have been saved in the '{output_folder}' folder.\")"
      ]
    },
    {
      "cell_type": "code",
      "source": [
        "#georeference predictions\n",
        "\n",
        "input_folder = 'predictedImages'\n",
        "reference_folder = outputInference\n",
        "output_folder = 'waterMapPredictions'\n",
        "\n",
        "# Ensure the output folder exists\n",
        "os.makedirs(output_folder, exist_ok=True)\n",
        "\n",
        "# Iterate over all files in the input directory\n",
        "for filename in os.listdir(input_folder):\n",
        "    # Only process .tif files\n",
        "    _, extension = os.path.splitext(filename)\n",
        "    if extension.lower() != '.tif':\n",
        "        continue\n",
        "\n",
        "    input_filepath = os.path.join(input_folder, filename)\n",
        "    reference_filepath = os.path.join(reference_folder, filename)\n",
        "\n",
        "    # Read the reference image\n",
        "    with rasterio.open(reference_filepath) as ref_src:\n",
        "        ref_crs = ref_src.crs\n",
        "        ref_transform = ref_src.transform\n",
        "\n",
        "    # Read the original image\n",
        "    with rasterio.open(input_filepath) as src:\n",
        "        array = src.read()\n",
        "        profile = src.profile\n",
        "\n",
        "    # Update the profile with the reference CRS and transform\n",
        "    profile.update({\n",
        "        'crs': ref_crs,\n",
        "        'transform': ref_transform,\n",
        "    })\n",
        "\n",
        "    # Write the image data back with the updated profile\n",
        "    output_filepath = os.path.join(output_folder, filename)\n",
        "    with rasterio.open(output_filepath, 'w', **profile) as dst:\n",
        "        dst.write(array)\n"
      ],
      "metadata": {
        "colab": {
          "base_uri": "https://localhost:8080/"
        },
        "id": "uAvMyzHbo4RO",
        "outputId": "5e04c8bf-ceb3-414f-d8fc-d86b016f698a"
      },
      "execution_count": 25,
      "outputs": [
        {
          "output_type": "stream",
          "name": "stderr",
          "text": [
            "/usr/local/lib/python3.10/dist-packages/rasterio/__init__.py:304: NotGeoreferencedWarning: Dataset has no geotransform, gcps, or rpcs. The identity matrix will be returned.\n",
            "  dataset = DatasetReader(path, driver=driver, sharing=sharing, **kwargs)\n"
          ]
        }
      ]
    },
    {
      "cell_type": "code",
      "source": [
        "#moaic the 256x256 patches to their original\n",
        "from collections import defaultdict\n",
        "import rasterio as rio\n",
        "from rasterio.merge import merge\n",
        "\n",
        "# Step 1: Scan folder and organize files into groups\n",
        "input_folder = r\"/content/waterMapPredictions\"\n",
        "output_folder = r\"/content/waterMapPredictions_mosaic\"\n",
        "\n",
        "# Create output folder if it doesn't exist\n",
        "if not os.path.exists(output_folder):\n",
        "    os.makedirs(output_folder)\n",
        "\n",
        "files = os.listdir(input_folder)\n",
        "file_groups = defaultdict(list)\n",
        "\n",
        "for file in files:\n",
        "    if file.endswith('.tif'):\n",
        "        parts = file.split(\"_\")\n",
        "        if len(parts) > 1:\n",
        "            prefix = f\"{parts[0]}_{parts[1]}\"\n",
        "            file_groups[prefix].append(os.path.join(input_folder, file))\n",
        "\n",
        "# Step 2 and 3: Read files and mosaic them\n",
        "for prefix, file_group in file_groups.items():\n",
        "    src_files_to_mosaic = [rio.open(fp) for fp in file_group]\n",
        "\n",
        "    # Merge function returns a single mosaic array and the transformation info\n",
        "    mosaic, out_trans = merge(src_files_to_mosaic)\n",
        "\n",
        "    # Copy the metadata\n",
        "    out_meta = src_files_to_mosaic[0].meta.copy()\n",
        "\n",
        "    # Update the metadata\n",
        "    out_meta.update({\"driver\": \"GTiff\",\n",
        "                     \"height\": mosaic.shape[1],\n",
        "                     \"width\": mosaic.shape[2],\n",
        "                     \"transform\": out_trans})\n",
        "\n",
        "    # Step 4: Write the mosaic raster to disk\n",
        "    with rio.open(os.path.join(output_folder, f\"{prefix}.tif\"), \"w\", **out_meta) as dest:\n",
        "        dest.write(mosaic)\n",
        "\n",
        "    # Close files\n",
        "    for src in src_files_to_mosaic:\n",
        "        src.close()\n"
      ],
      "metadata": {
        "id": "rD2sNaPTP3L-"
      },
      "execution_count": 26,
      "outputs": []
    },
    {
      "cell_type": "code",
      "source": [
        "# prompt: zip a folder\n",
        "\n",
        "!zip -r waterMapPredictions.zip /content/waterMapPredictions_mosaic/"
      ],
      "metadata": {
        "id": "iP3bBqiEI4ms",
        "colab": {
          "base_uri": "https://localhost:8080/"
        },
        "outputId": "e9910e08-5be4-4129-a2de-6d055c4ab98c"
      },
      "execution_count": 27,
      "outputs": [
        {
          "output_type": "stream",
          "name": "stdout",
          "text": [
            "  adding: content/waterMapPredictions_mosaic/ (stored 0%)\n",
            "  adding: content/waterMapPredictions_mosaic/SID62_2021-10-06.tif (deflated 99%)\n",
            "  adding: content/waterMapPredictions_mosaic/SID11_2021-12-15.tif (deflated 98%)\n",
            "  adding: content/waterMapPredictions_mosaic/SID65_2022-05-26.tif (deflated 100%)\n",
            "  adding: content/waterMapPredictions_mosaic/SID56_2021-12-19.tif (deflated 99%)\n",
            "  adding: content/waterMapPredictions_mosaic/SID38_2022-01-28.tif (deflated 99%)\n",
            "  adding: content/waterMapPredictions_mosaic/SID87_2022-05-12.tif (deflated 99%)\n",
            "  adding: content/waterMapPredictions_mosaic/SID68_2022-05-18.tif (deflated 99%)\n",
            "  adding: content/waterMapPredictions_mosaic/SID10_2022-03-27.tif (deflated 98%)\n",
            "  adding: content/waterMapPredictions_mosaic/SID13_2022-03-14.tif (deflated 99%)\n",
            "  adding: content/waterMapPredictions_mosaic/SID02_2022-03-25.tif (deflated 98%)\n",
            "  adding: content/waterMapPredictions_mosaic/SID63_2022-06-07.tif (deflated 98%)\n",
            "  adding: content/waterMapPredictions_mosaic/SID04_2022-03-05.tif (deflated 98%)\n",
            "  adding: content/waterMapPredictions_mosaic/SID41_2022-04-05.tif (deflated 98%)\n",
            "  adding: content/waterMapPredictions_mosaic/SID21_2021-10-26.tif (deflated 99%)\n",
            "  adding: content/waterMapPredictions_mosaic/SID77_2022-05-07.tif (deflated 98%)\n",
            "  adding: content/waterMapPredictions_mosaic/SID50_2022-06-11.tif (deflated 100%)\n",
            "  adding: content/waterMapPredictions_mosaic/SID22_2021-12-21.tif (deflated 98%)\n",
            "  adding: content/waterMapPredictions_mosaic/SID83_2022-05-05.tif (deflated 99%)\n",
            "  adding: content/waterMapPredictions_mosaic/SID24_2022-03-29.tif (deflated 99%)\n",
            "  adding: content/waterMapPredictions_mosaic/SID74_2022-06-09.tif (deflated 98%)\n",
            "  adding: content/waterMapPredictions_mosaic/SID03_2022-07-10.tif (deflated 98%)\n",
            "  adding: content/waterMapPredictions_mosaic/SID39_2022-02-28.tif (deflated 96%)\n",
            "  adding: content/waterMapPredictions_mosaic/SID18_2022-03-20.tif (deflated 99%)\n",
            "  adding: content/waterMapPredictions_mosaic/SID06_2022-06-29.tif (deflated 99%)\n",
            "  adding: content/waterMapPredictions_mosaic/SID58_2022-04-30.tif (deflated 99%)\n",
            "  adding: content/waterMapPredictions_mosaic/SID20_2022-03-17.tif (deflated 99%)\n",
            "  adding: content/waterMapPredictions_mosaic/SID85_2022-06-04.tif (deflated 99%)\n",
            "  adding: content/waterMapPredictions_mosaic/SID32_2022-03-06.tif (deflated 99%)\n",
            "  adding: content/waterMapPredictions_mosaic/SID33_2021-12-17.tif (deflated 98%)\n",
            "  adding: content/waterMapPredictions_mosaic/SID48_2022-05-28.tif (deflated 98%)\n",
            "  adding: content/waterMapPredictions_mosaic/SID79_2022-06-15.tif (deflated 99%)\n",
            "  adding: content/waterMapPredictions_mosaic/SID31_2022-03-17.tif (deflated 100%)\n",
            "  adding: content/waterMapPredictions_mosaic/SID67_2022-06-15.tif (deflated 99%)\n",
            "  adding: content/waterMapPredictions_mosaic/SID88_2022-06-06.tif (deflated 100%)\n",
            "  adding: content/waterMapPredictions_mosaic/SID71_2021-08-28.tif (deflated 98%)\n",
            "  adding: content/waterMapPredictions_mosaic/SID05_2022-08-09.tif (deflated 98%)\n",
            "  adding: content/waterMapPredictions_mosaic/SID42_2021-12-22.tif (deflated 99%)\n",
            "  adding: content/waterMapPredictions_mosaic/SID60_2022-06-11.tif (deflated 97%)\n",
            "  adding: content/waterMapPredictions_mosaic/SID01_2022-03-10.tif (deflated 98%)\n",
            "  adding: content/waterMapPredictions_mosaic/SID12_2021-12-18.tif (deflated 97%)\n",
            "  adding: content/waterMapPredictions_mosaic/SID27_2022-03-21.tif (deflated 99%)\n",
            "  adding: content/waterMapPredictions_mosaic/SID28_2022-03-16.tif (deflated 98%)\n",
            "  adding: content/waterMapPredictions_mosaic/SID53_2022-06-06.tif (deflated 98%)\n",
            "  adding: content/waterMapPredictions_mosaic/SID17_2022-02-19.tif (deflated 99%)\n",
            "  adding: content/waterMapPredictions_mosaic/SID80_2021-09-22.tif (deflated 99%)\n",
            "  adding: content/waterMapPredictions_mosaic/SID46_2022-05-14.tif (deflated 96%)\n",
            "  adding: content/waterMapPredictions_mosaic/SID78_2022-04-25.tif (deflated 99%)\n",
            "  adding: content/waterMapPredictions_mosaic/SID76_2022-05-31.tif (deflated 99%)\n",
            "  adding: content/waterMapPredictions_mosaic/SID43_2022-08-28.tif (deflated 99%)\n",
            "  adding: content/waterMapPredictions_mosaic/SID52_2022-06-11.tif (deflated 99%)\n",
            "  adding: content/waterMapPredictions_mosaic/SID81_2022-06-18.tif (deflated 99%)\n",
            "  adding: content/waterMapPredictions_mosaic/SID89_2022-06-15.tif (deflated 99%)\n",
            "  adding: content/waterMapPredictions_mosaic/SID72_2021-09-05.tif (deflated 99%)\n",
            "  adding: content/waterMapPredictions_mosaic/SID75_2021-12-19.tif (deflated 100%)\n",
            "  adding: content/waterMapPredictions_mosaic/SID09_2021-06-18.tif (deflated 99%)\n",
            "  adding: content/waterMapPredictions_mosaic/SID16_2022-07-26.tif (deflated 98%)\n",
            "  adding: content/waterMapPredictions_mosaic/SID59_2022-06-13.tif (deflated 98%)\n",
            "  adding: content/waterMapPredictions_mosaic/SID19_2022-04-12.tif (deflated 99%)\n",
            "  adding: content/waterMapPredictions_mosaic/SID35_2022-07-18.tif (deflated 99%)\n",
            "  adding: content/waterMapPredictions_mosaic/SID54_2022-06-11.tif (deflated 99%)\n",
            "  adding: content/waterMapPredictions_mosaic/SID86_2022-06-22.tif (deflated 99%)\n",
            "  adding: content/waterMapPredictions_mosaic/SID55_2022-06-04.tif (deflated 98%)\n",
            "  adding: content/waterMapPredictions_mosaic/SID29_2022-03-20.tif (deflated 98%)\n",
            "  adding: content/waterMapPredictions_mosaic/SID40_2022-08-27.tif (deflated 98%)\n",
            "  adding: content/waterMapPredictions_mosaic/SID26_2022-01-06.tif (deflated 100%)\n",
            "  adding: content/waterMapPredictions_mosaic/SID47_2022-06-04.tif (deflated 99%)\n",
            "  adding: content/waterMapPredictions_mosaic/SID90_2022-06-12.tif (deflated 99%)\n",
            "  adding: content/waterMapPredictions_mosaic/SID45_2022-06-07.tif (deflated 98%)\n",
            "  adding: content/waterMapPredictions_mosaic/SID70_2021-08-30.tif (deflated 98%)\n",
            "  adding: content/waterMapPredictions_mosaic/SID36_2022-09-01.tif (deflated 99%)\n",
            "  adding: content/waterMapPredictions_mosaic/SID82_2022-06-17.tif (deflated 98%)\n",
            "  adding: content/waterMapPredictions_mosaic/SID84_2022-08-11.tif (deflated 99%)\n",
            "  adding: content/waterMapPredictions_mosaic/SID37_2022-03-18.tif (deflated 99%)\n",
            "  adding: content/waterMapPredictions_mosaic/SID23_2022-03-22.tif (deflated 99%)\n",
            "  adding: content/waterMapPredictions_mosaic/SID69_2021-08-29.tif (deflated 99%)\n",
            "  adding: content/waterMapPredictions_mosaic/SID15_2022-02-24.tif (deflated 98%)\n",
            "  adding: content/waterMapPredictions_mosaic/SID51_2022-06-12.tif (deflated 99%)\n",
            "  adding: content/waterMapPredictions_mosaic/SID64_2022-05-26.tif (deflated 99%)\n",
            "  adding: content/waterMapPredictions_mosaic/SID49_2022-06-09.tif (deflated 99%)\n",
            "  adding: content/waterMapPredictions_mosaic/SID25_2022-03-18.tif (deflated 99%)\n",
            "  adding: content/waterMapPredictions_mosaic/SID44_2022-05-30.tif (deflated 98%)\n",
            "  adding: content/waterMapPredictions_mosaic/SID34_2022-02-26.tif (deflated 98%)\n",
            "  adding: content/waterMapPredictions_mosaic/SID08_2022-07-27.tif (deflated 99%)\n",
            "  adding: content/waterMapPredictions_mosaic/SID57_2021-12-21.tif (deflated 97%)\n",
            "  adding: content/waterMapPredictions_mosaic/SID30_2022-08-21.tif (deflated 99%)\n",
            "  adding: content/waterMapPredictions_mosaic/SID61_2022-06-07.tif (deflated 99%)\n",
            "  adding: content/waterMapPredictions_mosaic/SID14_2022-03-31.tif (deflated 98%)\n"
          ]
        }
      ]
    },
    {
      "cell_type": "code",
      "source": [],
      "metadata": {
        "id": "fUzP37MlI4pF"
      },
      "execution_count": null,
      "outputs": []
    }
  ],
  "metadata": {
    "colab": {
      "provenance": [],
      "gpuClass": "premium",
      "machine_shape": "hm",
      "gpuType": "T4"
    },
    "kernelspec": {
      "display_name": "Python 3",
      "name": "python3"
    },
    "language_info": {
      "name": "python"
    },
    "accelerator": "GPU"
  },
  "nbformat": 4,
  "nbformat_minor": 0
}